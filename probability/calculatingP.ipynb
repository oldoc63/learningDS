{
 "cells": [
  {
   "cell_type": "markdown",
   "metadata": {},
   "source": [
    "### Calculating Probabilities"
   ]
  },
  {
   "cell_type": "code",
   "execution_count": 2,
   "metadata": {},
   "outputs": [],
   "source": [
    "import numpy as np\n",
    "import matplotlib.pyplot as plt\n",
    "from scipy import stats"
   ]
  },
  {
   "cell_type": "code",
   "execution_count": 3,
   "metadata": {},
   "outputs": [
    {
     "data": {
      "text/plain": [
       "0.8821600432854813"
      ]
     },
     "execution_count": 3,
     "metadata": {},
     "output_type": "execute_result"
    }
   ],
   "source": [
    "x = 75\n",
    "mean = 60\n",
    "std_dev = 40\n",
    "samp_size = 10\n",
    "standard_error = std_dev / (samp_size**.5)\n",
    "\n",
    "stats.norm.cdf(x, mean, standard_error)\n",
    "\n"
   ]
  },
  {
   "attachments": {},
   "cell_type": "markdown",
   "metadata": {},
   "source": [
    "The probability that the average weight of our sample of 10 fish will be less than or equal to 75 lbs is 88.2%."
   ]
  }
 ],
 "metadata": {
  "kernelspec": {
   "display_name": "codecademy",
   "language": "python",
   "name": "python3"
  },
  "language_info": {
   "codemirror_mode": {
    "name": "ipython",
    "version": 3
   },
   "file_extension": ".py",
   "mimetype": "text/x-python",
   "name": "python",
   "nbconvert_exporter": "python",
   "pygments_lexer": "ipython3",
   "version": "3.10.8"
  },
  "orig_nbformat": 4,
  "vscode": {
   "interpreter": {
    "hash": "ab43b87d2b275c094522edddecea71cc47fbe84ac28fa3c61b2da2b63a30f23f"
   }
  }
 },
 "nbformat": 4,
 "nbformat_minor": 2
}
