{
 "cells": [
  {
   "cell_type": "markdown",
   "metadata": {},
   "source": [
    "### Calculating Probabilities"
   ]
  },
  {
   "attachments": {},
   "cell_type": "markdown",
   "metadata": {},
   "source": [
    "#### Salmon Fish Example"
   ]
  },
  {
   "cell_type": "code",
   "execution_count": 16,
   "metadata": {},
   "outputs": [],
   "source": [
    "import numpy as np\n",
    "import matplotlib.pyplot as plt\n",
    "from scipy import stats"
   ]
  },
  {
   "cell_type": "code",
   "execution_count": 17,
   "metadata": {},
   "outputs": [
    {
     "data": {
      "text/plain": [
       "0.8821600432854813"
      ]
     },
     "execution_count": 17,
     "metadata": {},
     "output_type": "execute_result"
    }
   ],
   "source": [
    "x = 75\n",
    "mean = 60\n",
    "std_dev = 40\n",
    "samp_size = 10\n",
    "standard_error = std_dev / (samp_size**.5)\n",
    "\n",
    "stats.norm.cdf(x, mean, standard_error)\n",
    "\n"
   ]
  },
  {
   "attachments": {},
   "cell_type": "markdown",
   "metadata": {},
   "source": [
    "The probability that the average weight of our sample of 10 fish will be less than or equal to 75 lbs is 88.2%."
   ]
  },
  {
   "attachments": {},
   "cell_type": "markdown",
   "metadata": {},
   "source": [
    "#### Cod Fish Example"
   ]
  },
  {
   "cell_type": "code",
   "execution_count": 18,
   "metadata": {},
   "outputs": [
    {
     "name": "stdout",
     "output_type": "stream",
     "text": [
      "4.0\n",
      "0.06680720126885807\n"
     ]
    }
   ],
   "source": [
    "x = 30\n",
    "mean = 36\n",
    "std_dev = 20\n",
    "samp_size = 25\n",
    "\n",
    "\n",
    "standard_error = std_dev / (samp_size**.5)\n",
    "print(standard_error)\n",
    "cod_cdf = stats.norm.cdf(x, mean, standard_error)\n",
    "print(cod_cdf)"
   ]
  },
  {
   "attachments": {},
   "cell_type": "markdown",
   "metadata": {},
   "source": [
    "The probability of 25 fish having an average weight of 30 or less is 10%. Based on this, it’s probably a good idea to put less fish in the crate or to get a sturdier crate."
   ]
  }
 ],
 "metadata": {
  "kernelspec": {
   "display_name": "codecademy",
   "language": "python",
   "name": "python3"
  },
  "language_info": {
   "codemirror_mode": {
    "name": "ipython",
    "version": 3
   },
   "file_extension": ".py",
   "mimetype": "text/x-python",
   "name": "python",
   "nbconvert_exporter": "python",
   "pygments_lexer": "ipython3",
   "version": "3.10.8"
  },
  "orig_nbformat": 4,
  "vscode": {
   "interpreter": {
    "hash": "ab43b87d2b275c094522edddecea71cc47fbe84ac28fa3c61b2da2b63a30f23f"
   }
  }
 },
 "nbformat": 4,
 "nbformat_minor": 2
}
