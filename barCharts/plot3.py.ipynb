{
 "cells": [
  {
   "cell_type": "code",
   "execution_count": 1,
   "id": "9a992545",
   "metadata": {},
   "outputs": [],
   "source": [
    "import pandas as pd \n",
    "import matplotlib.pyplot as plt\n",
    "import seaborn as sns"
   ]
  },
  {
   "cell_type": "code",
   "execution_count": 2,
   "id": "7528ea94",
   "metadata": {},
   "outputs": [
    {
     "name": "stdout",
     "output_type": "stream",
     "text": [
      "   School ID                                Name of School  \\\n",
      "0     400048                      LEARN Charter ES - Excel   \n",
      "1     609871  Barbara Vick Early Childhood & Family Center   \n",
      "2     610083              Daniel C Beard Elementary School   \n",
      "3     610066    James E McDade Elementary Classical School   \n",
      "4     400092             Chicago Intl Charter - Lloyd Bond   \n",
      "\n",
      "         Street Address     City State  ZIP Code    Phone Number  \\\n",
      "0  2401 W Congress Pkwy  Chicago    IL     60612  (312) 243-7001   \n",
      "1       2554 W 113th St  Chicago    IL     60655  (773) 535-2671   \n",
      "2      6445 W Strong St  Chicago    IL     60656  (773) 534-1228   \n",
      "3    8801 S Indiana Ave  Chicago    IL     60619  (773) 535-3669   \n",
      "4   13300 S Langley Ave  Chicago    IL     60827  (773) 468-1300   \n",
      "\n",
      "                                 Website  Blue Ribbon Award  \\\n",
      "0            http://www.learncharter.org                NaN   \n",
      "1   http://www.barbaravick.cps.k12.il.us                NaN   \n",
      "2                     http://www.cps.edu                NaN   \n",
      "3  http://www.mcdadeclassicalschool.org/                NaN   \n",
      "4            http://www.chicagointl.org/                NaN   \n",
      "\n",
      "  CPS Performance Policy Level  ... Y Coordinate  Longitude   Latitude  \\\n",
      "0                      LEVEL 2  ...  1897662.506  41.874886 -87.686311   \n",
      "1                          NaN  ...  1829643.669  41.688218 -87.685663   \n",
      "2                          NaN  ...  1932162.514  41.970097 -87.789637   \n",
      "3                      LEVEL 1  ...  1846656.745  41.734514 -87.619177   \n",
      "4                      LEVEL 3  ...  1817218.320  41.653637 -87.605071   \n",
      "\n",
      "                                            Location  Community Areas  \\\n",
      "0  {'latitude': '-87.68631142', 'longitude': '41....              NaN   \n",
      "1  {'latitude': '-87.6856634', 'longitude': '41.6...              NaN   \n",
      "2  {'latitude': '-87.78963691', 'longitude': '41....              NaN   \n",
      "3  {'latitude': '-87.61917677', 'longitude': '41....              NaN   \n",
      "4  {'latitude': '-87.60507067', 'longitude': '41....              NaN   \n",
      "\n",
      "  Zip Codes Boundaries - ZIP Codes Census Tracts Wards  \\\n",
      "0       NaN                    NaN           NaN   NaN   \n",
      "1       NaN                    NaN           NaN   NaN   \n",
      "2       NaN                    NaN           NaN   NaN   \n",
      "3       NaN                    NaN           NaN   NaN   \n",
      "4       NaN                    NaN           NaN   NaN   \n",
      "\n",
      "  :@computed_region_awaf_s7ux  \n",
      "0                         NaN  \n",
      "1                         NaN  \n",
      "2                         NaN  \n",
      "3                         NaN  \n",
      "4                         NaN  \n",
      "\n",
      "[5 rows x 80 columns]\n"
     ]
    }
   ],
   "source": [
    "df = pd.read_csv(\"school_data.csv\")\n",
    "print(df.head())"
   ]
  },
  {
   "cell_type": "code",
   "execution_count": 4,
   "id": "369e4ae7",
   "metadata": {},
   "outputs": [],
   "source": [
    "value_order = [\"NOT ENOUGH DATA\", \"VERY WEAK\", \"WEAK\", \"NEUTRAL\", \"STRONG\", \"VERY STRONG\"]"
   ]
  },
  {
   "cell_type": "code",
   "execution_count": 8,
   "id": "2cc9a350",
   "metadata": {},
   "outputs": [
    {
     "name": "stderr",
     "output_type": "stream",
     "text": [
      "/home/oldoc/anaconda3/envs/codecademy/lib/python3.9/site-packages/seaborn/_decorators.py:36: FutureWarning: Pass the following variable as a keyword arg: x. From version 0.12, the only valid positional argument will be `data`, and passing other arguments without an explicit keyword will result in an error or misinterpretation.\n",
      "  warnings.warn(\n"
     ]
    },
    {
     "data": {
      "text/plain": [
       "(array([0, 1, 2, 3, 4, 5]),\n",
       " [Text(0, 0, 'NOT ENOUGH DATA'),\n",
       "  Text(1, 0, 'VERY WEAK'),\n",
       "  Text(2, 0, 'WEAK'),\n",
       "  Text(3, 0, 'NEUTRAL'),\n",
       "  Text(4, 0, 'STRONG'),\n",
       "  Text(5, 0, 'VERY STRONG')])"
      ]
     },
     "execution_count": 8,
     "metadata": {},
     "output_type": "execute_result"
    },
    {
     "data": {
      "image/png": "[encoded data removed]",
      "text/plain": [
       "<Figure size 432x288 with 1 Axes>"
      ]
     },
     "metadata": {
      "needs_background": "light"
     },
     "output_type": "display_data"
    }
   ],
   "source": [
    "sns.countplot(df['Supportive Environment'], order=value_order)\n",
    "plt.xticks(rotation=30)"
   ]
  },
  {
   "cell_type": "code",
   "execution_count": null,
   "id": "5a3a4c60",
   "metadata": {},
   "outputs": [],
   "source": []
  }
 ],
 "metadata": {
  "kernelspec": {
   "display_name": "Python 3 (ipykernel)",
   "language": "python",
   "name": "python3"
  },
  "language_info": {
   "codemirror_mode": {
    "name": "ipython",
    "version": 3
   },
   "file_extension": ".py",
   "mimetype": "text/x-python",
   "name": "python",
   "nbconvert_exporter": "python",
   "pygments_lexer": "ipython3",
   "version": "3.9.7"
  }
 },
 "nbformat": 4,
 "nbformat_minor": 5
}
