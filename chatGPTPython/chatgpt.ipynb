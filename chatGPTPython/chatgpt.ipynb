{
 "cells": [
  {
   "cell_type": "code",
   "execution_count": null,
   "metadata": {},
   "outputs": [],
   "source": [
    "import openai\n",
    "\n",
    "openai.api_key = \n",
    "\n",
    "while True:\n",
    "    prompt = input(\"\\nIntroduce una pregunta: \")\n",
    "    if prompt == \"exit\":\n",
    "        break\n",
    "    completion = openai.Completion.create(engine=\"text-davinci-003\",\n",
    "                                      prompt=prompt,\n",
    "                                      max_tokens=2048)\n",
    "    print(completion.choices[0].text)"
   ]
  }
 ],
 "metadata": {
  "language_info": {
   "name": "python"
  },
  "orig_nbformat": 4
 },
 "nbformat": 4,
 "nbformat_minor": 2
}
