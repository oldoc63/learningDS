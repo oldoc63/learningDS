{
 "cells": [
  {
   "cell_type": "markdown",
   "metadata": {},
   "source": [
    "## Introduction to Data Wrangling and Tidying"
   ]
  },
  {
   "attachments": {},
   "cell_type": "markdown",
   "metadata": {},
   "source": [
    "## Data Wrangling"
   ]
  },
  {
   "attachments": {},
   "cell_type": "markdown",
   "metadata": {},
   "source": [
    "Let’s look at a subset of restaurant inspections from the New York City Department of Health and Mental Hygiene (NYC DOHMH) to work through some data wrangling processes. The data includes seven different columns with information about a restaurant’s location and health inspection. Here is a description of the dataset’s variables.\n",
    "```\n",
    "Pos.    Var. Name                 Var. Description\n",
    "-----   --------------------      --------------------------------------\n",
    "0       DBA                       Restaurant name\n",
    "1       BORO                      Borough\n",
    "2       CUISINE DESCRIPTION       Type of cuisine\n",
    "3       GRADE                     Letter grade\n",
    "4       LATITUDE                  Latitude coordinates of restaurant \n",
    "5       LONGITUDE                 Longitude coordinates of restaurant \n",
    "6       URL                       URL link to restaurant's website\n",
    "```"
   ]
  },
  {
   "attachments": {},
   "cell_type": "markdown",
   "metadata": {},
   "source": [
    "Let’s use the read_csv() function in pandas to load our dataset as a pandas dataframe and take a look at the first 10 rows out of the 27 total."
   ]
  },
  {
   "cell_type": "code",
   "execution_count": 46,
   "metadata": {},
   "outputs": [],
   "source": [
    "import pandas as pd\n",
    "import numpy as np\n",
    "\n",
    "restaurants = pd.read_csv('/home/oldoc/largeDataSets/DOHMH_New_York_City_Restaurant_Inspection_Results.csv')"
   ]
  },
  {
   "cell_type": "code",
   "execution_count": 47,
   "metadata": {},
   "outputs": [
    {
     "name": "stdout",
     "output_type": "stream",
     "text": [
      "      CAMIS                           DBA           BORO BUILDING  \\\n",
      "0  40511702             NOTARO RESTAURANT      MANHATTAN      635   \n",
      "1  40511702             NOTARO RESTAURANT      MANHATTAN      635   \n",
      "2  50046354                      VITE BAR         QUEENS     2507   \n",
      "3  50061389       TACK'S CHINESE TAKE OUT  STATEN ISLAND      11C   \n",
      "4  41516263                    NO QUARTER       BROOKLYN     8015   \n",
      "5  50015855               KABAB HOUSE NYC         QUEENS     4339   \n",
      "6  50058069              HENRI'S BACKYARD       BROOKLYN      256   \n",
      "7  40807238  RICHMOND COUNTY COUNTRY CLUB  STATEN ISLAND     1122   \n",
      "8  41547684                  PLANET WINGS  STATEN ISLAND      480   \n",
      "9  40376944                   TOMOE SUSHI      MANHATTAN      172   \n",
      "\n",
      "            STREET  ZIPCODE       PHONE CUISINE DESCRIPTION INSPECTION DATE  \\\n",
      "0    SECOND AVENUE  10016.0  2126863400             Italian      06/15/2015   \n",
      "1    SECOND AVENUE  10016.0  2126863400             Italian      11/25/2014   \n",
      "2         BROADWAY  11106.0  3478134702             Italian      10/03/2016   \n",
      "3      HOLDEN BLVD  10314.0  7189839854             Chinese      05/17/2017   \n",
      "4         5 AVENUE  11209.0  7187019180            American      03/30/2017   \n",
      "5          MAIN ST  11355.0  9172852796           Pakistani      03/03/2015   \n",
      "6          4TH AVE  11215.0  9293378443            American      06/22/2017   \n",
      "7   TODT HILL ROAD  10304.0  7183510600            American      06/14/2017   \n",
      "8    FOREST AVENUE  10310.0  7187209464            American      03/10/2015   \n",
      "9  THOMPSON STREET  10012.0  2127779346            Japanese      10/06/2015   \n",
      "\n",
      "                                            ACTION VIOLATION CODE  \\\n",
      "0  Violations were cited in the following area(s).            02B   \n",
      "1  Violations were cited in the following area(s).            20F   \n",
      "2  Violations were cited in the following area(s).            10F   \n",
      "3  Violations were cited in the following area(s).            02G   \n",
      "4  Violations were cited in the following area(s).            04M   \n",
      "5  Violations were cited in the following area(s).            10F   \n",
      "6  Violations were cited in the following area(s).            04K   \n",
      "7  Violations were cited in the following area(s).            02G   \n",
      "8  Violations were cited in the following area(s).            02G   \n",
      "9  Violations were cited in the following area(s).            02G   \n",
      "\n",
      "                               VIOLATION DESCRIPTION CRITICAL FLAG  SCORE  \\\n",
      "0        Hot food item not held at or above 140Âº F.      Critical   30.0   \n",
      "1              Current letter grade card not posted.  Not Critical    NaN   \n",
      "2  Non-food contact surface improperly constructe...  Not Critical    2.0   \n",
      "3  Cold food item held above 41Âº F (smoked fish ...      Critical   46.0   \n",
      "4  Live roaches present in facility's food and/or...      Critical   18.0   \n",
      "5  Non-food contact surface improperly constructe...  Not Critical   19.0   \n",
      "6  Evidence of rats or live rats present in facil...      Critical   39.0   \n",
      "7  Cold food item held above 41Âº F (smoked fish ...      Critical   12.0   \n",
      "8  Cold food item held above 41Âº F (smoked fish ...      Critical   28.0   \n",
      "9  Cold food item held above 41Âº F (smoked fish ...      Critical   13.0   \n",
      "\n",
      "  GRADE  GRADE DATE RECORD DATE  \\\n",
      "0   NaN         NaN  08/28/2017   \n",
      "1   NaN         NaN  08/28/2017   \n",
      "2   NaN         NaN  08/28/2017   \n",
      "3   NaN         NaN  08/28/2017   \n",
      "4   NaN         NaN  08/28/2017   \n",
      "5   NaN         NaN  08/28/2017   \n",
      "6     C  06/22/2017  08/28/2017   \n",
      "7     A  06/14/2017  08/28/2017   \n",
      "8   NaN         NaN  08/28/2017   \n",
      "9     A  10/06/2015  08/28/2017   \n",
      "\n",
      "                                     INSPECTION TYPE  \n",
      "0              Cycle Inspection / Initial Inspection  \n",
      "1  Administrative Miscellaneous / Initial Inspection  \n",
      "2      Pre-permit (Operational) / Initial Inspection  \n",
      "3      Pre-permit (Operational) / Initial Inspection  \n",
      "4              Cycle Inspection / Initial Inspection  \n",
      "5   Pre-permit (Operational) / Compliance Inspection  \n",
      "6           Pre-permit (Operational) / Re-inspection  \n",
      "7              Cycle Inspection / Initial Inspection  \n",
      "8              Cycle Inspection / Initial Inspection  \n",
      "9                   Cycle Inspection / Re-inspection  \n"
     ]
    }
   ],
   "source": [
    "# the .head(10) function will show us the first 10 rows in our dataset\n",
    "print(restaurants.head(10))"
   ]
  },
  {
   "cell_type": "code",
   "execution_count": 48,
   "metadata": {},
   "outputs": [
    {
     "name": "stdout",
     "output_type": "stream",
     "text": [
      "<class 'pandas.core.frame.DataFrame'>\n",
      "RangeIndex: 399918 entries, 0 to 399917\n",
      "Data columns (total 18 columns):\n",
      " #   Column                 Non-Null Count   Dtype  \n",
      "---  ------                 --------------   -----  \n",
      " 0   CAMIS                  399918 non-null  int64  \n",
      " 1   DBA                    399559 non-null  object \n",
      " 2   BORO                   399918 non-null  object \n",
      " 3   BUILDING               399809 non-null  object \n",
      " 4   STREET                 399909 non-null  object \n",
      " 5   ZIPCODE                399909 non-null  float64\n",
      " 6   PHONE                  399913 non-null  object \n",
      " 7   CUISINE DESCRIPTION    399918 non-null  object \n",
      " 8   INSPECTION DATE        399918 non-null  object \n",
      " 9   ACTION                 398783 non-null  object \n",
      " 10  VIOLATION CODE         393414 non-null  object \n",
      " 11  VIOLATION DESCRIPTION  392939 non-null  object \n",
      " 12  CRITICAL FLAG          399918 non-null  object \n",
      " 13  SCORE                  376704 non-null  float64\n",
      " 14  GRADE                  195413 non-null  object \n",
      " 15  GRADE DATE             192820 non-null  object \n",
      " 16  RECORD DATE            399918 non-null  object \n",
      " 17  INSPECTION TYPE        398783 non-null  object \n",
      "dtypes: float64(2), int64(1), object(15)\n",
      "memory usage: 54.9+ MB\n"
     ]
    }
   ],
   "source": [
    "restaurants.info()"
   ]
  },
  {
   "cell_type": "code",
   "execution_count": 49,
   "metadata": {},
   "outputs": [
    {
     "data": {
      "text/plain": [
       "(399918, 18)"
      ]
     },
     "execution_count": 49,
     "metadata": {},
     "output_type": "execute_result"
    }
   ],
   "source": [
    "# the .shape method in pandas identifies the number of rows and columns in our dataset as (rows, columns)\n",
    "restaurants.shape"
   ]
  },
  {
   "attachments": {},
   "cell_type": "markdown",
   "metadata": {},
   "source": [
    "When we look closely at the table, we see some missing data. In both GRADE and URL columns, we have missing values marked as NaNs. In the Latitude and Longitude columns, we have a missing set of coordinates marked as (0.000, 0.000) for IHOP. (0.000, 0.000) is the label for missing coordinates because no restaurants in New York City are at the equator. Other common indicators used for missing values are values that are NA and -."
   ]
  },
  {
   "attachments": {},
   "cell_type": "markdown",
   "metadata": {},
   "source": [
    "### Preliminary data cleaning"
   ]
  },
  {
   "attachments": {},
   "cell_type": "markdown",
   "metadata": {},
   "source": [
    "There are also duplicate rows for the restaurant labeled Seamore’s. To remove any duplicate rows, we can use the drop_duplicates() function"
   ]
  },
  {
   "cell_type": "code",
   "execution_count": 50,
   "metadata": {},
   "outputs": [],
   "source": [
    "# the .drop_duplicates() function removes duplicate rows\n",
    "restaurants = restaurants.drop_duplicates()"
   ]
  },
  {
   "cell_type": "code",
   "execution_count": 51,
   "metadata": {},
   "outputs": [
    {
     "name": "stdout",
     "output_type": "stream",
     "text": [
      "      CAMIS                           DBA           BORO BUILDING  \\\n",
      "0  40511702             NOTARO RESTAURANT      MANHATTAN      635   \n",
      "1  40511702             NOTARO RESTAURANT      MANHATTAN      635   \n",
      "2  50046354                      VITE BAR         QUEENS     2507   \n",
      "3  50061389       TACK'S CHINESE TAKE OUT  STATEN ISLAND      11C   \n",
      "4  41516263                    NO QUARTER       BROOKLYN     8015   \n",
      "5  50015855               KABAB HOUSE NYC         QUEENS     4339   \n",
      "6  50058069              HENRI'S BACKYARD       BROOKLYN      256   \n",
      "7  40807238  RICHMOND COUNTY COUNTRY CLUB  STATEN ISLAND     1122   \n",
      "8  41547684                  PLANET WINGS  STATEN ISLAND      480   \n",
      "9  40376944                   TOMOE SUSHI      MANHATTAN      172   \n",
      "\n",
      "            STREET  ZIPCODE       PHONE CUISINE DESCRIPTION INSPECTION DATE  \\\n",
      "0    SECOND AVENUE  10016.0  2126863400             Italian      06/15/2015   \n",
      "1    SECOND AVENUE  10016.0  2126863400             Italian      11/25/2014   \n",
      "2         BROADWAY  11106.0  3478134702             Italian      10/03/2016   \n",
      "3      HOLDEN BLVD  10314.0  7189839854             Chinese      05/17/2017   \n",
      "4         5 AVENUE  11209.0  7187019180            American      03/30/2017   \n",
      "5          MAIN ST  11355.0  9172852796           Pakistani      03/03/2015   \n",
      "6          4TH AVE  11215.0  9293378443            American      06/22/2017   \n",
      "7   TODT HILL ROAD  10304.0  7183510600            American      06/14/2017   \n",
      "8    FOREST AVENUE  10310.0  7187209464            American      03/10/2015   \n",
      "9  THOMPSON STREET  10012.0  2127779346            Japanese      10/06/2015   \n",
      "\n",
      "                                            ACTION VIOLATION CODE  \\\n",
      "0  Violations were cited in the following area(s).            02B   \n",
      "1  Violations were cited in the following area(s).            20F   \n",
      "2  Violations were cited in the following area(s).            10F   \n",
      "3  Violations were cited in the following area(s).            02G   \n",
      "4  Violations were cited in the following area(s).            04M   \n",
      "5  Violations were cited in the following area(s).            10F   \n",
      "6  Violations were cited in the following area(s).            04K   \n",
      "7  Violations were cited in the following area(s).            02G   \n",
      "8  Violations were cited in the following area(s).            02G   \n",
      "9  Violations were cited in the following area(s).            02G   \n",
      "\n",
      "                               VIOLATION DESCRIPTION CRITICAL FLAG  SCORE  \\\n",
      "0        Hot food item not held at or above 140Âº F.      Critical   30.0   \n",
      "1              Current letter grade card not posted.  Not Critical    NaN   \n",
      "2  Non-food contact surface improperly constructe...  Not Critical    2.0   \n",
      "3  Cold food item held above 41Âº F (smoked fish ...      Critical   46.0   \n",
      "4  Live roaches present in facility's food and/or...      Critical   18.0   \n",
      "5  Non-food contact surface improperly constructe...  Not Critical   19.0   \n",
      "6  Evidence of rats or live rats present in facil...      Critical   39.0   \n",
      "7  Cold food item held above 41Âº F (smoked fish ...      Critical   12.0   \n",
      "8  Cold food item held above 41Âº F (smoked fish ...      Critical   28.0   \n",
      "9  Cold food item held above 41Âº F (smoked fish ...      Critical   13.0   \n",
      "\n",
      "  GRADE  GRADE DATE RECORD DATE  \\\n",
      "0   NaN         NaN  08/28/2017   \n",
      "1   NaN         NaN  08/28/2017   \n",
      "2   NaN         NaN  08/28/2017   \n",
      "3   NaN         NaN  08/28/2017   \n",
      "4   NaN         NaN  08/28/2017   \n",
      "5   NaN         NaN  08/28/2017   \n",
      "6     C  06/22/2017  08/28/2017   \n",
      "7     A  06/14/2017  08/28/2017   \n",
      "8   NaN         NaN  08/28/2017   \n",
      "9     A  10/06/2015  08/28/2017   \n",
      "\n",
      "                                     INSPECTION TYPE  \n",
      "0              Cycle Inspection / Initial Inspection  \n",
      "1  Administrative Miscellaneous / Initial Inspection  \n",
      "2      Pre-permit (Operational) / Initial Inspection  \n",
      "3      Pre-permit (Operational) / Initial Inspection  \n",
      "4              Cycle Inspection / Initial Inspection  \n",
      "5   Pre-permit (Operational) / Compliance Inspection  \n",
      "6           Pre-permit (Operational) / Re-inspection  \n",
      "7              Cycle Inspection / Initial Inspection  \n",
      "8              Cycle Inspection / Initial Inspection  \n",
      "9                   Cycle Inspection / Re-inspection  \n"
     ]
    }
   ],
   "source": [
    "# the .head(10) function will show us the first 10 rows in our dataset\n",
    "print(restaurants.head(10))"
   ]
  },
  {
   "cell_type": "code",
   "execution_count": 52,
   "metadata": {},
   "outputs": [
    {
     "data": {
      "text/plain": [
       "(399907, 18)"
      ]
     },
     "execution_count": 52,
     "metadata": {},
     "output_type": "execute_result"
    }
   ],
   "source": [
    "# the .shape method in pandas identifies the number of rows and columns in our dataset as (rows, columns)\n",
    "restaurants.shape"
   ]
  },
  {
   "attachments": {},
   "cell_type": "markdown",
   "metadata": {},
   "source": [
    "You may have noticed that the column of the dataset called DBA, but we know it is a column with restaurant names. We can use the rename() function and a dictionary to relabel our columns. While we are renaming our columns, we might also want to shorten the cuisine description column to just cuisine. "
   ]
  },
  {
   "cell_type": "code",
   "execution_count": 53,
   "metadata": {},
   "outputs": [],
   "source": [
    "# axis=1` refers to the columns, `axis=0` would refer to the rows\n",
    "# In the dictionary the key refers to the original column name and the value refers to the new column name {'oldname1': 'newname1', 'oldname2': 'newname2'}\n",
    "restaurants = restaurants.rename({'DBA':'NAME', 'CUISINE DESCRIPTION':'CUISINE'}, axis=1)\n"
   ]
  },
  {
   "cell_type": "code",
   "execution_count": 54,
   "metadata": {},
   "outputs": [
    {
     "name": "stdout",
     "output_type": "stream",
     "text": [
      "      CAMIS                          NAME           BORO BUILDING  \\\n",
      "0  40511702             NOTARO RESTAURANT      MANHATTAN      635   \n",
      "1  40511702             NOTARO RESTAURANT      MANHATTAN      635   \n",
      "2  50046354                      VITE BAR         QUEENS     2507   \n",
      "3  50061389       TACK'S CHINESE TAKE OUT  STATEN ISLAND      11C   \n",
      "4  41516263                    NO QUARTER       BROOKLYN     8015   \n",
      "5  50015855               KABAB HOUSE NYC         QUEENS     4339   \n",
      "6  50058069              HENRI'S BACKYARD       BROOKLYN      256   \n",
      "7  40807238  RICHMOND COUNTY COUNTRY CLUB  STATEN ISLAND     1122   \n",
      "8  41547684                  PLANET WINGS  STATEN ISLAND      480   \n",
      "9  40376944                   TOMOE SUSHI      MANHATTAN      172   \n",
      "\n",
      "            STREET  ZIPCODE       PHONE    CUISINE INSPECTION DATE  \\\n",
      "0    SECOND AVENUE  10016.0  2126863400    Italian      06/15/2015   \n",
      "1    SECOND AVENUE  10016.0  2126863400    Italian      11/25/2014   \n",
      "2         BROADWAY  11106.0  3478134702    Italian      10/03/2016   \n",
      "3      HOLDEN BLVD  10314.0  7189839854    Chinese      05/17/2017   \n",
      "4         5 AVENUE  11209.0  7187019180   American      03/30/2017   \n",
      "5          MAIN ST  11355.0  9172852796  Pakistani      03/03/2015   \n",
      "6          4TH AVE  11215.0  9293378443   American      06/22/2017   \n",
      "7   TODT HILL ROAD  10304.0  7183510600   American      06/14/2017   \n",
      "8    FOREST AVENUE  10310.0  7187209464   American      03/10/2015   \n",
      "9  THOMPSON STREET  10012.0  2127779346   Japanese      10/06/2015   \n",
      "\n",
      "                                            ACTION VIOLATION CODE  \\\n",
      "0  Violations were cited in the following area(s).            02B   \n",
      "1  Violations were cited in the following area(s).            20F   \n",
      "2  Violations were cited in the following area(s).            10F   \n",
      "3  Violations were cited in the following area(s).            02G   \n",
      "4  Violations were cited in the following area(s).            04M   \n",
      "5  Violations were cited in the following area(s).            10F   \n",
      "6  Violations were cited in the following area(s).            04K   \n",
      "7  Violations were cited in the following area(s).            02G   \n",
      "8  Violations were cited in the following area(s).            02G   \n",
      "9  Violations were cited in the following area(s).            02G   \n",
      "\n",
      "                               VIOLATION DESCRIPTION CRITICAL FLAG  SCORE  \\\n",
      "0        Hot food item not held at or above 140Âº F.      Critical   30.0   \n",
      "1              Current letter grade card not posted.  Not Critical    NaN   \n",
      "2  Non-food contact surface improperly constructe...  Not Critical    2.0   \n",
      "3  Cold food item held above 41Âº F (smoked fish ...      Critical   46.0   \n",
      "4  Live roaches present in facility's food and/or...      Critical   18.0   \n",
      "5  Non-food contact surface improperly constructe...  Not Critical   19.0   \n",
      "6  Evidence of rats or live rats present in facil...      Critical   39.0   \n",
      "7  Cold food item held above 41Âº F (smoked fish ...      Critical   12.0   \n",
      "8  Cold food item held above 41Âº F (smoked fish ...      Critical   28.0   \n",
      "9  Cold food item held above 41Âº F (smoked fish ...      Critical   13.0   \n",
      "\n",
      "  GRADE  GRADE DATE RECORD DATE  \\\n",
      "0   NaN         NaN  08/28/2017   \n",
      "1   NaN         NaN  08/28/2017   \n",
      "2   NaN         NaN  08/28/2017   \n",
      "3   NaN         NaN  08/28/2017   \n",
      "4   NaN         NaN  08/28/2017   \n",
      "5   NaN         NaN  08/28/2017   \n",
      "6     C  06/22/2017  08/28/2017   \n",
      "7     A  06/14/2017  08/28/2017   \n",
      "8   NaN         NaN  08/28/2017   \n",
      "9     A  10/06/2015  08/28/2017   \n",
      "\n",
      "                                     INSPECTION TYPE  \n",
      "0              Cycle Inspection / Initial Inspection  \n",
      "1  Administrative Miscellaneous / Initial Inspection  \n",
      "2      Pre-permit (Operational) / Initial Inspection  \n",
      "3      Pre-permit (Operational) / Initial Inspection  \n",
      "4              Cycle Inspection / Initial Inspection  \n",
      "5   Pre-permit (Operational) / Compliance Inspection  \n",
      "6           Pre-permit (Operational) / Re-inspection  \n",
      "7              Cycle Inspection / Initial Inspection  \n",
      "8              Cycle Inspection / Initial Inspection  \n",
      "9                   Cycle Inspection / Re-inspection  \n"
     ]
    }
   ],
   "source": [
    "# the .head(10) function will show us the first 10 rows in our dataset\n",
    "print(restaurants.head(10))"
   ]
  },
  {
   "attachments": {},
   "cell_type": "markdown",
   "metadata": {},
   "source": [
    "### Data Types"
   ]
  },
  {
   "attachments": {},
   "cell_type": "markdown",
   "metadata": {},
   "source": [
    "Let’s take a look at each column’s data types by appending .dtypes to our pandas dataframe. "
   ]
  },
  {
   "cell_type": "code",
   "execution_count": 55,
   "metadata": {},
   "outputs": [
    {
     "data": {
      "text/plain": [
       "CAMIS                      int64\n",
       "NAME                      object\n",
       "BORO                      object\n",
       "BUILDING                  object\n",
       "STREET                    object\n",
       "ZIPCODE                  float64\n",
       "PHONE                     object\n",
       "CUISINE                   object\n",
       "INSPECTION DATE           object\n",
       "ACTION                    object\n",
       "VIOLATION CODE            object\n",
       "VIOLATION DESCRIPTION     object\n",
       "CRITICAL FLAG             object\n",
       "SCORE                    float64\n",
       "GRADE                     object\n",
       "GRADE DATE                object\n",
       "RECORD DATE               object\n",
       "INSPECTION TYPE           object\n",
       "dtype: object"
      ]
     },
     "execution_count": 55,
     "metadata": {},
     "output_type": "execute_result"
    }
   ],
   "source": [
    "restaurants.dtypes"
   ]
  },
  {
   "attachments": {},
   "cell_type": "markdown",
   "metadata": {},
   "source": [
    "We have two types of variables: object and float64. object can consist of both strings or mixed types (both numeric and non-numeric), and float64 are numbers with a floating point (ie. numbers with decimals). There are other data types such as int64 (integer numbers), bool (True/False values), and datetime64 (date and/or time values). \n",
    "\n",
    "Since we have both continuous (float64) and categorical (object) variables in our data, it might be informative to look at the number of unique values in each column using the nunique() function."
   ]
  },
  {
   "cell_type": "code",
   "execution_count": 56,
   "metadata": {},
   "outputs": [
    {
     "data": {
      "text/plain": [
       "CAMIS                    26505\n",
       "NAME                     20936\n",
       "BORO                         6\n",
       "BUILDING                  7256\n",
       "STREET                    3328\n",
       "ZIPCODE                    233\n",
       "PHONE                    25165\n",
       "CUISINE                     84\n",
       "INSPECTION DATE           1414\n",
       "ACTION                       5\n",
       "VIOLATION CODE              97\n",
       "VIOLATION DESCRIPTION       93\n",
       "CRITICAL FLAG                3\n",
       "SCORE                      120\n",
       "GRADE                        6\n",
       "GRADE DATE                1325\n",
       "RECORD DATE                  1\n",
       "INSPECTION TYPE             34\n",
       "dtype: int64"
      ]
     },
     "execution_count": 56,
     "metadata": {},
     "output_type": "execute_result"
    }
   ],
   "source": [
    "# .nunique() counts the number of unique values in each column \n",
    "restaurants.nunique()"
   ]
  },
  {
   "attachments": {},
   "cell_type": "markdown",
   "metadata": {},
   "source": [
    "### Missing Data"
   ]
  },
  {
   "attachments": {},
   "cell_type": "markdown",
   "metadata": {},
   "source": [
    "From our initial inspection of the data, we know we have missing data in grade, url, latitude, and longitude. Let’s take a look at how the data is missing, also referred to as missingness. To do this we can use isna() to identify if the value is missing. This will give us a boolean and indicate if the observation in that column is missing (True) or not (False). We will also use sum() to count the number of missing values, where isna() returns True. "
   ]
  },
  {
   "cell_type": "code",
   "execution_count": 57,
   "metadata": {},
   "outputs": [
    {
     "data": {
      "text/plain": [
       "CAMIS                         0\n",
       "NAME                        359\n",
       "BORO                          0\n",
       "BUILDING                    109\n",
       "STREET                        9\n",
       "ZIPCODE                       9\n",
       "PHONE                         5\n",
       "CUISINE                       0\n",
       "INSPECTION DATE               0\n",
       "ACTION                     1135\n",
       "VIOLATION CODE             6504\n",
       "VIOLATION DESCRIPTION      6974\n",
       "CRITICAL FLAG                 0\n",
       "SCORE                     23207\n",
       "GRADE                    204494\n",
       "GRADE DATE               207087\n",
       "RECORD DATE                   0\n",
       "INSPECTION TYPE            1135\n",
       "dtype: int64"
      ]
     },
     "execution_count": 57,
     "metadata": {},
     "output_type": "execute_result"
    }
   ],
   "source": [
    "# counts the number of missing values in each column \n",
    "restaurants.isna().sum() "
   ]
  },
  {
   "cell_type": "code",
   "execution_count": 58,
   "metadata": {},
   "outputs": [
    {
     "data": {
      "text/plain": [
       "GRADE         \n",
       "A                 154194\n",
       "B                  28166\n",
       "C                   6992\n",
       "Not Yet Graded      2598\n",
       "Z                   2104\n",
       "P                   1359\n",
       "dtype: int64"
      ]
     },
     "execution_count": 58,
     "metadata": {},
     "output_type": "execute_result"
    }
   ],
   "source": [
    "restaurants_grade = restaurants[['GRADE']]\n",
    "restaurants_grade.value_counts()"
   ]
  },
  {
   "cell_type": "code",
   "execution_count": 59,
   "metadata": {},
   "outputs": [
    {
     "data": {
      "text/html": [
       "<div>\n",
       "<style scoped>\n",
       "    .dataframe tbody tr th:only-of-type {\n",
       "        vertical-align: middle;\n",
       "    }\n",
       "\n",
       "    .dataframe tbody tr th {\n",
       "        vertical-align: top;\n",
       "    }\n",
       "\n",
       "    .dataframe thead th {\n",
       "        text-align: right;\n",
       "    }\n",
       "</style>\n",
       "<table border=\"1\" class=\"dataframe\">\n",
       "  <thead>\n",
       "    <tr style=\"text-align: right;\">\n",
       "      <th></th>\n",
       "      <th>SCORE</th>\n",
       "    </tr>\n",
       "  </thead>\n",
       "  <tbody>\n",
       "    <tr>\n",
       "      <th>count</th>\n",
       "      <td>376700.000000</td>\n",
       "    </tr>\n",
       "    <tr>\n",
       "      <th>mean</th>\n",
       "      <td>18.910138</td>\n",
       "    </tr>\n",
       "    <tr>\n",
       "      <th>std</th>\n",
       "      <td>12.959017</td>\n",
       "    </tr>\n",
       "    <tr>\n",
       "      <th>min</th>\n",
       "      <td>-2.000000</td>\n",
       "    </tr>\n",
       "    <tr>\n",
       "      <th>25%</th>\n",
       "      <td>11.000000</td>\n",
       "    </tr>\n",
       "    <tr>\n",
       "      <th>50%</th>\n",
       "      <td>15.000000</td>\n",
       "    </tr>\n",
       "    <tr>\n",
       "      <th>75%</th>\n",
       "      <td>24.000000</td>\n",
       "    </tr>\n",
       "    <tr>\n",
       "      <th>max</th>\n",
       "      <td>151.000000</td>\n",
       "    </tr>\n",
       "  </tbody>\n",
       "</table>\n",
       "</div>"
      ],
      "text/plain": [
       "               SCORE\n",
       "count  376700.000000\n",
       "mean       18.910138\n",
       "std        12.959017\n",
       "min        -2.000000\n",
       "25%        11.000000\n",
       "50%        15.000000\n",
       "75%        24.000000\n",
       "max       151.000000"
      ]
     },
     "execution_count": 59,
     "metadata": {},
     "output_type": "execute_result"
    }
   ],
   "source": [
    "restaurants_score = restaurants[['SCORE']]\n",
    "restaurants_score.describe()"
   ]
  },
  {
   "cell_type": "code",
   "execution_count": 60,
   "metadata": {},
   "outputs": [],
   "source": [
    "# here our .where() function replaces latitude values less than 40 with NaN values\n",
    "restaurants['SCORE'] = restaurants['SCORE'].where(restaurants['SCORE'] < 0, np.nan) "
   ]
  },
  {
   "cell_type": "code",
   "execution_count": 61,
   "metadata": {},
   "outputs": [
    {
     "data": {
      "text/plain": [
       "CAMIS                         0\n",
       "NAME                        359\n",
       "BORO                          0\n",
       "BUILDING                    109\n",
       "STREET                        9\n",
       "ZIPCODE                       9\n",
       "PHONE                         5\n",
       "CUISINE                       0\n",
       "INSPECTION DATE               0\n",
       "ACTION                     1135\n",
       "VIOLATION CODE             6504\n",
       "VIOLATION DESCRIPTION      6974\n",
       "CRITICAL FLAG                 0\n",
       "SCORE                    399791\n",
       "GRADE                    204494\n",
       "GRADE DATE               207087\n",
       "RECORD DATE                   0\n",
       "INSPECTION TYPE            1135\n",
       "dtype: int64"
      ]
     },
     "execution_count": 61,
     "metadata": {},
     "output_type": "execute_result"
    }
   ],
   "source": [
    "# counts the number of missing values in each column \n",
    "restaurants.isna().sum() "
   ]
  },
  {
   "attachments": {},
   "cell_type": "markdown",
   "metadata": {},
   "source": [
    "### Characterizing missingness with crosstab"
   ]
  },
  {
   "attachments": {},
   "cell_type": "markdown",
   "metadata": {},
   "source": [
    "Let's try to understand the missingness in the url column by counting the missing values across each borough. We will use the crosstab() function in pandas to do this.\n",
    "\n",
    "Te crosstab() computes the frequency of two or more variables. To look at the missingness in the url column we can add isna() to the column to identify if there is an NaN in that column. This will return a boolean, True if there is a NaN and False if there is not. In our crosstab, we will look at all the boroughs present in our data and whether or not they have missing url links."
   ]
  },
  {
   "cell_type": "code",
   "execution_count": 62,
   "metadata": {},
   "outputs": [
    {
     "data": {
      "text/html": [
       "<div>\n",
       "<style scoped>\n",
       "    .dataframe tbody tr th:only-of-type {\n",
       "        vertical-align: middle;\n",
       "    }\n",
       "\n",
       "    .dataframe tbody tr th {\n",
       "        vertical-align: top;\n",
       "    }\n",
       "\n",
       "    .dataframe thead th {\n",
       "        text-align: right;\n",
       "    }\n",
       "</style>\n",
       "<table border=\"1\" class=\"dataframe\">\n",
       "  <thead>\n",
       "    <tr style=\"text-align: right;\">\n",
       "      <th>PHONE NA</th>\n",
       "      <th>False</th>\n",
       "      <th>True</th>\n",
       "    </tr>\n",
       "    <tr>\n",
       "      <th>BORO</th>\n",
       "      <th></th>\n",
       "      <th></th>\n",
       "    </tr>\n",
       "  </thead>\n",
       "  <tbody>\n",
       "    <tr>\n",
       "      <th>BRONX</th>\n",
       "      <td>34895</td>\n",
       "      <td>0</td>\n",
       "    </tr>\n",
       "    <tr>\n",
       "      <th>BROOKLYN</th>\n",
       "      <td>99592</td>\n",
       "      <td>3</td>\n",
       "    </tr>\n",
       "    <tr>\n",
       "      <th>MANHATTAN</th>\n",
       "      <td>159566</td>\n",
       "      <td>0</td>\n",
       "    </tr>\n",
       "    <tr>\n",
       "      <th>Missing</th>\n",
       "      <td>9</td>\n",
       "      <td>0</td>\n",
       "    </tr>\n",
       "    <tr>\n",
       "      <th>QUEENS</th>\n",
       "      <td>92414</td>\n",
       "      <td>1</td>\n",
       "    </tr>\n",
       "    <tr>\n",
       "      <th>STATEN ISLAND</th>\n",
       "      <td>13426</td>\n",
       "      <td>1</td>\n",
       "    </tr>\n",
       "  </tbody>\n",
       "</table>\n",
       "</div>"
      ],
      "text/plain": [
       "PHONE NA        False  True \n",
       "BORO                        \n",
       "BRONX           34895      0\n",
       "BROOKLYN        99592      3\n",
       "MANHATTAN      159566      0\n",
       "Missing             9      0\n",
       "QUEENS          92414      1\n",
       "STATEN ISLAND   13426      1"
      ]
     },
     "execution_count": 62,
     "metadata": {},
     "output_type": "execute_result"
    }
   ],
   "source": [
    "pd.crosstab(\n",
    "    # tabulates the boroughs as the index\n",
    "    restaurants['BORO'],\n",
    "    # tabulates the number of missing values in the url column as columns\n",
    "    restaurants['PHONE'].isna(),\n",
    "    # names the rows\n",
    "    rownames=['BORO'],\n",
    "    # names the columns\n",
    "    colnames=['PHONE NA']\n",
    ")"
   ]
  },
  {
   "attachments": {},
   "cell_type": "markdown",
   "metadata": {},
   "source": [
    "### Removing prefixes"
   ]
  },
  {
   "cell_type": "code",
   "execution_count": 63,
   "metadata": {},
   "outputs": [],
   "source": [
    "# .str.lstrip('212') removes the “212” from the left side of the string\n",
    "restaurants['PHONE'] = restaurants['PHONE'].str.lstrip('212')"
   ]
  },
  {
   "cell_type": "code",
   "execution_count": 64,
   "metadata": {},
   "outputs": [
    {
     "name": "stdout",
     "output_type": "stream",
     "text": [
      "      CAMIS                          NAME           BORO BUILDING  \\\n",
      "0  40511702             NOTARO RESTAURANT      MANHATTAN      635   \n",
      "1  40511702             NOTARO RESTAURANT      MANHATTAN      635   \n",
      "2  50046354                      VITE BAR         QUEENS     2507   \n",
      "3  50061389       TACK'S CHINESE TAKE OUT  STATEN ISLAND      11C   \n",
      "4  41516263                    NO QUARTER       BROOKLYN     8015   \n",
      "5  50015855               KABAB HOUSE NYC         QUEENS     4339   \n",
      "6  50058069              HENRI'S BACKYARD       BROOKLYN      256   \n",
      "7  40807238  RICHMOND COUNTY COUNTRY CLUB  STATEN ISLAND     1122   \n",
      "8  41547684                  PLANET WINGS  STATEN ISLAND      480   \n",
      "9  40376944                   TOMOE SUSHI      MANHATTAN      172   \n",
      "\n",
      "            STREET  ZIPCODE       PHONE    CUISINE INSPECTION DATE  \\\n",
      "0    SECOND AVENUE  10016.0     6863400    Italian      06/15/2015   \n",
      "1    SECOND AVENUE  10016.0     6863400    Italian      11/25/2014   \n",
      "2         BROADWAY  11106.0  3478134702    Italian      10/03/2016   \n",
      "3      HOLDEN BLVD  10314.0  7189839854    Chinese      05/17/2017   \n",
      "4         5 AVENUE  11209.0  7187019180   American      03/30/2017   \n",
      "5          MAIN ST  11355.0  9172852796  Pakistani      03/03/2015   \n",
      "6          4TH AVE  11215.0  9293378443   American      06/22/2017   \n",
      "7   TODT HILL ROAD  10304.0  7183510600   American      06/14/2017   \n",
      "8    FOREST AVENUE  10310.0  7187209464   American      03/10/2015   \n",
      "9  THOMPSON STREET  10012.0     7779346   Japanese      10/06/2015   \n",
      "\n",
      "                                            ACTION VIOLATION CODE  \\\n",
      "0  Violations were cited in the following area(s).            02B   \n",
      "1  Violations were cited in the following area(s).            20F   \n",
      "2  Violations were cited in the following area(s).            10F   \n",
      "3  Violations were cited in the following area(s).            02G   \n",
      "4  Violations were cited in the following area(s).            04M   \n",
      "5  Violations were cited in the following area(s).            10F   \n",
      "6  Violations were cited in the following area(s).            04K   \n",
      "7  Violations were cited in the following area(s).            02G   \n",
      "8  Violations were cited in the following area(s).            02G   \n",
      "9  Violations were cited in the following area(s).            02G   \n",
      "\n",
      "                               VIOLATION DESCRIPTION CRITICAL FLAG  SCORE  \\\n",
      "0        Hot food item not held at or above 140Âº F.      Critical    NaN   \n",
      "1              Current letter grade card not posted.  Not Critical    NaN   \n",
      "2  Non-food contact surface improperly constructe...  Not Critical    NaN   \n",
      "3  Cold food item held above 41Âº F (smoked fish ...      Critical    NaN   \n",
      "4  Live roaches present in facility's food and/or...      Critical    NaN   \n",
      "5  Non-food contact surface improperly constructe...  Not Critical    NaN   \n",
      "6  Evidence of rats or live rats present in facil...      Critical    NaN   \n",
      "7  Cold food item held above 41Âº F (smoked fish ...      Critical    NaN   \n",
      "8  Cold food item held above 41Âº F (smoked fish ...      Critical    NaN   \n",
      "9  Cold food item held above 41Âº F (smoked fish ...      Critical    NaN   \n",
      "\n",
      "  GRADE  GRADE DATE RECORD DATE  \\\n",
      "0   NaN         NaN  08/28/2017   \n",
      "1   NaN         NaN  08/28/2017   \n",
      "2   NaN         NaN  08/28/2017   \n",
      "3   NaN         NaN  08/28/2017   \n",
      "4   NaN         NaN  08/28/2017   \n",
      "5   NaN         NaN  08/28/2017   \n",
      "6     C  06/22/2017  08/28/2017   \n",
      "7     A  06/14/2017  08/28/2017   \n",
      "8   NaN         NaN  08/28/2017   \n",
      "9     A  10/06/2015  08/28/2017   \n",
      "\n",
      "                                     INSPECTION TYPE  \n",
      "0              Cycle Inspection / Initial Inspection  \n",
      "1  Administrative Miscellaneous / Initial Inspection  \n",
      "2      Pre-permit (Operational) / Initial Inspection  \n",
      "3      Pre-permit (Operational) / Initial Inspection  \n",
      "4              Cycle Inspection / Initial Inspection  \n",
      "5   Pre-permit (Operational) / Compliance Inspection  \n",
      "6           Pre-permit (Operational) / Re-inspection  \n",
      "7              Cycle Inspection / Initial Inspection  \n",
      "8              Cycle Inspection / Initial Inspection  \n",
      "9                   Cycle Inspection / Re-inspection  \n"
     ]
    }
   ],
   "source": [
    "# the .head(10) function will show us the first 10 rows in our dataset\n",
    "print(restaurants.head(10))"
   ]
  },
  {
   "attachments": {},
   "cell_type": "markdown",
   "metadata": {},
   "source": [
    "Amazing! Our dataset is now much easier to read and use. We have identifiable columns and variables that are easy to work with thanks to our data wrangling process. We also corrected illogical data values and made the strings a little easier to read.\n",
    "\n",
    "In this example, we worked with data that was rather tidy, in the sense that each row was an observation (a restaurant) and each column was a variable. However, what if our dataset was not tidy? What if our columns and rows needed reorganization?"
   ]
  },
  {
   "attachments": {},
   "cell_type": "markdown",
   "metadata": {},
   "source": [
    "## Tidy Data"
   ]
  },
  {
   "attachments": {},
   "cell_type": "markdown",
   "metadata": {},
   "source": [
    "Let’s take a look at a dataset that has information about the average annual wage for restaurant workers across New York City boroughs and New York City as a whole from the years 2000 and 2007. The data is from the New York State Department of Labor, Quarterly Census of Employment and Wages,and only contains six total rows."
   ]
  },
  {
   "cell_type": "code",
   "execution_count": 70,
   "metadata": {},
   "outputs": [
    {
     "data": {
      "text/html": [
       "<div>\n",
       "<style scoped>\n",
       "    .dataframe tbody tr th:only-of-type {\n",
       "        vertical-align: middle;\n",
       "    }\n",
       "\n",
       "    .dataframe tbody tr th {\n",
       "        vertical-align: top;\n",
       "    }\n",
       "\n",
       "    .dataframe thead th {\n",
       "        text-align: right;\n",
       "    }\n",
       "</style>\n",
       "<table border=\"1\" class=\"dataframe\">\n",
       "  <thead>\n",
       "    <tr style=\"text-align: right;\">\n",
       "      <th></th>\n",
       "      <th>boro</th>\n",
       "      <th>2000</th>\n",
       "      <th>2007</th>\n",
       "    </tr>\n",
       "  </thead>\n",
       "  <tbody>\n",
       "    <tr>\n",
       "      <th>0</th>\n",
       "      <td>Bronx</td>\n",
       "      <td>16392</td>\n",
       "      <td>16195</td>\n",
       "    </tr>\n",
       "    <tr>\n",
       "      <th>1</th>\n",
       "      <td>Brooklyn</td>\n",
       "      <td>16713</td>\n",
       "      <td>17017</td>\n",
       "    </tr>\n",
       "    <tr>\n",
       "      <th>2</th>\n",
       "      <td>Manhattan</td>\n",
       "      <td>27020</td>\n",
       "      <td>27080</td>\n",
       "    </tr>\n",
       "    <tr>\n",
       "      <th>3</th>\n",
       "      <td>Queens</td>\n",
       "      <td>16692</td>\n",
       "      <td>16883</td>\n",
       "    </tr>\n",
       "    <tr>\n",
       "      <th>4</th>\n",
       "      <td>Staten Island</td>\n",
       "      <td>15143</td>\n",
       "      <td>14951</td>\n",
       "    </tr>\n",
       "  </tbody>\n",
       "</table>\n",
       "</div>"
      ],
      "text/plain": [
       "            boro   2000   2007\n",
       "0          Bronx  16392  16195\n",
       "1       Brooklyn  16713  17017\n",
       "2      Manhattan  27020  27080\n",
       "3         Queens  16692  16883\n",
       "4  Staten Island  15143  14951"
      ]
     },
     "execution_count": 70,
     "metadata": {},
     "output_type": "execute_result"
    }
   ],
   "source": [
    "nyqc_annual_wage = pd.DataFrame({'boro': ['Bronx', 'Brooklyn', 'Manhattan', 'Queens', 'Staten Island'],\n",
    "                     '2000': [ 16392, 16713, 27020, 16692, 15143],\n",
    "                     '2007': [ 16195, 17017, 27080, 16883, 14951]})\n",
    "nyqc_annual_wage"
   ]
  },
  {
   "attachments": {},
   "cell_type": "markdown",
   "metadata": {},
   "source": [
    "There are three variables in this dataset: borough, year, and average annual income. However, we have values (2000 and 2007) in the column headers rather than variable names (year and average annual income). This is not ideal to work with, so let’s fix it! We will use the melt() function in pandas to turn the current values (2000 and 2007) in the column headers into row values and add year and avg_annual_wage as our column labels."
   ]
  },
  {
   "cell_type": "code",
   "execution_count": 71,
   "metadata": {},
   "outputs": [
    {
     "name": "stdout",
     "output_type": "stream",
     "text": [
      "            boro  year  avg_annual_wage\n",
      "0          Bronx  2000            16392\n",
      "1       Brooklyn  2000            16713\n",
      "2      Manhattan  2000            27020\n",
      "3         Queens  2000            16692\n",
      "4  Staten Island  2000            15143\n",
      "5          Bronx  2007            16195\n",
      "6       Brooklyn  2007            17017\n",
      "7      Manhattan  2007            27080\n",
      "8         Queens  2007            16883\n",
      "9  Staten Island  2007            14951\n"
     ]
    }
   ],
   "source": [
    "nyqc_annual_wage = nyqc_annual_wage.melt(\n",
    "    # which column to use as identifier variables\n",
    "    id_vars=['boro'],\n",
    "    # column name to use for “variable” names/column headers (ie. 2000 and 2007)\n",
    "    var_name=['year'],\n",
    "    # column name for the values originally in the columns 2000 and 2007\n",
    "    value_name=\"avg_annual_wage\"\n",
    ")\n",
    "\n",
    "print(nyqc_annual_wage)"
   ]
  }
 ],
 "metadata": {
  "kernelspec": {
   "display_name": "codecademy",
   "language": "python",
   "name": "python3"
  },
  "language_info": {
   "codemirror_mode": {
    "name": "ipython",
    "version": 3
   },
   "file_extension": ".py",
   "mimetype": "text/x-python",
   "name": "python",
   "nbconvert_exporter": "python",
   "pygments_lexer": "ipython3",
   "version": "3.9.16"
  },
  "orig_nbformat": 4
 },
 "nbformat": 4,
 "nbformat_minor": 2
}
