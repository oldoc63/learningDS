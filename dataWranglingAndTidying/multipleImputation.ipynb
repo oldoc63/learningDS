{
 "cells": [
  {
   "cell_type": "code",
   "execution_count": 1,
   "metadata": {},
   "outputs": [
    {
     "name": "stdout",
     "output_type": "stream",
     "text": [
      "      X     Y    Z\n",
      "0   5.4  18.0  7.6\n",
      "1  13.8  27.4  4.6\n",
      "2  14.7  17.4  4.2\n",
      "3  17.6  18.3  5.6\n",
      "4  11.2  49.6  4.7\n",
      "5   1.1  48.9  8.5\n",
      "6  12.9  17.4  3.5\n",
      "7   3.4  13.6  5.7\n",
      "8  11.2  16.1  1.8\n",
      "9  10.2  42.7  4.7\n"
     ]
    }
   ],
   "source": [
    "import numpy as np\n",
    "from sklearn.experimental import enable_iterative_imputer\n",
    "from sklearn.impute import IterativeImputer\n",
    "import pandas as pd\n",
    "\n",
    "# Create the dataset as Python dictionary\n",
    "d = {\n",
    "    'X': [5.4,13.8,14.7,17.6,np.nan,1.1,12.9,3.4,np.nan,10.2],\n",
    "    'Y': [18,27.4,np.nan,18.3,49.6,48.9,np.nan,13.6,16.1,42.7],\n",
    "    'Z': [7.6,4.6,4.2,np.nan,4.7,8.5,3.5,np.nan,1.8,4.7]\n",
    "}\n",
    "\n",
    "dTest = {\n",
    "    'X': [13.1, 10.8, np.nan, 9.7, 11.2],\n",
    "    'Y': [18.3, np.nan, 14.1, 19.8, 17.5],\n",
    "    'Z': [4.2, 3.1, 5.7,np.nan, 9.6]\n",
    "}\n",
    "\n",
    "# Create the pandas DataFrame from our dictionary\n",
    "df = pd.DataFrame(data=d)\n",
    "dfTest = pd.DataFrame(data=dTest)\n",
    "\n",
    "# Careate the IteractiveImputer model to predict missing values\n",
    "imp = IterativeImputer(max_iter=10, random_state=0)\n",
    "\n",
    "# Fit the model to the test dataset\n",
    "imp.fit(dfTest)\n",
    "\n",
    "# Transform the model on the entire dataset\n",
    "dfComplete = pd.DataFrame(np.round(imp.transform(df), 1), columns=['X','Y','Z'])\n",
    "\n",
    "print(dfComplete.head(10))"
   ]
  }
 ],
 "metadata": {
  "kernelspec": {
   "display_name": "codecademy",
   "language": "python",
   "name": "python3"
  },
  "language_info": {
   "codemirror_mode": {
    "name": "ipython",
    "version": 3
   },
   "file_extension": ".py",
   "mimetype": "text/x-python",
   "name": "python",
   "nbconvert_exporter": "python",
   "pygments_lexer": "ipython3",
   "version": "3.9.16"
  },
  "orig_nbformat": 4
 },
 "nbformat": 4,
 "nbformat_minor": 2
}
