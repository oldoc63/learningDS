{
 "cells": [
  {
   "cell_type": "code",
   "execution_count": 1,
   "metadata": {},
   "outputs": [
    {
     "name": "stdout",
     "output_type": "stream",
     "text": [
      "      X     Y    Z\n",
      "0   5.4  18.0  7.6\n",
      "1  13.8  27.4  4.6\n",
      "2  14.7  17.4  4.2\n",
      "3  17.6  18.3  5.6\n",
      "4  11.2  49.6  4.7\n",
      "5   1.1  48.9  8.5\n",
      "6  12.9  17.4  3.5\n",
      "7   3.4  13.6  5.7\n",
      "8  11.2  16.1  1.8\n",
      "9  10.2  42.7  4.7\n"
     ]
    }
   ],
   "source": [
    "import numpy as np\n",
    "from sklearn.experimental import enable_iterative_imputer\n",
    "from sklearn.impute import IterativeImputer\n",
    "import pandas as pd\n",
    "\n",
    "# Create the dataset as Python dictionary\n",
    "d = {\n",
    "    'X': [5.4,13.8,14.7,17.6,np.nan,1.1,12.9,3.4,np.nan,10.2],\n",
    "    'Y': [18,27.4,np.nan,18.3,49.6,48.9,np.nan,13.6,16.1,42.7],\n",
    "    'Z': [7.6,4.6,4.2,np.nan,4.7,8.5,3.5,np.nan,1.8,4.7]\n",
    "}\n",
    "\n",
    "dTest = {\n",
    "    'X': [13.1, 10.8, np.nan, 9.7, 11.2],\n",
    "    'Y': [18.3, np.nan, 14.1, 19.8, 17.5],\n",
    "    'Z': [4.2, 3.1, 5.7,np.nan, 9.6]\n",
    "}\n",
    "\n",
    "# Create the pandas DataFrame from our dictionary\n",
    "df = pd.DataFrame(data=d)\n",
    "dfTest = pd.DataFrame(data=dTest)\n",
    "\n",
    "# Careate the IteractiveImputer model to predict missing values\n",
    "imp = IterativeImputer(max_iter=10, random_state=0)\n",
    "\n",
    "# Fit the model to the test dataset\n",
    "imp.fit(dfTest)\n",
    "\n",
    "# Transform the model on the entire dataset\n",
    "dfComplete = pd.DataFrame(np.round(imp.transform(df), 1), columns=['X','Y','Z'])\n",
    "\n",
    "print(dfComplete.head(10))"
   ]
  },
  {
   "attachments": {},
   "cell_type": "markdown",
   "metadata": {},
   "source": [
    "Use the IterativeImputer module within sklearn to impute the missing data values.\n",
    "\n",
    "    Use 10 iterations.\n",
    "    Set random_state to 1.\n",
    "\n",
    "Set dfComplete equal to the resulting DataFrame.\n"
   ]
  },
  {
   "cell_type": "code",
   "execution_count": 2,
   "metadata": {},
   "outputs": [
    {
     "name": "stdout",
     "output_type": "stream",
     "text": [
      "D     5.42\n",
      "E    17.38\n",
      "F    46.27\n",
      "G    81.20\n",
      "dtype: float64\n"
     ]
    }
   ],
   "source": [
    "d = {\n",
    "    'D': [6.9,np.nan,5.4,4.7,4.5,5.1,4.1,4.5,np.nan,7.5],\n",
    "    'E': [18.5,21.9,np.nan,21.2,12.4,16.7,11,11.5,21.6,np.nan],\n",
    "    'F': [np.nan,36.3,50.6,48.7,51.9,np.nan,51.6,50.1,46.9,36.6],\n",
    "    'G': [80,70.1,94.5,np.nan,76.3,84.6,np.nan,93.6,68.9,82]\n",
    "}\n",
    "\n",
    "dTest = {\n",
    "    'D': [5.6,np.nan,4.5,3.2,5.9],\n",
    "    'E': [16.1,20.7,np.nan,22.4,13.4],\n",
    "    'F': [np.nan,31.2,53.2,47.8,50.8],\n",
    "    'G': [79.9,71.3,92.4,np.nan,75.6]\n",
    "}\n",
    "\n",
    "# Define df and dfTest as pandas DataFrames\n",
    "df = pd.DataFrame(data=d)\n",
    "dfTest = pd.DataFrame(data=dTest)\n",
    "\n",
    "# Create the IterativeImputer model to predict missing values\n",
    "imp = IterativeImputer(max_iter=10, random_state=0)\n",
    "\n",
    "# Fit the model to test the dataset\n",
    "imp.fit(dfTest)\n",
    "\n",
    "# Transform the model on the entire dataset\n",
    "dfComplete = pd.DataFrame(np.round(imp.transform(df),1), columns=['D','E','F','G'])\n",
    "\n",
    "print(round(dfComplete.mean(),2))"
   ]
  }
 ],
 "metadata": {
  "kernelspec": {
   "display_name": "codecademy",
   "language": "python",
   "name": "python3"
  },
  "language_info": {
   "codemirror_mode": {
    "name": "ipython",
    "version": 3
   },
   "file_extension": ".py",
   "mimetype": "text/x-python",
   "name": "python",
   "nbconvert_exporter": "python",
   "pygments_lexer": "ipython3",
   "version": "3.9.16"
  },
  "orig_nbformat": 4
 },
 "nbformat": 4,
 "nbformat_minor": 2
}
