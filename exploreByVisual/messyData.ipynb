{
 "cells": [
  {
   "attachments": {},
   "cell_type": "markdown",
   "metadata": {},
   "source": [
    "## Data Visualizations for Messy Data"
   ]
  },
  {
   "cell_type": "markdown",
   "metadata": {},
   "source": [
    "#### Learn how to work around problems with visualizing messy and missing data."
   ]
  },
  {
   "attachments": {},
   "cell_type": "markdown",
   "metadata": {},
   "source": [
    "Data visualization tutorials generally use pre-processed data. But what about datasets in the wild? What do we do about missing data? Or outliers that largely skew visualizations? What do we do when there are too many observations to be interpretable in a scatterplot? This article will introduce some of the methods we can use to work around these problems.\n",
    "\n",
    "Let’s say we are new real estate agents who want to use data to better understand the relationship between the price and the number of bedrooms in a home. We will be using a dataset we have called housing from [Kaggle](https://www.kaggle.com/austinreese/usa-housing-listings) on USA Housing Listings."
   ]
  },
  {
   "attachments": {},
   "cell_type": "markdown",
   "metadata": {},
   "source": [
    "### Missing data"
   ]
  },
  {
   "attachments": {},
   "cell_type": "markdown",
   "metadata": {},
   "source": [
    "Incomplete observations — or missing data — are generally ignored by plotting functions in commonly-used Python libraries, such as matplotlib and seaborn. Therefore, we may want to remove those rows or impute the missing values before plotting. We can check for missing data using <span style=\"color:aqua\">**info()**</span>:"
   ]
  },
  {
   "cell_type": "code",
   "execution_count": 2,
   "metadata": {},
   "outputs": [
    {
     "name": "stdout",
     "output_type": "stream",
     "text": [
      "<class 'pandas.core.frame.DataFrame'>\n",
      "RangeIndex: 384977 entries, 0 to 384976\n",
      "Data columns (total 22 columns):\n",
      " #   Column                   Non-Null Count   Dtype  \n",
      "---  ------                   --------------   -----  \n",
      " 0   id                       384977 non-null  int64  \n",
      " 1   url                      384977 non-null  object \n",
      " 2   region                   384977 non-null  object \n",
      " 3   region_url               384977 non-null  object \n",
      " 4   price                    384977 non-null  int64  \n",
      " 5   type                     384977 non-null  object \n",
      " 6   sqfeet                   384977 non-null  int64  \n",
      " 7   beds                     384977 non-null  int64  \n",
      " 8   baths                    384977 non-null  float64\n",
      " 9   cats_allowed             384977 non-null  int64  \n",
      " 10  dogs_allowed             384977 non-null  int64  \n",
      " 11  smoking_allowed          384977 non-null  int64  \n",
      " 12  wheelchair_access        384977 non-null  int64  \n",
      " 13  electric_vehicle_charge  384977 non-null  int64  \n",
      " 14  comes_furnished          384977 non-null  int64  \n",
      " 15  laundry_options          305951 non-null  object \n",
      " 16  parking_options          244290 non-null  object \n",
      " 17  image_url                384977 non-null  object \n",
      " 18  description              384975 non-null  object \n",
      " 19  lat                      383059 non-null  float64\n",
      " 20  long                     383059 non-null  float64\n",
      " 21  state                    384977 non-null  object \n",
      "dtypes: float64(3), int64(10), object(9)\n",
      "memory usage: 64.6+ MB\n"
     ]
    }
   ],
   "source": [
    "import pandas as pd\n",
    "\n",
    "housing = pd.read_csv('/home/oldoc/largeDataSets/housing.csv')\n",
    "housing.info()"
   ]
  },
  {
   "attachments": {},
   "cell_type": "markdown",
   "metadata": {},
   "source": [
    "Based on this output, we may be concerned about the columns laundry_options and parking_options because they have more missing values than other columns."
   ]
  },
  {
   "cell_type": "code",
   "execution_count": 7,
   "metadata": {},
   "outputs": [
    {
     "name": "stdout",
     "output_type": "stream",
     "text": [
      "<class 'pandas.core.frame.DataFrame'>\n",
      "RangeIndex: 384977 entries, 0 to 384976\n",
      "Data columns (total 2 columns):\n",
      " #   Column           Non-Null Count   Dtype \n",
      "---  ------           --------------   ----- \n",
      " 0   laundry_options  305951 non-null  object\n",
      " 1   parking_options  244290 non-null  object\n",
      "dtypes: object(2)\n",
      "memory usage: 5.9+ MB\n"
     ]
    }
   ],
   "source": [
    "housing[['laundry_options','parking_options']].info()"
   ]
  }
 ],
 "metadata": {
  "kernelspec": {
   "display_name": "codecademy",
   "language": "python",
   "name": "python3"
  },
  "language_info": {
   "codemirror_mode": {
    "name": "ipython",
    "version": 3
   },
   "file_extension": ".py",
   "mimetype": "text/x-python",
   "name": "python",
   "nbconvert_exporter": "python",
   "pygments_lexer": "ipython3",
   "version": "3.9.16"
  },
  "orig_nbformat": 4,
  "vscode": {
   "interpreter": {
    "hash": "db63a3840ece0c8ff5abf3159a4e56c0511ab85aa97d9215e6f127ef62045e4d"
   }
  }
 },
 "nbformat": 4,
 "nbformat_minor": 2
}
