{
 "cells": [
  {
   "attachments": {},
   "cell_type": "markdown",
   "metadata": {},
   "source": [
    "1. Si al efectuar la división:\n",
    "$\n",
    "\\frac{6x^4-7x^3-4x^2+10x^3}{3x^2+x-2}\n",
    "$"
   ]
  },
  {
   "attachments": {},
   "cell_type": "markdown",
   "metadata": {},
   "source": [
    "- Se obtiene como cociente y resto a $q{}_{(x)}$ y $R{}_{(x)}$ respectivamente, halle $q{}_{(x)}$+$R{}_{(x)}$."
   ]
  }
 ],
 "metadata": {
  "kernelspec": {
   "display_name": "codecademy",
   "language": "python",
   "name": "python3"
  },
  "language_info": {
   "name": "python",
   "version": "3.10.8 | packaged by conda-forge | (main, Nov 22 2022, 08:16:33) [MSC v.1929 64 bit (AMD64)]"
  },
  "orig_nbformat": 4,
  "vscode": {
   "interpreter": {
    "hash": "ab43b87d2b275c094522edddecea71cc47fbe84ac28fa3c61b2da2b63a30f23f"
   }
  }
 },
 "nbformat": 4,
 "nbformat_minor": 2
}
