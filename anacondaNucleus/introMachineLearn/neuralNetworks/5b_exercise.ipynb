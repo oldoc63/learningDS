{
 "cells": [
  {
   "cell_type": "markdown",
   "id": "04a5dfbf",
   "metadata": {},
   "source": [
    "## EXERCISE - MNIST Neural Networks"
   ]
  },
  {
   "cell_type": "markdown",
   "id": "5bec5246",
   "metadata": {},
   "source": [
    "In the Python code below, replace the question marks \"?\" with the proper code to perform a neural network prediction on the MNIST dataset predicting the digits 0-9. \n",
    "\n",
    "Find a sufficient number of nodes in the hidden layer, and use ReLU as the activation function. Make sure to balance the samples of each class so each are represented equally!\n",
    "\n",
    "Use a learning rate of .1 and a max of 480 iterations for stochastic gradient descent. Set aside 1/3 of the data for testing, then evaluate performance with a confusion matrix.\n"
   ]
  },
  {
   "cell_type": "code",
   "execution_count": 1,
   "id": "fb1be73a",
   "metadata": {},
   "outputs": [
    {
     "name": "stdout",
     "output_type": "stream",
     "text": [
      "Test set score: 0.976429\n",
      "[[2266    0    5    0    1    7    9    1    8    4]\n",
      " [   0 2594   10    6    2    2    2    5    3    2]\n",
      " [   5    5 2277    9    4    2    3   11   11    3]\n",
      " [   1    2   24 2306    0   26    0    7   10    5]\n",
      " [   2    3    6    1 2218    0    7    5    4   29]\n",
      " [   5    1    4   12    1 2055    8    2    6   10]\n",
      " [  11    4    3    0    4   15 2250    0    5    0]\n",
      " [   3   10    8    3    7    2    0 2376    6   16]\n",
      " [   8   10    6   16    3   11    8    3 2193   17]\n",
      " [   6    1    1   12   24    6    2   13    5 2249]]\n"
     ]
    }
   ],
   "source": [
    "import numpy as np\n",
    "import pandas as pd\n",
    "from sklearn.model_selection import train_test_split\n",
    "from sklearn.neural_network import MLPClassifier\n",
    "from sklearn.metrics import confusion_matrix\n",
    "\n",
    "df = pd.read_csv('https://bit.ly/3ilJc2C', compression='zip', delimiter=\",\")\n",
    "\n",
    "X = df.values[:, :-1] / 1000.0 # this rescale helps the training \n",
    "Y = df.values[:, -1]\n",
    "\n",
    "\n",
    "# Separate training and testing data\n",
    "# Note that I use the 'stratify' parameter to ensure\n",
    "# each class is proportionally represented in both sets\n",
    "X_train, X_test, Y_train, Y_test = train_test_split(X, Y,\n",
    "    test_size=1.0/3.0, random_state=10, stratify=Y)\n",
    "\n",
    "# Fit a neural network classifier \n",
    "nn = MLPClassifier(solver='sgd',\n",
    "                   hidden_layer_sizes=(100, ),\n",
    "                   activation='relu',\n",
    "                   max_iter=480,\n",
    "                   learning_rate_init=.1)\n",
    "\n",
    "nn.fit(X_train, Y_train)\n",
    "\n",
    "# Evaluate the test dataset\n",
    "print(\"Test set score: %f\" % nn.score(X_test, Y_test))\n",
    "\n",
    "cf = confusion_matrix(y_true=Y_test, y_pred=nn.predict(X_test))\n",
    "print(cf)"
   ]
  },
  {
   "cell_type": "markdown",
   "id": "80aeaa1c",
   "metadata": {},
   "source": [
    "### SCROLL DOWN FOR ANSWER\n",
    "|<br>\n",
    "|<br>\n",
    "|<br>\n",
    "|<br>\n",
    "|<br>\n",
    "|<br>\n",
    "|<br>\n",
    "|<br>\n",
    "|<br>\n",
    "|<br>\n",
    "|<br>\n",
    "|<br>\n",
    "|<br>\n",
    "|<br>\n",
    "|<br>\n",
    "|<br>\n",
    "|<br>\n",
    "|<br>\n",
    "|<br>\n",
    "|<br>\n",
    "|<br>\n",
    "|<br>\n",
    "|<br>\n",
    "v \n",
    "\n",
    "```python\n",
    "import numpy as np\n",
    "import pandas as pd\n",
    "from sklearn.model_selection import train_test_split\n",
    "from sklearn.neural_network import MLPClassifier\n",
    "from sklearn.metrics import confusion_matrix\n",
    "\n",
    "df = pd.read_csv('https://bit.ly/3ilJc2C', compression='zip', delimiter=\",\")\n",
    "\n",
    "X = df.values[:, :-1] / 1000.0  # this rescale helps the training \n",
    "Y = df.values[:, -1]\n",
    "\n",
    "\n",
    "# Separate training and testing data\n",
    "# Note that I use the 'stratify' parameter to ensure\n",
    "# each class is proportionally represented in both sets\n",
    "X_train, X_test, Y_train, Y_test = train_test_split(X, Y,\n",
    "    test_size=.33, random_state=10, stratify=Y)\n",
    "\n",
    "# Fit a neural network classifier \n",
    "nn = MLPClassifier(solver='sgd',\n",
    "                   hidden_layer_sizes=(100, ),\n",
    "                   activation='relu',\n",
    "                   max_iter=480,\n",
    "                   learning_rate_init=.1)\n",
    "\n",
    "nn.fit(X_train, Y_train)\n",
    "\n",
    "# Evaluate the test dataset\n",
    "print(\"Test set score: %f\" % nn.score(X_test, Y_test))\n",
    "\n",
    "cf = confusion_matrix(y_true=Y_test, y_pred=nn.predict(X_test))\n",
    "print(cf)\n",
    "```"
   ]
  },
  {
   "cell_type": "code",
   "execution_count": null,
   "id": "80efdf3e",
   "metadata": {},
   "outputs": [],
   "source": []
  }
 ],
 "metadata": {
  "kernelspec": {
   "display_name": "base",
   "language": "python",
   "name": "python3"
  },
  "language_info": {
   "codemirror_mode": {
    "name": "ipython",
    "version": 3
   },
   "file_extension": ".py",
   "mimetype": "text/x-python",
   "name": "python",
   "nbconvert_exporter": "python",
   "pygments_lexer": "ipython3",
   "version": "3.9.13"
  },
  "vscode": {
   "interpreter": {
    "hash": "c523e1c329ca13940e1efc38a9f589c3c43ca587888bc49050823cc163d418fd"
   }
  }
 },
 "nbformat": 4,
 "nbformat_minor": 5
}
