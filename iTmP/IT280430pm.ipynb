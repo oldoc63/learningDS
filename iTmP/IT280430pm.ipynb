{
 "cells": [
  {
   "cell_type": "code",
   "execution_count": 175,
   "metadata": {
    "executionInfo": {
     "elapsed": 670,
     "status": "ok",
     "timestamp": 1682711322055,
     "user": {
      "displayName": "Leopoldo Olmos",
      "userId": "14960194383474345965"
     },
     "user_tz": 240
    },
    "id": "idSVpT08Y2jp"
   },
   "outputs": [],
   "source": [
    "import pandas as pd"
   ]
  },
  {
   "cell_type": "code",
   "execution_count": 176,
   "metadata": {
    "executionInfo": {
     "elapsed": 204,
     "status": "ok",
     "timestamp": 1682711328779,
     "user": {
      "displayName": "Leopoldo Olmos",
      "userId": "14960194383474345965"
     },
     "user_tz": 240
    },
    "id": "X7VFYm0pY2jr"
   },
   "outputs": [],
   "source": [
    "pd.set_option('display.max_columns', 43)\n",
    "pd.set_option('display.max_rows', 41)"
   ]
  },
  {
   "cell_type": "code",
   "execution_count": 177,
   "metadata": {
    "executionInfo": {
     "elapsed": 543,
     "status": "ok",
     "timestamp": 1682711333669,
     "user": {
      "displayName": "Leopoldo Olmos",
      "userId": "14960194383474345965"
     },
     "user_tz": 240
    },
    "id": "FBXqVrDhY2js"
   },
   "outputs": [],
   "source": [
    "df = pd.read_csv('/home/oldoc/learningDS/iTmP/IT270423.csv')"
   ]
  },
  {
   "cell_type": "code",
   "execution_count": 178,
   "metadata": {
    "colab": {
     "base_uri": "https://localhost:8080/"
    },
    "executionInfo": {
     "elapsed": 445,
     "status": "ok",
     "timestamp": 1682711343632,
     "user": {
      "displayName": "Leopoldo Olmos",
      "userId": "14960194383474345965"
     },
     "user_tz": 240
    },
    "id": "TJEOey7HY2ju",
    "outputId": "538ce760-f3ec-4d64-b817-4d2f0d1a8101"
   },
   "outputs": [
    {
     "data": {
      "text/plain": [
       "Index(['Unnamed: 0', 'Unnamed: 1', 'F DE NAC.', 'EDAD', 'PESO', 'TALLA', 'SC',\n",
       "       'SEXO', 'FEVI BP', 'DVITD', 'FEVI TCH', 'INTERFERENCIA', 'S` TRIC. ',\n",
       "       'AREA AD ', 'AREA VD TD', 'AREA VD TS', 'FAC', 'VD BASAL 4C', 'ORE IT',\n",
       "       'GMAX.  IT', 'TAPSE', 'ANILLO TRC', 'VC   IT mm', 'PSAP', 'I. MITRAL',\n",
       "       'I. AO/EAO', 'VD', 'AD', 'VD F.SIST.', 'TIEMPO INT.', 'PR MITRAL',\n",
       "       'PR AO', 'PR TRICUS.'],\n",
       "      dtype='object')"
      ]
     },
     "execution_count": 178,
     "metadata": {},
     "output_type": "execute_result"
    }
   ],
   "source": [
    "df.columns"
   ]
  },
  {
   "cell_type": "code",
   "execution_count": 179,
   "metadata": {
    "executionInfo": {
     "elapsed": 216,
     "status": "ok",
     "timestamp": 1682711354108,
     "user": {
      "displayName": "Leopoldo Olmos",
      "userId": "14960194383474345965"
     },
     "user_tz": 240
    },
    "id": "IvOe5yF5Y2ju"
   },
   "outputs": [],
   "source": [
    "df.rename(columns={'Unnamed: 0': 'index1', 'Unnamed: 1': 'hist_clin', 'F DE NAC.': 'nacimiento', 'EDAD': 'edad', 'PESO':'peso', 'TALLA':'talla', 'SC':'sc', 'SEXO':'sexo', 'FEVI BP':'fevibp', 'DVITD':'dvitd', 'FEVI TCH':'fevitch', 'INTERFERENCIA':'interfer', 'S` TRIC. ':'sprimatr', 'AREA AD ':'area_ad', 'AREA VD TD':'area_vd_td', 'AREA VD TS':'area_vd_ts', 'FAC':'fac', 'VD BASAL 4C':'vd_basal_4c', 'ORE IT':'ore_it', 'GMAX.  IT':'gmax_it', 'TAPSE':'tapse', 'ANILLO TRC':'anillo_trc', 'VC   IT mm':'vc_it_mm', 'PSAP':'psap', 'I. MITRAL':'i_mitral', 'I. AO/EAO':'iao_eao', 'VD':'vd', 'AD':'ad', 'VD F.SIST.':'vd_f_sist', 'TIEMPO INT.':'t_int', 'PR MITRAL':'pr_mitral', 'PR AO':'pr_ao', 'PR TRICUS.':'pr_tr'}, inplace=True)"
   ]
  },
  {
   "cell_type": "code",
   "execution_count": 180,
   "metadata": {
    "id": "RzDew5ZIY2jv",
    "outputId": "894f1cc9-7b21-4f80-d6df-063e6454d216"
   },
   "outputs": [
    {
     "data": {
      "text/html": [
       "<div>\n",
       "<style scoped>\n",
       "    .dataframe tbody tr th:only-of-type {\n",
       "        vertical-align: middle;\n",
       "    }\n",
       "\n",
       "    .dataframe tbody tr th {\n",
       "        vertical-align: top;\n",
       "    }\n",
       "\n",
       "    .dataframe thead th {\n",
       "        text-align: right;\n",
       "    }\n",
       "</style>\n",
       "<table border=\"1\" class=\"dataframe\">\n",
       "  <thead>\n",
       "    <tr style=\"text-align: right;\">\n",
       "      <th></th>\n",
       "      <th>index1</th>\n",
       "      <th>hist_clin</th>\n",
       "      <th>nacimiento</th>\n",
       "      <th>edad</th>\n",
       "      <th>peso</th>\n",
       "      <th>talla</th>\n",
       "      <th>sc</th>\n",
       "      <th>sexo</th>\n",
       "      <th>fevibp</th>\n",
       "      <th>dvitd</th>\n",
       "      <th>fevitch</th>\n",
       "      <th>interfer</th>\n",
       "      <th>sprimatr</th>\n",
       "      <th>area_ad</th>\n",
       "      <th>area_vd_td</th>\n",
       "      <th>area_vd_ts</th>\n",
       "      <th>fac</th>\n",
       "      <th>vd_basal_4c</th>\n",
       "      <th>ore_it</th>\n",
       "      <th>gmax_it</th>\n",
       "      <th>tapse</th>\n",
       "      <th>anillo_trc</th>\n",
       "      <th>vc_it_mm</th>\n",
       "      <th>psap</th>\n",
       "      <th>i_mitral</th>\n",
       "      <th>iao_eao</th>\n",
       "      <th>vd</th>\n",
       "      <th>ad</th>\n",
       "      <th>vd_f_sist</th>\n",
       "      <th>t_int</th>\n",
       "      <th>pr_mitral</th>\n",
       "      <th>pr_ao</th>\n",
       "      <th>pr_tr</th>\n",
       "    </tr>\n",
       "  </thead>\n",
       "  <tbody>\n",
       "    <tr>\n",
       "      <th>0</th>\n",
       "      <td>2</td>\n",
       "      <td>764784</td>\n",
       "      <td>1930.0</td>\n",
       "      <td>93.0</td>\n",
       "      <td>69.0</td>\n",
       "      <td>154.0</td>\n",
       "      <td>1.67</td>\n",
       "      <td>1</td>\n",
       "      <td>NaN</td>\n",
       "      <td>4.7</td>\n",
       "      <td>62.0</td>\n",
       "      <td>1</td>\n",
       "      <td>8.9</td>\n",
       "      <td>41.0</td>\n",
       "      <td>NaN</td>\n",
       "      <td>NaN</td>\n",
       "      <td>NaN</td>\n",
       "      <td>NaN</td>\n",
       "      <td>NaN</td>\n",
       "      <td>13.0</td>\n",
       "      <td>15.0</td>\n",
       "      <td>NaN</td>\n",
       "      <td>NaN</td>\n",
       "      <td>43.0</td>\n",
       "      <td>1.0</td>\n",
       "      <td>NaN</td>\n",
       "      <td>NaN</td>\n",
       "      <td>NaN</td>\n",
       "      <td>NaN</td>\n",
       "      <td>5.0</td>\n",
       "      <td>NaN</td>\n",
       "      <td>1.0</td>\n",
       "      <td>NaN</td>\n",
       "    </tr>\n",
       "    <tr>\n",
       "      <th>1</th>\n",
       "      <td>3</td>\n",
       "      <td>395267</td>\n",
       "      <td>NaN</td>\n",
       "      <td>NaN</td>\n",
       "      <td>NaN</td>\n",
       "      <td>153.0</td>\n",
       "      <td>NaN</td>\n",
       "      <td>1</td>\n",
       "      <td>NaN</td>\n",
       "      <td>4.3</td>\n",
       "      <td>66.0</td>\n",
       "      <td>1</td>\n",
       "      <td>10.0</td>\n",
       "      <td>NaN</td>\n",
       "      <td>NaN</td>\n",
       "      <td>NaN</td>\n",
       "      <td>NaN</td>\n",
       "      <td>NaN</td>\n",
       "      <td>NaN</td>\n",
       "      <td>82.0</td>\n",
       "      <td>21.0</td>\n",
       "      <td>NaN</td>\n",
       "      <td>NaN</td>\n",
       "      <td>NaN</td>\n",
       "      <td>NaN</td>\n",
       "      <td>NaN</td>\n",
       "      <td>4.0</td>\n",
       "      <td>3.0</td>\n",
       "      <td>NaN</td>\n",
       "      <td>NaN</td>\n",
       "      <td>NaN</td>\n",
       "      <td>NaN</td>\n",
       "      <td>NaN</td>\n",
       "    </tr>\n",
       "    <tr>\n",
       "      <th>2</th>\n",
       "      <td>4</td>\n",
       "      <td>1137397430</td>\n",
       "      <td>1934.0</td>\n",
       "      <td>89.0</td>\n",
       "      <td>53.0</td>\n",
       "      <td>153.0</td>\n",
       "      <td>1.40</td>\n",
       "      <td>1</td>\n",
       "      <td>NaN</td>\n",
       "      <td>NaN</td>\n",
       "      <td>NaN</td>\n",
       "      <td>1</td>\n",
       "      <td>NaN</td>\n",
       "      <td>NaN</td>\n",
       "      <td>NaN</td>\n",
       "      <td>NaN</td>\n",
       "      <td>NaN</td>\n",
       "      <td>NaN</td>\n",
       "      <td>NaN</td>\n",
       "      <td>NaN</td>\n",
       "      <td>20.0</td>\n",
       "      <td>NaN</td>\n",
       "      <td>NaN</td>\n",
       "      <td>NaN</td>\n",
       "      <td>NaN</td>\n",
       "      <td>NaN</td>\n",
       "      <td>2.0</td>\n",
       "      <td>3.0</td>\n",
       "      <td>1.0</td>\n",
       "      <td>NaN</td>\n",
       "      <td>NaN</td>\n",
       "      <td>NaN</td>\n",
       "      <td>NaN</td>\n",
       "    </tr>\n",
       "    <tr>\n",
       "      <th>3</th>\n",
       "      <td>5</td>\n",
       "      <td>923627</td>\n",
       "      <td>1918.0</td>\n",
       "      <td>98.0</td>\n",
       "      <td>NaN</td>\n",
       "      <td>NaN</td>\n",
       "      <td>NaN</td>\n",
       "      <td>2</td>\n",
       "      <td>NaN</td>\n",
       "      <td>4.9</td>\n",
       "      <td>64.0</td>\n",
       "      <td>1</td>\n",
       "      <td>NaN</td>\n",
       "      <td>NaN</td>\n",
       "      <td>NaN</td>\n",
       "      <td>NaN</td>\n",
       "      <td>NaN</td>\n",
       "      <td>NaN</td>\n",
       "      <td>NaN</td>\n",
       "      <td>52.0</td>\n",
       "      <td>14.0</td>\n",
       "      <td>NaN</td>\n",
       "      <td>NaN</td>\n",
       "      <td>60.0</td>\n",
       "      <td>1.0</td>\n",
       "      <td>NaN</td>\n",
       "      <td>2.0</td>\n",
       "      <td>NaN</td>\n",
       "      <td>2.0</td>\n",
       "      <td>NaN</td>\n",
       "      <td>NaN</td>\n",
       "      <td>NaN</td>\n",
       "      <td>NaN</td>\n",
       "    </tr>\n",
       "    <tr>\n",
       "      <th>4</th>\n",
       "      <td>7</td>\n",
       "      <td>427151</td>\n",
       "      <td>1936.0</td>\n",
       "      <td>87.0</td>\n",
       "      <td>77.0</td>\n",
       "      <td>172.0</td>\n",
       "      <td>NaN</td>\n",
       "      <td>2</td>\n",
       "      <td>NaN</td>\n",
       "      <td>5.7</td>\n",
       "      <td>62.0</td>\n",
       "      <td>1</td>\n",
       "      <td>NaN</td>\n",
       "      <td>47.0</td>\n",
       "      <td>NaN</td>\n",
       "      <td>NaN</td>\n",
       "      <td>NaN</td>\n",
       "      <td>NaN</td>\n",
       "      <td>NaN</td>\n",
       "      <td>40.0</td>\n",
       "      <td>NaN</td>\n",
       "      <td>NaN</td>\n",
       "      <td>NaN</td>\n",
       "      <td>68.0</td>\n",
       "      <td>1.0</td>\n",
       "      <td>NaN</td>\n",
       "      <td>4.0</td>\n",
       "      <td>NaN</td>\n",
       "      <td>NaN</td>\n",
       "      <td>4.0</td>\n",
       "      <td>NaN</td>\n",
       "      <td>NaN</td>\n",
       "      <td>NaN</td>\n",
       "    </tr>\n",
       "    <tr>\n",
       "      <th>5</th>\n",
       "      <td>8</td>\n",
       "      <td>645429</td>\n",
       "      <td>1939.0</td>\n",
       "      <td>84.0</td>\n",
       "      <td>59.0</td>\n",
       "      <td>155.0</td>\n",
       "      <td>1.50</td>\n",
       "      <td>1</td>\n",
       "      <td>60.0</td>\n",
       "      <td>4.4</td>\n",
       "      <td>NaN</td>\n",
       "      <td>1</td>\n",
       "      <td>NaN</td>\n",
       "      <td>21.0</td>\n",
       "      <td>NaN</td>\n",
       "      <td>NaN</td>\n",
       "      <td>NaN</td>\n",
       "      <td>NaN</td>\n",
       "      <td>0.70</td>\n",
       "      <td>28.0</td>\n",
       "      <td>21.0</td>\n",
       "      <td>34.0</td>\n",
       "      <td>7.0</td>\n",
       "      <td>37.0</td>\n",
       "      <td>NaN</td>\n",
       "      <td>NaN</td>\n",
       "      <td>2.0</td>\n",
       "      <td>4.0</td>\n",
       "      <td>1.0</td>\n",
       "      <td>7.0</td>\n",
       "      <td>NaN</td>\n",
       "      <td>NaN</td>\n",
       "      <td>NaN</td>\n",
       "    </tr>\n",
       "    <tr>\n",
       "      <th>6</th>\n",
       "      <td>9</td>\n",
       "      <td>812277</td>\n",
       "      <td>1932.0</td>\n",
       "      <td>91.0</td>\n",
       "      <td>70.0</td>\n",
       "      <td>160.0</td>\n",
       "      <td>1.73</td>\n",
       "      <td>2</td>\n",
       "      <td>NaN</td>\n",
       "      <td>NaN</td>\n",
       "      <td>NaN</td>\n",
       "      <td>1</td>\n",
       "      <td>NaN</td>\n",
       "      <td>NaN</td>\n",
       "      <td>NaN</td>\n",
       "      <td>NaN</td>\n",
       "      <td>NaN</td>\n",
       "      <td>NaN</td>\n",
       "      <td>NaN</td>\n",
       "      <td>NaN</td>\n",
       "      <td>13.0</td>\n",
       "      <td>41.0</td>\n",
       "      <td>9.0</td>\n",
       "      <td>55.0</td>\n",
       "      <td>NaN</td>\n",
       "      <td>NaN</td>\n",
       "      <td>1.0</td>\n",
       "      <td>2.0</td>\n",
       "      <td>2.0</td>\n",
       "      <td>NaN</td>\n",
       "      <td>NaN</td>\n",
       "      <td>NaN</td>\n",
       "      <td>NaN</td>\n",
       "    </tr>\n",
       "    <tr>\n",
       "      <th>7</th>\n",
       "      <td>10</td>\n",
       "      <td>1286697</td>\n",
       "      <td>1930.0</td>\n",
       "      <td>93.0</td>\n",
       "      <td>65.0</td>\n",
       "      <td>164.0</td>\n",
       "      <td>1.90</td>\n",
       "      <td>2</td>\n",
       "      <td>NaN</td>\n",
       "      <td>5.2</td>\n",
       "      <td>75.0</td>\n",
       "      <td>1</td>\n",
       "      <td>8.0</td>\n",
       "      <td>23.8</td>\n",
       "      <td>35.0</td>\n",
       "      <td>NaN</td>\n",
       "      <td>NaN</td>\n",
       "      <td>4.7</td>\n",
       "      <td>NaN</td>\n",
       "      <td>42.0</td>\n",
       "      <td>13.0</td>\n",
       "      <td>NaN</td>\n",
       "      <td>NaN</td>\n",
       "      <td>53.0</td>\n",
       "      <td>NaN</td>\n",
       "      <td>NaN</td>\n",
       "      <td>2.0</td>\n",
       "      <td>4.0</td>\n",
       "      <td>2.0</td>\n",
       "      <td>5.0</td>\n",
       "      <td>NaN</td>\n",
       "      <td>NaN</td>\n",
       "      <td>NaN</td>\n",
       "    </tr>\n",
       "    <tr>\n",
       "      <th>8</th>\n",
       "      <td>11</td>\n",
       "      <td>1211243</td>\n",
       "      <td>NaN</td>\n",
       "      <td>NaN</td>\n",
       "      <td>NaN</td>\n",
       "      <td>NaN</td>\n",
       "      <td>NaN</td>\n",
       "      <td>1</td>\n",
       "      <td>56.0</td>\n",
       "      <td>NaN</td>\n",
       "      <td>NaN</td>\n",
       "      <td>1</td>\n",
       "      <td>NaN</td>\n",
       "      <td>NaN</td>\n",
       "      <td>NaN</td>\n",
       "      <td>NaN</td>\n",
       "      <td>NaN</td>\n",
       "      <td>NaN</td>\n",
       "      <td>NaN</td>\n",
       "      <td>NaN</td>\n",
       "      <td>NaN</td>\n",
       "      <td>39.0</td>\n",
       "      <td>NaN</td>\n",
       "      <td>60.0</td>\n",
       "      <td>NaN</td>\n",
       "      <td>NaN</td>\n",
       "      <td>4.0</td>\n",
       "      <td>3.0</td>\n",
       "      <td>2.0</td>\n",
       "      <td>NaN</td>\n",
       "      <td>NaN</td>\n",
       "      <td>NaN</td>\n",
       "      <td>NaN</td>\n",
       "    </tr>\n",
       "    <tr>\n",
       "      <th>9</th>\n",
       "      <td>13</td>\n",
       "      <td>2467350</td>\n",
       "      <td>NaN</td>\n",
       "      <td>NaN</td>\n",
       "      <td>81.0</td>\n",
       "      <td>150.0</td>\n",
       "      <td>NaN</td>\n",
       "      <td>1</td>\n",
       "      <td>NaN</td>\n",
       "      <td>2.5</td>\n",
       "      <td>NaN</td>\n",
       "      <td>1</td>\n",
       "      <td>11.0</td>\n",
       "      <td>NaN</td>\n",
       "      <td>NaN</td>\n",
       "      <td>NaN</td>\n",
       "      <td>40.0</td>\n",
       "      <td>4.5</td>\n",
       "      <td>NaN</td>\n",
       "      <td>NaN</td>\n",
       "      <td>22.0</td>\n",
       "      <td>38.0</td>\n",
       "      <td>NaN</td>\n",
       "      <td>70.0</td>\n",
       "      <td>1.0</td>\n",
       "      <td>NaN</td>\n",
       "      <td>1.0</td>\n",
       "      <td>4.0</td>\n",
       "      <td>1.0</td>\n",
       "      <td>NaN</td>\n",
       "      <td>NaN</td>\n",
       "      <td>NaN</td>\n",
       "      <td>NaN</td>\n",
       "    </tr>\n",
       "    <tr>\n",
       "      <th>10</th>\n",
       "      <td>14</td>\n",
       "      <td>1894319</td>\n",
       "      <td>1929.0</td>\n",
       "      <td>94.0</td>\n",
       "      <td>75.0</td>\n",
       "      <td>162.0</td>\n",
       "      <td>1.79</td>\n",
       "      <td>1</td>\n",
       "      <td>55.0</td>\n",
       "      <td>4.5</td>\n",
       "      <td>NaN</td>\n",
       "      <td>1</td>\n",
       "      <td>12.0</td>\n",
       "      <td>16.0</td>\n",
       "      <td>NaN</td>\n",
       "      <td>NaN</td>\n",
       "      <td>NaN</td>\n",
       "      <td>5.0</td>\n",
       "      <td>NaN</td>\n",
       "      <td>47.0</td>\n",
       "      <td>24.0</td>\n",
       "      <td>NaN</td>\n",
       "      <td>NaN</td>\n",
       "      <td>55.0</td>\n",
       "      <td>NaN</td>\n",
       "      <td>1.0</td>\n",
       "      <td>3.0</td>\n",
       "      <td>4.0</td>\n",
       "      <td>1.0</td>\n",
       "      <td>3.0</td>\n",
       "      <td>NaN</td>\n",
       "      <td>1.0</td>\n",
       "      <td>NaN</td>\n",
       "    </tr>\n",
       "    <tr>\n",
       "      <th>11</th>\n",
       "      <td>15</td>\n",
       "      <td>1998121</td>\n",
       "      <td>1927.0</td>\n",
       "      <td>90.0</td>\n",
       "      <td>58.0</td>\n",
       "      <td>150.0</td>\n",
       "      <td>NaN</td>\n",
       "      <td>1</td>\n",
       "      <td>NaN</td>\n",
       "      <td>4.7</td>\n",
       "      <td>60.0</td>\n",
       "      <td>1</td>\n",
       "      <td>NaN</td>\n",
       "      <td>18.0</td>\n",
       "      <td>NaN</td>\n",
       "      <td>NaN</td>\n",
       "      <td>NaN</td>\n",
       "      <td>NaN</td>\n",
       "      <td>NaN</td>\n",
       "      <td>47.0</td>\n",
       "      <td>24.0</td>\n",
       "      <td>NaN</td>\n",
       "      <td>NaN</td>\n",
       "      <td>50.0</td>\n",
       "      <td>1.0</td>\n",
       "      <td>NaN</td>\n",
       "      <td>1.0</td>\n",
       "      <td>4.0</td>\n",
       "      <td>1.0</td>\n",
       "      <td>NaN</td>\n",
       "      <td>NaN</td>\n",
       "      <td>NaN</td>\n",
       "      <td>NaN</td>\n",
       "    </tr>\n",
       "    <tr>\n",
       "      <th>12</th>\n",
       "      <td>17</td>\n",
       "      <td>1521452</td>\n",
       "      <td>1961.0</td>\n",
       "      <td>62.0</td>\n",
       "      <td>68.0</td>\n",
       "      <td>170.0</td>\n",
       "      <td>1.70</td>\n",
       "      <td>2</td>\n",
       "      <td>62.0</td>\n",
       "      <td>5.2</td>\n",
       "      <td>NaN</td>\n",
       "      <td>1</td>\n",
       "      <td>15.0</td>\n",
       "      <td>31.0</td>\n",
       "      <td>28.0</td>\n",
       "      <td>12.0</td>\n",
       "      <td>56.0</td>\n",
       "      <td>NaN</td>\n",
       "      <td>NaN</td>\n",
       "      <td>46.0</td>\n",
       "      <td>29.0</td>\n",
       "      <td>47.0</td>\n",
       "      <td>6.8</td>\n",
       "      <td>55.0</td>\n",
       "      <td>2.0</td>\n",
       "      <td>NaN</td>\n",
       "      <td>2.0</td>\n",
       "      <td>4.0</td>\n",
       "      <td>1.0</td>\n",
       "      <td>5.0</td>\n",
       "      <td>NaN</td>\n",
       "      <td>NaN</td>\n",
       "      <td>NaN</td>\n",
       "    </tr>\n",
       "    <tr>\n",
       "      <th>13</th>\n",
       "      <td>18</td>\n",
       "      <td>365094</td>\n",
       "      <td>1932.0</td>\n",
       "      <td>91.0</td>\n",
       "      <td>90.0</td>\n",
       "      <td>168.0</td>\n",
       "      <td>1.99</td>\n",
       "      <td>2</td>\n",
       "      <td>59.0</td>\n",
       "      <td>5.1</td>\n",
       "      <td>NaN</td>\n",
       "      <td>1</td>\n",
       "      <td>11.0</td>\n",
       "      <td>23.0</td>\n",
       "      <td>NaN</td>\n",
       "      <td>NaN</td>\n",
       "      <td>NaN</td>\n",
       "      <td>NaN</td>\n",
       "      <td>NaN</td>\n",
       "      <td>45.0</td>\n",
       "      <td>19.0</td>\n",
       "      <td>NaN</td>\n",
       "      <td>NaN</td>\n",
       "      <td>38.0</td>\n",
       "      <td>1.0</td>\n",
       "      <td>1.0</td>\n",
       "      <td>1.0</td>\n",
       "      <td>NaN</td>\n",
       "      <td>1.0</td>\n",
       "      <td>NaN</td>\n",
       "      <td>NaN</td>\n",
       "      <td>1.0</td>\n",
       "      <td>NaN</td>\n",
       "    </tr>\n",
       "    <tr>\n",
       "      <th>14</th>\n",
       "      <td>19</td>\n",
       "      <td>719489</td>\n",
       "      <td>1960.0</td>\n",
       "      <td>63.0</td>\n",
       "      <td>74.0</td>\n",
       "      <td>150.0</td>\n",
       "      <td>1.69</td>\n",
       "      <td>1</td>\n",
       "      <td>47.0</td>\n",
       "      <td>5.1</td>\n",
       "      <td>NaN</td>\n",
       "      <td>1</td>\n",
       "      <td>8.1</td>\n",
       "      <td>44.0</td>\n",
       "      <td>31.0</td>\n",
       "      <td>23.0</td>\n",
       "      <td>36.0</td>\n",
       "      <td>5.1</td>\n",
       "      <td>0.78</td>\n",
       "      <td>36.0</td>\n",
       "      <td>19.0</td>\n",
       "      <td>52.0</td>\n",
       "      <td>8.0</td>\n",
       "      <td>45.0</td>\n",
       "      <td>1.0</td>\n",
       "      <td>NaN</td>\n",
       "      <td>4.0</td>\n",
       "      <td>4.0</td>\n",
       "      <td>2.0</td>\n",
       "      <td>12.0</td>\n",
       "      <td>NaN</td>\n",
       "      <td>1.0</td>\n",
       "      <td>NaN</td>\n",
       "    </tr>\n",
       "    <tr>\n",
       "      <th>15</th>\n",
       "      <td>20</td>\n",
       "      <td>1151869</td>\n",
       "      <td>1947.0</td>\n",
       "      <td>76.0</td>\n",
       "      <td>74.0</td>\n",
       "      <td>170.0</td>\n",
       "      <td>1.90</td>\n",
       "      <td>2</td>\n",
       "      <td>50.0</td>\n",
       "      <td>5.0</td>\n",
       "      <td>NaN</td>\n",
       "      <td>1</td>\n",
       "      <td>11.0</td>\n",
       "      <td>22.0</td>\n",
       "      <td>NaN</td>\n",
       "      <td>NaN</td>\n",
       "      <td>NaN</td>\n",
       "      <td>4.1</td>\n",
       "      <td>NaN</td>\n",
       "      <td>34.0</td>\n",
       "      <td>18.0</td>\n",
       "      <td>NaN</td>\n",
       "      <td>12.0</td>\n",
       "      <td>40.0</td>\n",
       "      <td>NaN</td>\n",
       "      <td>NaN</td>\n",
       "      <td>2.0</td>\n",
       "      <td>2.0</td>\n",
       "      <td>2.0</td>\n",
       "      <td>5.0</td>\n",
       "      <td>NaN</td>\n",
       "      <td>NaN</td>\n",
       "      <td>NaN</td>\n",
       "    </tr>\n",
       "    <tr>\n",
       "      <th>16</th>\n",
       "      <td>21</td>\n",
       "      <td>1277917</td>\n",
       "      <td>1933.0</td>\n",
       "      <td>90.0</td>\n",
       "      <td>66.0</td>\n",
       "      <td>158.0</td>\n",
       "      <td>1.60</td>\n",
       "      <td>1</td>\n",
       "      <td>53.0</td>\n",
       "      <td>3.5</td>\n",
       "      <td>NaN</td>\n",
       "      <td>1</td>\n",
       "      <td>13.0</td>\n",
       "      <td>30.0</td>\n",
       "      <td>24.4</td>\n",
       "      <td>11.4</td>\n",
       "      <td>53.0</td>\n",
       "      <td>5.4</td>\n",
       "      <td>1.40</td>\n",
       "      <td>17.0</td>\n",
       "      <td>23.0</td>\n",
       "      <td>49.0</td>\n",
       "      <td>19.0</td>\n",
       "      <td>42.0</td>\n",
       "      <td>NaN</td>\n",
       "      <td>NaN</td>\n",
       "      <td>2.0</td>\n",
       "      <td>4.0</td>\n",
       "      <td>1.0</td>\n",
       "      <td>6.0</td>\n",
       "      <td>NaN</td>\n",
       "      <td>NaN</td>\n",
       "      <td>NaN</td>\n",
       "    </tr>\n",
       "    <tr>\n",
       "      <th>17</th>\n",
       "      <td>22</td>\n",
       "      <td>542557</td>\n",
       "      <td>1928.0</td>\n",
       "      <td>95.0</td>\n",
       "      <td>52.0</td>\n",
       "      <td>148.0</td>\n",
       "      <td>1.40</td>\n",
       "      <td>1</td>\n",
       "      <td>65.0</td>\n",
       "      <td>4.7</td>\n",
       "      <td>NaN</td>\n",
       "      <td>1</td>\n",
       "      <td>10.0</td>\n",
       "      <td>26.0</td>\n",
       "      <td>NaN</td>\n",
       "      <td>NaN</td>\n",
       "      <td>NaN</td>\n",
       "      <td>NaN</td>\n",
       "      <td>0.23</td>\n",
       "      <td>55.0</td>\n",
       "      <td>16.0</td>\n",
       "      <td>NaN</td>\n",
       "      <td>9.0</td>\n",
       "      <td>70.0</td>\n",
       "      <td>1.0</td>\n",
       "      <td>NaN</td>\n",
       "      <td>3.0</td>\n",
       "      <td>4.0</td>\n",
       "      <td>2.0</td>\n",
       "      <td>6.0</td>\n",
       "      <td>NaN</td>\n",
       "      <td>NaN</td>\n",
       "      <td>NaN</td>\n",
       "    </tr>\n",
       "    <tr>\n",
       "      <th>18</th>\n",
       "      <td>23</td>\n",
       "      <td>849573</td>\n",
       "      <td>NaN</td>\n",
       "      <td>NaN</td>\n",
       "      <td>81.0</td>\n",
       "      <td>176.0</td>\n",
       "      <td>1.90</td>\n",
       "      <td>2</td>\n",
       "      <td>61.0</td>\n",
       "      <td>5.3</td>\n",
       "      <td>NaN</td>\n",
       "      <td>1</td>\n",
       "      <td>8.0</td>\n",
       "      <td>14.0</td>\n",
       "      <td>14.0</td>\n",
       "      <td>10.0</td>\n",
       "      <td>30.0</td>\n",
       "      <td>NaN</td>\n",
       "      <td>NaN</td>\n",
       "      <td>76.0</td>\n",
       "      <td>15.0</td>\n",
       "      <td>45.0</td>\n",
       "      <td>NaN</td>\n",
       "      <td>86.0</td>\n",
       "      <td>NaN</td>\n",
       "      <td>NaN</td>\n",
       "      <td>1.0</td>\n",
       "      <td>1.0</td>\n",
       "      <td>1.0</td>\n",
       "      <td>NaN</td>\n",
       "      <td>1.0</td>\n",
       "      <td>1.0</td>\n",
       "      <td>NaN</td>\n",
       "    </tr>\n",
       "    <tr>\n",
       "      <th>19</th>\n",
       "      <td>24</td>\n",
       "      <td>253461</td>\n",
       "      <td>1944.0</td>\n",
       "      <td>79.0</td>\n",
       "      <td>65.0</td>\n",
       "      <td>162.0</td>\n",
       "      <td>1.70</td>\n",
       "      <td>2</td>\n",
       "      <td>50.0</td>\n",
       "      <td>4.6</td>\n",
       "      <td>NaN</td>\n",
       "      <td>1</td>\n",
       "      <td>NaN</td>\n",
       "      <td>NaN</td>\n",
       "      <td>NaN</td>\n",
       "      <td>NaN</td>\n",
       "      <td>NaN</td>\n",
       "      <td>NaN</td>\n",
       "      <td>NaN</td>\n",
       "      <td>NaN</td>\n",
       "      <td>27.0</td>\n",
       "      <td>NaN</td>\n",
       "      <td>NaN</td>\n",
       "      <td>60.0</td>\n",
       "      <td>1.0</td>\n",
       "      <td>NaN</td>\n",
       "      <td>3.0</td>\n",
       "      <td>4.0</td>\n",
       "      <td>3.0</td>\n",
       "      <td>NaN</td>\n",
       "      <td>NaN</td>\n",
       "      <td>NaN</td>\n",
       "      <td>NaN</td>\n",
       "    </tr>\n",
       "    <tr>\n",
       "      <th>20</th>\n",
       "      <td>25</td>\n",
       "      <td>194912</td>\n",
       "      <td>1929.0</td>\n",
       "      <td>82.0</td>\n",
       "      <td>70.0</td>\n",
       "      <td>145.0</td>\n",
       "      <td>1.70</td>\n",
       "      <td>2</td>\n",
       "      <td>51.0</td>\n",
       "      <td>3.5</td>\n",
       "      <td>NaN</td>\n",
       "      <td>1</td>\n",
       "      <td>14.0</td>\n",
       "      <td>29.0</td>\n",
       "      <td>23.0</td>\n",
       "      <td>14.0</td>\n",
       "      <td>39.0</td>\n",
       "      <td>4.5</td>\n",
       "      <td>NaN</td>\n",
       "      <td>52.0</td>\n",
       "      <td>19.0</td>\n",
       "      <td>41.0</td>\n",
       "      <td>NaN</td>\n",
       "      <td>60.0</td>\n",
       "      <td>NaN</td>\n",
       "      <td>NaN</td>\n",
       "      <td>4.0</td>\n",
       "      <td>4.0</td>\n",
       "      <td>3.0</td>\n",
       "      <td>NaN</td>\n",
       "      <td>NaN</td>\n",
       "      <td>NaN</td>\n",
       "      <td>NaN</td>\n",
       "    </tr>\n",
       "    <tr>\n",
       "      <th>21</th>\n",
       "      <td>26</td>\n",
       "      <td>649455</td>\n",
       "      <td>1940.0</td>\n",
       "      <td>83.0</td>\n",
       "      <td>45.0</td>\n",
       "      <td>158.0</td>\n",
       "      <td>1.40</td>\n",
       "      <td>1</td>\n",
       "      <td>63.0</td>\n",
       "      <td>4.0</td>\n",
       "      <td>NaN</td>\n",
       "      <td>1</td>\n",
       "      <td>9.3</td>\n",
       "      <td>47.0</td>\n",
       "      <td>24.0</td>\n",
       "      <td>15.0</td>\n",
       "      <td>38.0</td>\n",
       "      <td>4.3</td>\n",
       "      <td>0.62</td>\n",
       "      <td>55.0</td>\n",
       "      <td>17.0</td>\n",
       "      <td>41.0</td>\n",
       "      <td>10.0</td>\n",
       "      <td>70.0</td>\n",
       "      <td>NaN</td>\n",
       "      <td>NaN</td>\n",
       "      <td>4.0</td>\n",
       "      <td>4.0</td>\n",
       "      <td>1.0</td>\n",
       "      <td>NaN</td>\n",
       "      <td>1.0</td>\n",
       "      <td>NaN</td>\n",
       "      <td>NaN</td>\n",
       "    </tr>\n",
       "    <tr>\n",
       "      <th>22</th>\n",
       "      <td>27</td>\n",
       "      <td>1769814</td>\n",
       "      <td>1914.0</td>\n",
       "      <td>100.0</td>\n",
       "      <td>80.0</td>\n",
       "      <td>155.0</td>\n",
       "      <td>1.70</td>\n",
       "      <td>1</td>\n",
       "      <td>NaN</td>\n",
       "      <td>4.8</td>\n",
       "      <td>67.0</td>\n",
       "      <td>1</td>\n",
       "      <td>8.2</td>\n",
       "      <td>19.0</td>\n",
       "      <td>13.0</td>\n",
       "      <td>9.0</td>\n",
       "      <td>33.0</td>\n",
       "      <td>NaN</td>\n",
       "      <td>NaN</td>\n",
       "      <td>42.0</td>\n",
       "      <td>7.0</td>\n",
       "      <td>NaN</td>\n",
       "      <td>NaN</td>\n",
       "      <td>46.0</td>\n",
       "      <td>NaN</td>\n",
       "      <td>NaN</td>\n",
       "      <td>3.0</td>\n",
       "      <td>4.0</td>\n",
       "      <td>1.0</td>\n",
       "      <td>2.0</td>\n",
       "      <td>NaN</td>\n",
       "      <td>NaN</td>\n",
       "      <td>1.0</td>\n",
       "    </tr>\n",
       "    <tr>\n",
       "      <th>23</th>\n",
       "      <td>28</td>\n",
       "      <td>139236</td>\n",
       "      <td>1958.0</td>\n",
       "      <td>65.0</td>\n",
       "      <td>62.0</td>\n",
       "      <td>166.0</td>\n",
       "      <td>1.68</td>\n",
       "      <td>1</td>\n",
       "      <td>58.0</td>\n",
       "      <td>4.7</td>\n",
       "      <td>NaN</td>\n",
       "      <td>1</td>\n",
       "      <td>13.0</td>\n",
       "      <td>26.0</td>\n",
       "      <td>18.0</td>\n",
       "      <td>10.0</td>\n",
       "      <td>42.0</td>\n",
       "      <td>4.5</td>\n",
       "      <td>NaN</td>\n",
       "      <td>38.0</td>\n",
       "      <td>16.0</td>\n",
       "      <td>NaN</td>\n",
       "      <td>7.4</td>\n",
       "      <td>55.0</td>\n",
       "      <td>NaN</td>\n",
       "      <td>NaN</td>\n",
       "      <td>2.0</td>\n",
       "      <td>4.0</td>\n",
       "      <td>1.0</td>\n",
       "      <td>14.0</td>\n",
       "      <td>NaN</td>\n",
       "      <td>NaN</td>\n",
       "      <td>NaN</td>\n",
       "    </tr>\n",
       "    <tr>\n",
       "      <th>24</th>\n",
       "      <td>29</td>\n",
       "      <td>1279866</td>\n",
       "      <td>1949.0</td>\n",
       "      <td>74.0</td>\n",
       "      <td>55.0</td>\n",
       "      <td>152.0</td>\n",
       "      <td>1.50</td>\n",
       "      <td>1</td>\n",
       "      <td>64.0</td>\n",
       "      <td>3.5</td>\n",
       "      <td>NaN</td>\n",
       "      <td>1</td>\n",
       "      <td>5.2</td>\n",
       "      <td>27.0</td>\n",
       "      <td>19.0</td>\n",
       "      <td>11.0</td>\n",
       "      <td>39.0</td>\n",
       "      <td>38.0</td>\n",
       "      <td>NaN</td>\n",
       "      <td>57.0</td>\n",
       "      <td>10.0</td>\n",
       "      <td>NaN</td>\n",
       "      <td>6.5</td>\n",
       "      <td>70.0</td>\n",
       "      <td>NaN</td>\n",
       "      <td>NaN</td>\n",
       "      <td>2.0</td>\n",
       "      <td>3.0</td>\n",
       "      <td>2.0</td>\n",
       "      <td>8.0</td>\n",
       "      <td>1.0</td>\n",
       "      <td>1.0</td>\n",
       "      <td>NaN</td>\n",
       "    </tr>\n",
       "    <tr>\n",
       "      <th>25</th>\n",
       "      <td>30</td>\n",
       "      <td>1115455</td>\n",
       "      <td>1947.0</td>\n",
       "      <td>76.0</td>\n",
       "      <td>70.0</td>\n",
       "      <td>160.0</td>\n",
       "      <td>1.70</td>\n",
       "      <td>2</td>\n",
       "      <td>63.0</td>\n",
       "      <td>3.1</td>\n",
       "      <td>NaN</td>\n",
       "      <td>1</td>\n",
       "      <td>9.0</td>\n",
       "      <td>25.0</td>\n",
       "      <td>NaN</td>\n",
       "      <td>NaN</td>\n",
       "      <td>NaN</td>\n",
       "      <td>NaN</td>\n",
       "      <td>NaN</td>\n",
       "      <td>36.0</td>\n",
       "      <td>16.0</td>\n",
       "      <td>NaN</td>\n",
       "      <td>NaN</td>\n",
       "      <td>50.0</td>\n",
       "      <td>NaN</td>\n",
       "      <td>NaN</td>\n",
       "      <td>1.0</td>\n",
       "      <td>3.0</td>\n",
       "      <td>1.0</td>\n",
       "      <td>20.0</td>\n",
       "      <td>NaN</td>\n",
       "      <td>NaN</td>\n",
       "      <td>NaN</td>\n",
       "    </tr>\n",
       "    <tr>\n",
       "      <th>26</th>\n",
       "      <td>31</td>\n",
       "      <td>1338112</td>\n",
       "      <td>NaN</td>\n",
       "      <td>NaN</td>\n",
       "      <td>83.0</td>\n",
       "      <td>170.0</td>\n",
       "      <td>1.90</td>\n",
       "      <td>2</td>\n",
       "      <td>68.0</td>\n",
       "      <td>3.2</td>\n",
       "      <td>NaN</td>\n",
       "      <td>1</td>\n",
       "      <td>12.0</td>\n",
       "      <td>21.0</td>\n",
       "      <td>33.0</td>\n",
       "      <td>20.0</td>\n",
       "      <td>38.0</td>\n",
       "      <td>5.6</td>\n",
       "      <td>0.70</td>\n",
       "      <td>39.0</td>\n",
       "      <td>23.0</td>\n",
       "      <td>43.0</td>\n",
       "      <td>16.0</td>\n",
       "      <td>50.0</td>\n",
       "      <td>NaN</td>\n",
       "      <td>NaN</td>\n",
       "      <td>4.0</td>\n",
       "      <td>4.0</td>\n",
       "      <td>1.0</td>\n",
       "      <td>1.0</td>\n",
       "      <td>NaN</td>\n",
       "      <td>NaN</td>\n",
       "      <td>1.0</td>\n",
       "    </tr>\n",
       "    <tr>\n",
       "      <th>27</th>\n",
       "      <td>33</td>\n",
       "      <td>1717394</td>\n",
       "      <td>1947.0</td>\n",
       "      <td>76.0</td>\n",
       "      <td>53.0</td>\n",
       "      <td>163.0</td>\n",
       "      <td>1.50</td>\n",
       "      <td>1</td>\n",
       "      <td>61.0</td>\n",
       "      <td>5.0</td>\n",
       "      <td>NaN</td>\n",
       "      <td>1</td>\n",
       "      <td>11.0</td>\n",
       "      <td>22.0</td>\n",
       "      <td>9.2</td>\n",
       "      <td>5.8</td>\n",
       "      <td>36.0</td>\n",
       "      <td>4.7</td>\n",
       "      <td>0.60</td>\n",
       "      <td>35.0</td>\n",
       "      <td>28.0</td>\n",
       "      <td>44.0</td>\n",
       "      <td>NaN</td>\n",
       "      <td>45.0</td>\n",
       "      <td>NaN</td>\n",
       "      <td>NaN</td>\n",
       "      <td>2.0</td>\n",
       "      <td>4.0</td>\n",
       "      <td>1.0</td>\n",
       "      <td>10.0</td>\n",
       "      <td>NaN</td>\n",
       "      <td>NaN</td>\n",
       "      <td>NaN</td>\n",
       "    </tr>\n",
       "    <tr>\n",
       "      <th>28</th>\n",
       "      <td>34</td>\n",
       "      <td>1364120</td>\n",
       "      <td>1936.0</td>\n",
       "      <td>87.0</td>\n",
       "      <td>69.0</td>\n",
       "      <td>154.0</td>\n",
       "      <td>1.70</td>\n",
       "      <td>1</td>\n",
       "      <td>53.0</td>\n",
       "      <td>4.0</td>\n",
       "      <td>NaN</td>\n",
       "      <td>1</td>\n",
       "      <td>17.0</td>\n",
       "      <td>NaN</td>\n",
       "      <td>15.0</td>\n",
       "      <td>5.0</td>\n",
       "      <td>63.0</td>\n",
       "      <td>NaN</td>\n",
       "      <td>NaN</td>\n",
       "      <td>35.0</td>\n",
       "      <td>21.0</td>\n",
       "      <td>NaN</td>\n",
       "      <td>NaN</td>\n",
       "      <td>45.0</td>\n",
       "      <td>1.0</td>\n",
       "      <td>NaN</td>\n",
       "      <td>1.0</td>\n",
       "      <td>2.0</td>\n",
       "      <td>1.0</td>\n",
       "      <td>1.0</td>\n",
       "      <td>NaN</td>\n",
       "      <td>NaN</td>\n",
       "      <td>NaN</td>\n",
       "    </tr>\n",
       "    <tr>\n",
       "      <th>29</th>\n",
       "      <td>35</td>\n",
       "      <td>1909796</td>\n",
       "      <td>NaN</td>\n",
       "      <td>NaN</td>\n",
       "      <td>76.0</td>\n",
       "      <td>148.0</td>\n",
       "      <td>1.60</td>\n",
       "      <td>1</td>\n",
       "      <td>80.0</td>\n",
       "      <td>NaN</td>\n",
       "      <td>NaN</td>\n",
       "      <td>1</td>\n",
       "      <td>NaN</td>\n",
       "      <td>NaN</td>\n",
       "      <td>NaN</td>\n",
       "      <td>NaN</td>\n",
       "      <td>NaN</td>\n",
       "      <td>NaN</td>\n",
       "      <td>0.64</td>\n",
       "      <td>27.0</td>\n",
       "      <td>NaN</td>\n",
       "      <td>NaN</td>\n",
       "      <td>NaN</td>\n",
       "      <td>41.0</td>\n",
       "      <td>NaN</td>\n",
       "      <td>NaN</td>\n",
       "      <td>1.0</td>\n",
       "      <td>3.0</td>\n",
       "      <td>1.0</td>\n",
       "      <td>NaN</td>\n",
       "      <td>NaN</td>\n",
       "      <td>NaN</td>\n",
       "      <td>NaN</td>\n",
       "    </tr>\n",
       "    <tr>\n",
       "      <th>30</th>\n",
       "      <td>36</td>\n",
       "      <td>86761</td>\n",
       "      <td>1940.0</td>\n",
       "      <td>83.0</td>\n",
       "      <td>59.0</td>\n",
       "      <td>155.0</td>\n",
       "      <td>1.50</td>\n",
       "      <td>1</td>\n",
       "      <td>25.0</td>\n",
       "      <td>6.1</td>\n",
       "      <td>NaN</td>\n",
       "      <td>1</td>\n",
       "      <td>7.8</td>\n",
       "      <td>35.0</td>\n",
       "      <td>25.0</td>\n",
       "      <td>16.0</td>\n",
       "      <td>36.0</td>\n",
       "      <td>4.4</td>\n",
       "      <td>NaN</td>\n",
       "      <td>46.0</td>\n",
       "      <td>17.0</td>\n",
       "      <td>NaN</td>\n",
       "      <td>NaN</td>\n",
       "      <td>60.0</td>\n",
       "      <td>NaN</td>\n",
       "      <td>NaN</td>\n",
       "      <td>3.0</td>\n",
       "      <td>3.0</td>\n",
       "      <td>1.0</td>\n",
       "      <td>3.0</td>\n",
       "      <td>1.0</td>\n",
       "      <td>2.0</td>\n",
       "      <td>NaN</td>\n",
       "    </tr>\n",
       "    <tr>\n",
       "      <th>31</th>\n",
       "      <td>37</td>\n",
       "      <td>1482383</td>\n",
       "      <td>1955.0</td>\n",
       "      <td>68.0</td>\n",
       "      <td>66.0</td>\n",
       "      <td>150.0</td>\n",
       "      <td>1.60</td>\n",
       "      <td>1</td>\n",
       "      <td>63.0</td>\n",
       "      <td>5.9</td>\n",
       "      <td>63.0</td>\n",
       "      <td>1</td>\n",
       "      <td>7.0</td>\n",
       "      <td>NaN</td>\n",
       "      <td>NaN</td>\n",
       "      <td>NaN</td>\n",
       "      <td>NaN</td>\n",
       "      <td>NaN</td>\n",
       "      <td>NaN</td>\n",
       "      <td>35.0</td>\n",
       "      <td>18.0</td>\n",
       "      <td>43.0</td>\n",
       "      <td>NaN</td>\n",
       "      <td>50.0</td>\n",
       "      <td>NaN</td>\n",
       "      <td>NaN</td>\n",
       "      <td>2.0</td>\n",
       "      <td>2.0</td>\n",
       "      <td>2.0</td>\n",
       "      <td>NaN</td>\n",
       "      <td>NaN</td>\n",
       "      <td>NaN</td>\n",
       "      <td>NaN</td>\n",
       "    </tr>\n",
       "    <tr>\n",
       "      <th>32</th>\n",
       "      <td>38</td>\n",
       "      <td>1222066</td>\n",
       "      <td>1957.0</td>\n",
       "      <td>66.0</td>\n",
       "      <td>85.0</td>\n",
       "      <td>160.0</td>\n",
       "      <td>NaN</td>\n",
       "      <td>1</td>\n",
       "      <td>50.0</td>\n",
       "      <td>4.4</td>\n",
       "      <td>NaN</td>\n",
       "      <td>1</td>\n",
       "      <td>6.4</td>\n",
       "      <td>29.0</td>\n",
       "      <td>NaN</td>\n",
       "      <td>NaN</td>\n",
       "      <td>NaN</td>\n",
       "      <td>5.3</td>\n",
       "      <td>1.20</td>\n",
       "      <td>26.0</td>\n",
       "      <td>15.0</td>\n",
       "      <td>NaN</td>\n",
       "      <td>NaN</td>\n",
       "      <td>45.0</td>\n",
       "      <td>NaN</td>\n",
       "      <td>NaN</td>\n",
       "      <td>2.0</td>\n",
       "      <td>4.0</td>\n",
       "      <td>2.0</td>\n",
       "      <td>3.0</td>\n",
       "      <td>NaN</td>\n",
       "      <td>1.0</td>\n",
       "      <td>NaN</td>\n",
       "    </tr>\n",
       "    <tr>\n",
       "      <th>33</th>\n",
       "      <td>39</td>\n",
       "      <td>449730</td>\n",
       "      <td>1936.0</td>\n",
       "      <td>87.0</td>\n",
       "      <td>64.0</td>\n",
       "      <td>164.0</td>\n",
       "      <td>1.60</td>\n",
       "      <td>2</td>\n",
       "      <td>56.0</td>\n",
       "      <td>5.0</td>\n",
       "      <td>NaN</td>\n",
       "      <td>1</td>\n",
       "      <td>11.0</td>\n",
       "      <td>44.0</td>\n",
       "      <td>29.0</td>\n",
       "      <td>17.0</td>\n",
       "      <td>42.0</td>\n",
       "      <td>5.5</td>\n",
       "      <td>1.60</td>\n",
       "      <td>43.0</td>\n",
       "      <td>16.0</td>\n",
       "      <td>43.0</td>\n",
       "      <td>16.0</td>\n",
       "      <td>50.0</td>\n",
       "      <td>2.0</td>\n",
       "      <td>NaN</td>\n",
       "      <td>4.0</td>\n",
       "      <td>4.0</td>\n",
       "      <td>1.0</td>\n",
       "      <td>1.0</td>\n",
       "      <td>NaN</td>\n",
       "      <td>NaN</td>\n",
       "      <td>NaN</td>\n",
       "    </tr>\n",
       "    <tr>\n",
       "      <th>34</th>\n",
       "      <td>42</td>\n",
       "      <td>613484</td>\n",
       "      <td>1933.0</td>\n",
       "      <td>90.0</td>\n",
       "      <td>58.0</td>\n",
       "      <td>150.0</td>\n",
       "      <td>1.50</td>\n",
       "      <td>1</td>\n",
       "      <td>60.0</td>\n",
       "      <td>4.7</td>\n",
       "      <td>NaN</td>\n",
       "      <td>1</td>\n",
       "      <td>8.4</td>\n",
       "      <td>31.0</td>\n",
       "      <td>NaN</td>\n",
       "      <td>NaN</td>\n",
       "      <td>NaN</td>\n",
       "      <td>4.6</td>\n",
       "      <td>NaN</td>\n",
       "      <td>41.0</td>\n",
       "      <td>20.0</td>\n",
       "      <td>NaN</td>\n",
       "      <td>NaN</td>\n",
       "      <td>61.0</td>\n",
       "      <td>1.0</td>\n",
       "      <td>NaN</td>\n",
       "      <td>2.0</td>\n",
       "      <td>3.0</td>\n",
       "      <td>1.0</td>\n",
       "      <td>NaN</td>\n",
       "      <td>NaN</td>\n",
       "      <td>NaN</td>\n",
       "      <td>NaN</td>\n",
       "    </tr>\n",
       "  </tbody>\n",
       "</table>\n",
       "</div>"
      ],
      "text/plain": [
       "    index1   hist_clin  nacimiento   edad  peso  talla    sc  sexo  fevibp   \n",
       "0        2      764784      1930.0   93.0  69.0  154.0  1.67     1     NaN  \\\n",
       "1        3      395267         NaN    NaN   NaN  153.0   NaN     1     NaN   \n",
       "2        4  1137397430      1934.0   89.0  53.0  153.0  1.40     1     NaN   \n",
       "3        5      923627      1918.0   98.0   NaN    NaN   NaN     2     NaN   \n",
       "4        7      427151      1936.0   87.0  77.0  172.0   NaN     2     NaN   \n",
       "5        8      645429      1939.0   84.0  59.0  155.0  1.50     1    60.0   \n",
       "6        9      812277      1932.0   91.0  70.0  160.0  1.73     2     NaN   \n",
       "7       10     1286697      1930.0   93.0  65.0  164.0  1.90     2     NaN   \n",
       "8       11     1211243         NaN    NaN   NaN    NaN   NaN     1    56.0   \n",
       "9       13     2467350         NaN    NaN  81.0  150.0   NaN     1     NaN   \n",
       "10      14     1894319      1929.0   94.0  75.0  162.0  1.79     1    55.0   \n",
       "11      15     1998121      1927.0   90.0  58.0  150.0   NaN     1     NaN   \n",
       "12      17     1521452      1961.0   62.0  68.0  170.0  1.70     2    62.0   \n",
       "13      18      365094      1932.0   91.0  90.0  168.0  1.99     2    59.0   \n",
       "14      19      719489      1960.0   63.0  74.0  150.0  1.69     1    47.0   \n",
       "15      20     1151869      1947.0   76.0  74.0  170.0  1.90     2    50.0   \n",
       "16      21     1277917      1933.0   90.0  66.0  158.0  1.60     1    53.0   \n",
       "17      22      542557      1928.0   95.0  52.0  148.0  1.40     1    65.0   \n",
       "18      23      849573         NaN    NaN  81.0  176.0  1.90     2    61.0   \n",
       "19      24      253461      1944.0   79.0  65.0  162.0  1.70     2    50.0   \n",
       "20      25      194912      1929.0   82.0  70.0  145.0  1.70     2    51.0   \n",
       "21      26      649455      1940.0   83.0  45.0  158.0  1.40     1    63.0   \n",
       "22      27     1769814      1914.0  100.0  80.0  155.0  1.70     1     NaN   \n",
       "23      28      139236      1958.0   65.0  62.0  166.0  1.68     1    58.0   \n",
       "24      29     1279866      1949.0   74.0  55.0  152.0  1.50     1    64.0   \n",
       "25      30     1115455      1947.0   76.0  70.0  160.0  1.70     2    63.0   \n",
       "26      31     1338112         NaN    NaN  83.0  170.0  1.90     2    68.0   \n",
       "27      33     1717394      1947.0   76.0  53.0  163.0  1.50     1    61.0   \n",
       "28      34     1364120      1936.0   87.0  69.0  154.0  1.70     1    53.0   \n",
       "29      35     1909796         NaN    NaN  76.0  148.0  1.60     1    80.0   \n",
       "30      36       86761      1940.0   83.0  59.0  155.0  1.50     1    25.0   \n",
       "31      37     1482383      1955.0   68.0  66.0  150.0  1.60     1    63.0   \n",
       "32      38     1222066      1957.0   66.0  85.0  160.0   NaN     1    50.0   \n",
       "33      39      449730      1936.0   87.0  64.0  164.0  1.60     2    56.0   \n",
       "34      42      613484      1933.0   90.0  58.0  150.0  1.50     1    60.0   \n",
       "\n",
       "    dvitd  fevitch  interfer  sprimatr  area_ad  area_vd_td  area_vd_ts   fac   \n",
       "0     4.7     62.0         1       8.9     41.0         NaN         NaN   NaN  \\\n",
       "1     4.3     66.0         1      10.0      NaN         NaN         NaN   NaN   \n",
       "2     NaN      NaN         1       NaN      NaN         NaN         NaN   NaN   \n",
       "3     4.9     64.0         1       NaN      NaN         NaN         NaN   NaN   \n",
       "4     5.7     62.0         1       NaN     47.0         NaN         NaN   NaN   \n",
       "5     4.4      NaN         1       NaN     21.0         NaN         NaN   NaN   \n",
       "6     NaN      NaN         1       NaN      NaN         NaN         NaN   NaN   \n",
       "7     5.2     75.0         1       8.0     23.8        35.0         NaN   NaN   \n",
       "8     NaN      NaN         1       NaN      NaN         NaN         NaN   NaN   \n",
       "9     2.5      NaN         1      11.0      NaN         NaN         NaN  40.0   \n",
       "10    4.5      NaN         1      12.0     16.0         NaN         NaN   NaN   \n",
       "11    4.7     60.0         1       NaN     18.0         NaN         NaN   NaN   \n",
       "12    5.2      NaN         1      15.0     31.0        28.0        12.0  56.0   \n",
       "13    5.1      NaN         1      11.0     23.0         NaN         NaN   NaN   \n",
       "14    5.1      NaN         1       8.1     44.0        31.0        23.0  36.0   \n",
       "15    5.0      NaN         1      11.0     22.0         NaN         NaN   NaN   \n",
       "16    3.5      NaN         1      13.0     30.0        24.4        11.4  53.0   \n",
       "17    4.7      NaN         1      10.0     26.0         NaN         NaN   NaN   \n",
       "18    5.3      NaN         1       8.0     14.0        14.0        10.0  30.0   \n",
       "19    4.6      NaN         1       NaN      NaN         NaN         NaN   NaN   \n",
       "20    3.5      NaN         1      14.0     29.0        23.0        14.0  39.0   \n",
       "21    4.0      NaN         1       9.3     47.0        24.0        15.0  38.0   \n",
       "22    4.8     67.0         1       8.2     19.0        13.0         9.0  33.0   \n",
       "23    4.7      NaN         1      13.0     26.0        18.0        10.0  42.0   \n",
       "24    3.5      NaN         1       5.2     27.0        19.0        11.0  39.0   \n",
       "25    3.1      NaN         1       9.0     25.0         NaN         NaN   NaN   \n",
       "26    3.2      NaN         1      12.0     21.0        33.0        20.0  38.0   \n",
       "27    5.0      NaN         1      11.0     22.0         9.2         5.8  36.0   \n",
       "28    4.0      NaN         1      17.0      NaN        15.0         5.0  63.0   \n",
       "29    NaN      NaN         1       NaN      NaN         NaN         NaN   NaN   \n",
       "30    6.1      NaN         1       7.8     35.0        25.0        16.0  36.0   \n",
       "31    5.9     63.0         1       7.0      NaN         NaN         NaN   NaN   \n",
       "32    4.4      NaN         1       6.4     29.0         NaN         NaN   NaN   \n",
       "33    5.0      NaN         1      11.0     44.0        29.0        17.0  42.0   \n",
       "34    4.7      NaN         1       8.4     31.0         NaN         NaN   NaN   \n",
       "\n",
       "    vd_basal_4c  ore_it  gmax_it  tapse  anillo_trc  vc_it_mm  psap  i_mitral   \n",
       "0           NaN     NaN     13.0   15.0         NaN       NaN  43.0       1.0  \\\n",
       "1           NaN     NaN     82.0   21.0         NaN       NaN   NaN       NaN   \n",
       "2           NaN     NaN      NaN   20.0         NaN       NaN   NaN       NaN   \n",
       "3           NaN     NaN     52.0   14.0         NaN       NaN  60.0       1.0   \n",
       "4           NaN     NaN     40.0    NaN         NaN       NaN  68.0       1.0   \n",
       "5           NaN    0.70     28.0   21.0        34.0       7.0  37.0       NaN   \n",
       "6           NaN     NaN      NaN   13.0        41.0       9.0  55.0       NaN   \n",
       "7           4.7     NaN     42.0   13.0         NaN       NaN  53.0       NaN   \n",
       "8           NaN     NaN      NaN    NaN        39.0       NaN  60.0       NaN   \n",
       "9           4.5     NaN      NaN   22.0        38.0       NaN  70.0       1.0   \n",
       "10          5.0     NaN     47.0   24.0         NaN       NaN  55.0       NaN   \n",
       "11          NaN     NaN     47.0   24.0         NaN       NaN  50.0       1.0   \n",
       "12          NaN     NaN     46.0   29.0        47.0       6.8  55.0       2.0   \n",
       "13          NaN     NaN     45.0   19.0         NaN       NaN  38.0       1.0   \n",
       "14          5.1    0.78     36.0   19.0        52.0       8.0  45.0       1.0   \n",
       "15          4.1     NaN     34.0   18.0         NaN      12.0  40.0       NaN   \n",
       "16          5.4    1.40     17.0   23.0        49.0      19.0  42.0       NaN   \n",
       "17          NaN    0.23     55.0   16.0         NaN       9.0  70.0       1.0   \n",
       "18          NaN     NaN     76.0   15.0        45.0       NaN  86.0       NaN   \n",
       "19          NaN     NaN      NaN   27.0         NaN       NaN  60.0       1.0   \n",
       "20          4.5     NaN     52.0   19.0        41.0       NaN  60.0       NaN   \n",
       "21          4.3    0.62     55.0   17.0        41.0      10.0  70.0       NaN   \n",
       "22          NaN     NaN     42.0    7.0         NaN       NaN  46.0       NaN   \n",
       "23          4.5     NaN     38.0   16.0         NaN       7.4  55.0       NaN   \n",
       "24         38.0     NaN     57.0   10.0         NaN       6.5  70.0       NaN   \n",
       "25          NaN     NaN     36.0   16.0         NaN       NaN  50.0       NaN   \n",
       "26          5.6    0.70     39.0   23.0        43.0      16.0  50.0       NaN   \n",
       "27          4.7    0.60     35.0   28.0        44.0       NaN  45.0       NaN   \n",
       "28          NaN     NaN     35.0   21.0         NaN       NaN  45.0       1.0   \n",
       "29          NaN    0.64     27.0    NaN         NaN       NaN  41.0       NaN   \n",
       "30          4.4     NaN     46.0   17.0         NaN       NaN  60.0       NaN   \n",
       "31          NaN     NaN     35.0   18.0        43.0       NaN  50.0       NaN   \n",
       "32          5.3    1.20     26.0   15.0         NaN       NaN  45.0       NaN   \n",
       "33          5.5    1.60     43.0   16.0        43.0      16.0  50.0       2.0   \n",
       "34          4.6     NaN     41.0   20.0         NaN       NaN  61.0       1.0   \n",
       "\n",
       "    iao_eao   vd   ad  vd_f_sist  t_int  pr_mitral  pr_ao  pr_tr  \n",
       "0       NaN  NaN  NaN        NaN    5.0        NaN    1.0    NaN  \n",
       "1       NaN  4.0  3.0        NaN    NaN        NaN    NaN    NaN  \n",
       "2       NaN  2.0  3.0        1.0    NaN        NaN    NaN    NaN  \n",
       "3       NaN  2.0  NaN        2.0    NaN        NaN    NaN    NaN  \n",
       "4       NaN  4.0  NaN        NaN    4.0        NaN    NaN    NaN  \n",
       "5       NaN  2.0  4.0        1.0    7.0        NaN    NaN    NaN  \n",
       "6       NaN  1.0  2.0        2.0    NaN        NaN    NaN    NaN  \n",
       "7       NaN  2.0  4.0        2.0    5.0        NaN    NaN    NaN  \n",
       "8       NaN  4.0  3.0        2.0    NaN        NaN    NaN    NaN  \n",
       "9       NaN  1.0  4.0        1.0    NaN        NaN    NaN    NaN  \n",
       "10      1.0  3.0  4.0        1.0    3.0        NaN    1.0    NaN  \n",
       "11      NaN  1.0  4.0        1.0    NaN        NaN    NaN    NaN  \n",
       "12      NaN  2.0  4.0        1.0    5.0        NaN    NaN    NaN  \n",
       "13      1.0  1.0  NaN        1.0    NaN        NaN    1.0    NaN  \n",
       "14      NaN  4.0  4.0        2.0   12.0        NaN    1.0    NaN  \n",
       "15      NaN  2.0  2.0        2.0    5.0        NaN    NaN    NaN  \n",
       "16      NaN  2.0  4.0        1.0    6.0        NaN    NaN    NaN  \n",
       "17      NaN  3.0  4.0        2.0    6.0        NaN    NaN    NaN  \n",
       "18      NaN  1.0  1.0        1.0    NaN        1.0    1.0    NaN  \n",
       "19      NaN  3.0  4.0        3.0    NaN        NaN    NaN    NaN  \n",
       "20      NaN  4.0  4.0        3.0    NaN        NaN    NaN    NaN  \n",
       "21      NaN  4.0  4.0        1.0    NaN        1.0    NaN    NaN  \n",
       "22      NaN  3.0  4.0        1.0    2.0        NaN    NaN    1.0  \n",
       "23      NaN  2.0  4.0        1.0   14.0        NaN    NaN    NaN  \n",
       "24      NaN  2.0  3.0        2.0    8.0        1.0    1.0    NaN  \n",
       "25      NaN  1.0  3.0        1.0   20.0        NaN    NaN    NaN  \n",
       "26      NaN  4.0  4.0        1.0    1.0        NaN    NaN    1.0  \n",
       "27      NaN  2.0  4.0        1.0   10.0        NaN    NaN    NaN  \n",
       "28      NaN  1.0  2.0        1.0    1.0        NaN    NaN    NaN  \n",
       "29      NaN  1.0  3.0        1.0    NaN        NaN    NaN    NaN  \n",
       "30      NaN  3.0  3.0        1.0    3.0        1.0    2.0    NaN  \n",
       "31      NaN  2.0  2.0        2.0    NaN        NaN    NaN    NaN  \n",
       "32      NaN  2.0  4.0        2.0    3.0        NaN    1.0    NaN  \n",
       "33      NaN  4.0  4.0        1.0    1.0        NaN    NaN    NaN  \n",
       "34      NaN  2.0  3.0        1.0    NaN        NaN    NaN    NaN  "
      ]
     },
     "execution_count": 180,
     "metadata": {},
     "output_type": "execute_result"
    }
   ],
   "source": [
    "df"
   ]
  },
  {
   "cell_type": "code",
   "execution_count": 181,
   "metadata": {
    "id": "4mniAaAzY2jw"
   },
   "outputs": [
    {
     "name": "stdout",
     "output_type": "stream",
     "text": [
      "<class 'pandas.core.frame.DataFrame'>\n",
      "RangeIndex: 35 entries, 0 to 34\n",
      "Data columns (total 33 columns):\n",
      " #   Column       Non-Null Count  Dtype  \n",
      "---  ------       --------------  -----  \n",
      " 0   index1       35 non-null     int64  \n",
      " 1   hist_clin    35 non-null     int64  \n",
      " 2   nacimiento   29 non-null     float64\n",
      " 3   edad         29 non-null     float64\n",
      " 4   peso         32 non-null     float64\n",
      " 5   talla        33 non-null     float64\n",
      " 6   sc           28 non-null     float64\n",
      " 7   sexo         35 non-null     int64  \n",
      " 8   fevibp       25 non-null     float64\n",
      " 9   dvitd        31 non-null     float64\n",
      " 10  fevitch      8 non-null      float64\n",
      " 11  interfer     35 non-null     int64  \n",
      " 12  sprimatr     26 non-null     float64\n",
      " 13  area_ad      25 non-null     float64\n",
      " 14  area_vd_td   15 non-null     float64\n",
      " 15  area_vd_ts   14 non-null     float64\n",
      " 16  fac          15 non-null     float64\n",
      " 17  vd_basal_4c  16 non-null     float64\n",
      " 18  ore_it       10 non-null     float64\n",
      " 19  gmax_it      30 non-null     float64\n",
      " 20  tapse        32 non-null     float64\n",
      " 21  anillo_trc   14 non-null     float64\n",
      " 22  vc_it_mm     12 non-null     float64\n",
      " 23  psap         33 non-null     float64\n",
      " 24  i_mitral     13 non-null     float64\n",
      " 25  iao_eao      2 non-null      float64\n",
      " 26  vd           34 non-null     float64\n",
      " 27  ad           31 non-null     float64\n",
      " 28  vd_f_sist    32 non-null     float64\n",
      " 29  t_int        20 non-null     float64\n",
      " 30  pr_mitral    4 non-null      float64\n",
      " 31  pr_ao        8 non-null      float64\n",
      " 32  pr_tr        2 non-null      float64\n",
      "dtypes: float64(29), int64(4)\n",
      "memory usage: 9.2 KB\n"
     ]
    }
   ],
   "source": [
    "df.info()"
   ]
  },
  {
   "cell_type": "code",
   "execution_count": 182,
   "metadata": {
    "id": "5B67nCloY2jx"
   },
   "outputs": [
    {
     "data": {
      "text/html": [
       "<div>\n",
       "<style scoped>\n",
       "    .dataframe tbody tr th:only-of-type {\n",
       "        vertical-align: middle;\n",
       "    }\n",
       "\n",
       "    .dataframe tbody tr th {\n",
       "        vertical-align: top;\n",
       "    }\n",
       "\n",
       "    .dataframe thead th {\n",
       "        text-align: right;\n",
       "    }\n",
       "</style>\n",
       "<table border=\"1\" class=\"dataframe\">\n",
       "  <thead>\n",
       "    <tr style=\"text-align: right;\">\n",
       "      <th></th>\n",
       "      <th>index1</th>\n",
       "      <th>hist_clin</th>\n",
       "      <th>nacimiento</th>\n",
       "      <th>edad</th>\n",
       "      <th>peso</th>\n",
       "      <th>talla</th>\n",
       "      <th>sc</th>\n",
       "      <th>sexo</th>\n",
       "      <th>fevibp</th>\n",
       "      <th>dvitd</th>\n",
       "      <th>fevitch</th>\n",
       "      <th>interfer</th>\n",
       "      <th>sprimatr</th>\n",
       "      <th>area_ad</th>\n",
       "      <th>area_vd_td</th>\n",
       "      <th>area_vd_ts</th>\n",
       "      <th>fac</th>\n",
       "      <th>vd_basal_4c</th>\n",
       "      <th>ore_it</th>\n",
       "      <th>gmax_it</th>\n",
       "      <th>tapse</th>\n",
       "      <th>anillo_trc</th>\n",
       "      <th>vc_it_mm</th>\n",
       "      <th>psap</th>\n",
       "      <th>i_mitral</th>\n",
       "      <th>iao_eao</th>\n",
       "      <th>vd</th>\n",
       "      <th>ad</th>\n",
       "      <th>vd_f_sist</th>\n",
       "      <th>t_int</th>\n",
       "      <th>pr_mitral</th>\n",
       "      <th>pr_ao</th>\n",
       "      <th>pr_tr</th>\n",
       "    </tr>\n",
       "  </thead>\n",
       "  <tbody>\n",
       "    <tr>\n",
       "      <th>count</th>\n",
       "      <td>35.000000</td>\n",
       "      <td>3.500000e+01</td>\n",
       "      <td>29.000000</td>\n",
       "      <td>29.000000</td>\n",
       "      <td>32.000000</td>\n",
       "      <td>33.000000</td>\n",
       "      <td>28.000000</td>\n",
       "      <td>35.000000</td>\n",
       "      <td>25.00000</td>\n",
       "      <td>31.000000</td>\n",
       "      <td>8.000000</td>\n",
       "      <td>35.0</td>\n",
       "      <td>26.000000</td>\n",
       "      <td>25.000000</td>\n",
       "      <td>15.000000</td>\n",
       "      <td>14.000000</td>\n",
       "      <td>15.000000</td>\n",
       "      <td>16.000000</td>\n",
       "      <td>10.000000</td>\n",
       "      <td>30.000000</td>\n",
       "      <td>32.00000</td>\n",
       "      <td>14.000000</td>\n",
       "      <td>12.000000</td>\n",
       "      <td>33.000000</td>\n",
       "      <td>13.000000</td>\n",
       "      <td>2.0</td>\n",
       "      <td>34.000000</td>\n",
       "      <td>31.000000</td>\n",
       "      <td>32.000000</td>\n",
       "      <td>20.00000</td>\n",
       "      <td>4.0</td>\n",
       "      <td>8.000000</td>\n",
       "      <td>2.0</td>\n",
       "    </tr>\n",
       "    <tr>\n",
       "      <th>mean</th>\n",
       "      <td>21.571429</td>\n",
       "      <td>3.349251e+07</td>\n",
       "      <td>1938.655172</td>\n",
       "      <td>83.172414</td>\n",
       "      <td>67.875000</td>\n",
       "      <td>158.333333</td>\n",
       "      <td>1.658929</td>\n",
       "      <td>1.371429</td>\n",
       "      <td>57.32000</td>\n",
       "      <td>4.558065</td>\n",
       "      <td>64.875000</td>\n",
       "      <td>1.0</td>\n",
       "      <td>10.203846</td>\n",
       "      <td>28.472000</td>\n",
       "      <td>22.706667</td>\n",
       "      <td>12.800000</td>\n",
       "      <td>41.400000</td>\n",
       "      <td>6.887500</td>\n",
       "      <td>0.847000</td>\n",
       "      <td>42.233333</td>\n",
       "      <td>18.62500</td>\n",
       "      <td>42.857143</td>\n",
       "      <td>10.558333</td>\n",
       "      <td>54.090909</td>\n",
       "      <td>1.153846</td>\n",
       "      <td>1.0</td>\n",
       "      <td>2.382353</td>\n",
       "      <td>3.387097</td>\n",
       "      <td>1.437500</td>\n",
       "      <td>6.05000</td>\n",
       "      <td>1.0</td>\n",
       "      <td>1.125000</td>\n",
       "      <td>1.0</td>\n",
       "    </tr>\n",
       "    <tr>\n",
       "      <th>std</th>\n",
       "      <td>11.576563</td>\n",
       "      <td>1.920830e+08</td>\n",
       "      <td>12.095678</td>\n",
       "      <td>10.793745</td>\n",
       "      <td>10.781555</td>\n",
       "      <td>8.076458</td>\n",
       "      <td>0.162989</td>\n",
       "      <td>0.490241</td>\n",
       "      <td>9.77548</td>\n",
       "      <td>0.828965</td>\n",
       "      <td>4.673252</td>\n",
       "      <td>0.0</td>\n",
       "      <td>2.755864</td>\n",
       "      <td>9.622176</td>\n",
       "      <td>7.797020</td>\n",
       "      <td>5.082701</td>\n",
       "      <td>9.022195</td>\n",
       "      <td>8.309101</td>\n",
       "      <td>0.419154</td>\n",
       "      <td>14.462039</td>\n",
       "      <td>4.95626</td>\n",
       "      <td>4.571772</td>\n",
       "      <td>4.237379</td>\n",
       "      <td>11.347807</td>\n",
       "      <td>0.375534</td>\n",
       "      <td>0.0</td>\n",
       "      <td>1.101368</td>\n",
       "      <td>0.843699</td>\n",
       "      <td>0.618922</td>\n",
       "      <td>4.82837</td>\n",
       "      <td>0.0</td>\n",
       "      <td>0.353553</td>\n",
       "      <td>0.0</td>\n",
       "    </tr>\n",
       "    <tr>\n",
       "      <th>min</th>\n",
       "      <td>2.000000</td>\n",
       "      <td>8.676100e+04</td>\n",
       "      <td>1914.000000</td>\n",
       "      <td>62.000000</td>\n",
       "      <td>45.000000</td>\n",
       "      <td>145.000000</td>\n",
       "      <td>1.400000</td>\n",
       "      <td>1.000000</td>\n",
       "      <td>25.00000</td>\n",
       "      <td>2.500000</td>\n",
       "      <td>60.000000</td>\n",
       "      <td>1.0</td>\n",
       "      <td>5.200000</td>\n",
       "      <td>14.000000</td>\n",
       "      <td>9.200000</td>\n",
       "      <td>5.000000</td>\n",
       "      <td>30.000000</td>\n",
       "      <td>4.100000</td>\n",
       "      <td>0.230000</td>\n",
       "      <td>13.000000</td>\n",
       "      <td>7.00000</td>\n",
       "      <td>34.000000</td>\n",
       "      <td>6.500000</td>\n",
       "      <td>37.000000</td>\n",
       "      <td>1.000000</td>\n",
       "      <td>1.0</td>\n",
       "      <td>1.000000</td>\n",
       "      <td>1.000000</td>\n",
       "      <td>1.000000</td>\n",
       "      <td>1.00000</td>\n",
       "      <td>1.0</td>\n",
       "      <td>1.000000</td>\n",
       "      <td>1.0</td>\n",
       "    </tr>\n",
       "    <tr>\n",
       "      <th>25%</th>\n",
       "      <td>12.000000</td>\n",
       "      <td>5.780205e+05</td>\n",
       "      <td>1930.000000</td>\n",
       "      <td>76.000000</td>\n",
       "      <td>59.000000</td>\n",
       "      <td>152.000000</td>\n",
       "      <td>1.500000</td>\n",
       "      <td>1.000000</td>\n",
       "      <td>53.00000</td>\n",
       "      <td>4.150000</td>\n",
       "      <td>62.000000</td>\n",
       "      <td>1.0</td>\n",
       "      <td>8.125000</td>\n",
       "      <td>22.000000</td>\n",
       "      <td>16.500000</td>\n",
       "      <td>10.000000</td>\n",
       "      <td>36.000000</td>\n",
       "      <td>4.500000</td>\n",
       "      <td>0.625000</td>\n",
       "      <td>35.000000</td>\n",
       "      <td>15.75000</td>\n",
       "      <td>41.000000</td>\n",
       "      <td>7.300000</td>\n",
       "      <td>45.000000</td>\n",
       "      <td>1.000000</td>\n",
       "      <td>1.0</td>\n",
       "      <td>2.000000</td>\n",
       "      <td>3.000000</td>\n",
       "      <td>1.000000</td>\n",
       "      <td>3.00000</td>\n",
       "      <td>1.0</td>\n",
       "      <td>1.000000</td>\n",
       "      <td>1.0</td>\n",
       "    </tr>\n",
       "    <tr>\n",
       "      <th>50%</th>\n",
       "      <td>22.000000</td>\n",
       "      <td>1.115455e+06</td>\n",
       "      <td>1936.000000</td>\n",
       "      <td>87.000000</td>\n",
       "      <td>68.500000</td>\n",
       "      <td>158.000000</td>\n",
       "      <td>1.685000</td>\n",
       "      <td>1.000000</td>\n",
       "      <td>59.00000</td>\n",
       "      <td>4.700000</td>\n",
       "      <td>63.500000</td>\n",
       "      <td>1.0</td>\n",
       "      <td>10.000000</td>\n",
       "      <td>26.000000</td>\n",
       "      <td>24.000000</td>\n",
       "      <td>11.700000</td>\n",
       "      <td>39.000000</td>\n",
       "      <td>4.700000</td>\n",
       "      <td>0.700000</td>\n",
       "      <td>41.500000</td>\n",
       "      <td>18.50000</td>\n",
       "      <td>43.000000</td>\n",
       "      <td>9.000000</td>\n",
       "      <td>53.000000</td>\n",
       "      <td>1.000000</td>\n",
       "      <td>1.0</td>\n",
       "      <td>2.000000</td>\n",
       "      <td>4.000000</td>\n",
       "      <td>1.000000</td>\n",
       "      <td>5.00000</td>\n",
       "      <td>1.0</td>\n",
       "      <td>1.000000</td>\n",
       "      <td>1.0</td>\n",
       "    </tr>\n",
       "    <tr>\n",
       "      <th>75%</th>\n",
       "      <td>30.500000</td>\n",
       "      <td>1.423252e+06</td>\n",
       "      <td>1947.000000</td>\n",
       "      <td>91.000000</td>\n",
       "      <td>75.250000</td>\n",
       "      <td>164.000000</td>\n",
       "      <td>1.707500</td>\n",
       "      <td>2.000000</td>\n",
       "      <td>63.00000</td>\n",
       "      <td>5.050000</td>\n",
       "      <td>66.250000</td>\n",
       "      <td>1.0</td>\n",
       "      <td>11.750000</td>\n",
       "      <td>31.000000</td>\n",
       "      <td>28.500000</td>\n",
       "      <td>15.750000</td>\n",
       "      <td>42.000000</td>\n",
       "      <td>5.325000</td>\n",
       "      <td>1.095000</td>\n",
       "      <td>47.000000</td>\n",
       "      <td>21.25000</td>\n",
       "      <td>44.750000</td>\n",
       "      <td>13.000000</td>\n",
       "      <td>60.000000</td>\n",
       "      <td>1.000000</td>\n",
       "      <td>1.0</td>\n",
       "      <td>3.000000</td>\n",
       "      <td>4.000000</td>\n",
       "      <td>2.000000</td>\n",
       "      <td>7.25000</td>\n",
       "      <td>1.0</td>\n",
       "      <td>1.000000</td>\n",
       "      <td>1.0</td>\n",
       "    </tr>\n",
       "    <tr>\n",
       "      <th>max</th>\n",
       "      <td>42.000000</td>\n",
       "      <td>1.137397e+09</td>\n",
       "      <td>1961.000000</td>\n",
       "      <td>100.000000</td>\n",
       "      <td>90.000000</td>\n",
       "      <td>176.000000</td>\n",
       "      <td>1.990000</td>\n",
       "      <td>2.000000</td>\n",
       "      <td>80.00000</td>\n",
       "      <td>6.100000</td>\n",
       "      <td>75.000000</td>\n",
       "      <td>1.0</td>\n",
       "      <td>17.000000</td>\n",
       "      <td>47.000000</td>\n",
       "      <td>35.000000</td>\n",
       "      <td>23.000000</td>\n",
       "      <td>63.000000</td>\n",
       "      <td>38.000000</td>\n",
       "      <td>1.600000</td>\n",
       "      <td>82.000000</td>\n",
       "      <td>29.00000</td>\n",
       "      <td>52.000000</td>\n",
       "      <td>19.000000</td>\n",
       "      <td>86.000000</td>\n",
       "      <td>2.000000</td>\n",
       "      <td>1.0</td>\n",
       "      <td>4.000000</td>\n",
       "      <td>4.000000</td>\n",
       "      <td>3.000000</td>\n",
       "      <td>20.00000</td>\n",
       "      <td>1.0</td>\n",
       "      <td>2.000000</td>\n",
       "      <td>1.0</td>\n",
       "    </tr>\n",
       "  </tbody>\n",
       "</table>\n",
       "</div>"
      ],
      "text/plain": [
       "          index1     hist_clin   nacimiento        edad       peso   \n",
       "count  35.000000  3.500000e+01    29.000000   29.000000  32.000000  \\\n",
       "mean   21.571429  3.349251e+07  1938.655172   83.172414  67.875000   \n",
       "std    11.576563  1.920830e+08    12.095678   10.793745  10.781555   \n",
       "min     2.000000  8.676100e+04  1914.000000   62.000000  45.000000   \n",
       "25%    12.000000  5.780205e+05  1930.000000   76.000000  59.000000   \n",
       "50%    22.000000  1.115455e+06  1936.000000   87.000000  68.500000   \n",
       "75%    30.500000  1.423252e+06  1947.000000   91.000000  75.250000   \n",
       "max    42.000000  1.137397e+09  1961.000000  100.000000  90.000000   \n",
       "\n",
       "            talla         sc       sexo    fevibp      dvitd    fevitch   \n",
       "count   33.000000  28.000000  35.000000  25.00000  31.000000   8.000000  \\\n",
       "mean   158.333333   1.658929   1.371429  57.32000   4.558065  64.875000   \n",
       "std      8.076458   0.162989   0.490241   9.77548   0.828965   4.673252   \n",
       "min    145.000000   1.400000   1.000000  25.00000   2.500000  60.000000   \n",
       "25%    152.000000   1.500000   1.000000  53.00000   4.150000  62.000000   \n",
       "50%    158.000000   1.685000   1.000000  59.00000   4.700000  63.500000   \n",
       "75%    164.000000   1.707500   2.000000  63.00000   5.050000  66.250000   \n",
       "max    176.000000   1.990000   2.000000  80.00000   6.100000  75.000000   \n",
       "\n",
       "       interfer   sprimatr    area_ad  area_vd_td  area_vd_ts        fac   \n",
       "count      35.0  26.000000  25.000000   15.000000   14.000000  15.000000  \\\n",
       "mean        1.0  10.203846  28.472000   22.706667   12.800000  41.400000   \n",
       "std         0.0   2.755864   9.622176    7.797020    5.082701   9.022195   \n",
       "min         1.0   5.200000  14.000000    9.200000    5.000000  30.000000   \n",
       "25%         1.0   8.125000  22.000000   16.500000   10.000000  36.000000   \n",
       "50%         1.0  10.000000  26.000000   24.000000   11.700000  39.000000   \n",
       "75%         1.0  11.750000  31.000000   28.500000   15.750000  42.000000   \n",
       "max         1.0  17.000000  47.000000   35.000000   23.000000  63.000000   \n",
       "\n",
       "       vd_basal_4c     ore_it    gmax_it     tapse  anillo_trc   vc_it_mm   \n",
       "count    16.000000  10.000000  30.000000  32.00000   14.000000  12.000000  \\\n",
       "mean      6.887500   0.847000  42.233333  18.62500   42.857143  10.558333   \n",
       "std       8.309101   0.419154  14.462039   4.95626    4.571772   4.237379   \n",
       "min       4.100000   0.230000  13.000000   7.00000   34.000000   6.500000   \n",
       "25%       4.500000   0.625000  35.000000  15.75000   41.000000   7.300000   \n",
       "50%       4.700000   0.700000  41.500000  18.50000   43.000000   9.000000   \n",
       "75%       5.325000   1.095000  47.000000  21.25000   44.750000  13.000000   \n",
       "max      38.000000   1.600000  82.000000  29.00000   52.000000  19.000000   \n",
       "\n",
       "            psap   i_mitral  iao_eao         vd         ad  vd_f_sist   \n",
       "count  33.000000  13.000000      2.0  34.000000  31.000000  32.000000  \\\n",
       "mean   54.090909   1.153846      1.0   2.382353   3.387097   1.437500   \n",
       "std    11.347807   0.375534      0.0   1.101368   0.843699   0.618922   \n",
       "min    37.000000   1.000000      1.0   1.000000   1.000000   1.000000   \n",
       "25%    45.000000   1.000000      1.0   2.000000   3.000000   1.000000   \n",
       "50%    53.000000   1.000000      1.0   2.000000   4.000000   1.000000   \n",
       "75%    60.000000   1.000000      1.0   3.000000   4.000000   2.000000   \n",
       "max    86.000000   2.000000      1.0   4.000000   4.000000   3.000000   \n",
       "\n",
       "          t_int  pr_mitral     pr_ao  pr_tr  \n",
       "count  20.00000        4.0  8.000000    2.0  \n",
       "mean    6.05000        1.0  1.125000    1.0  \n",
       "std     4.82837        0.0  0.353553    0.0  \n",
       "min     1.00000        1.0  1.000000    1.0  \n",
       "25%     3.00000        1.0  1.000000    1.0  \n",
       "50%     5.00000        1.0  1.000000    1.0  \n",
       "75%     7.25000        1.0  1.000000    1.0  \n",
       "max    20.00000        1.0  2.000000    1.0  "
      ]
     },
     "execution_count": 182,
     "metadata": {},
     "output_type": "execute_result"
    }
   ],
   "source": [
    "df.describe()"
   ]
  },
  {
   "cell_type": "code",
   "execution_count": 183,
   "metadata": {
    "id": "2vPWUFMQY2jy",
    "outputId": "822873b3-6254-4c43-c132-4a46970132f5"
   },
   "outputs": [
    {
     "name": "stdout",
     "output_type": "stream",
     "text": [
      "<class 'pandas.core.series.Series'>\n",
      "RangeIndex: 35 entries, 0 to 34\n",
      "Series name: edad\n",
      "Non-Null Count  Dtype  \n",
      "--------------  -----  \n",
      "29 non-null     float64\n",
      "dtypes: float64(1)\n",
      "memory usage: 412.0 bytes\n"
     ]
    }
   ],
   "source": [
    "df.edad.info()"
   ]
  },
  {
   "cell_type": "code",
   "execution_count": 184,
   "metadata": {
    "id": "ciqbGCr1Y2j1",
    "outputId": "528df71e-c38d-4f4d-c01b-57c57ce7aca1"
   },
   "outputs": [
    {
     "data": {
      "text/plain": [
       "count     29.000000\n",
       "mean      83.172414\n",
       "std       10.793745\n",
       "min       62.000000\n",
       "25%       76.000000\n",
       "50%       87.000000\n",
       "75%       91.000000\n",
       "max      100.000000\n",
       "Name: edad, dtype: float64"
      ]
     },
     "execution_count": 184,
     "metadata": {},
     "output_type": "execute_result"
    }
   ],
   "source": [
    "df.edad.describe()"
   ]
  },
  {
   "cell_type": "code",
   "execution_count": 185,
   "metadata": {
    "id": "nj6EJbfwY2j2",
    "outputId": "ddb233d3-2eb4-44ce-fd44-36022f863b70"
   },
   "outputs": [
    {
     "data": {
      "text/plain": [
       "count    32.000000\n",
       "mean     67.875000\n",
       "std      10.781555\n",
       "min      45.000000\n",
       "25%      59.000000\n",
       "50%      68.500000\n",
       "75%      75.250000\n",
       "max      90.000000\n",
       "Name: peso, dtype: float64"
      ]
     },
     "execution_count": 185,
     "metadata": {},
     "output_type": "execute_result"
    }
   ],
   "source": [
    "df.peso.describe()"
   ]
  },
  {
   "cell_type": "code",
   "execution_count": 186,
   "metadata": {
    "id": "lT_4IeckY2j3",
    "outputId": "35502c92-2d23-4970-8619-56ee62e804b7"
   },
   "outputs": [
    {
     "data": {
      "text/plain": [
       "count     33.000000\n",
       "mean     158.333333\n",
       "std        8.076458\n",
       "min      145.000000\n",
       "25%      152.000000\n",
       "50%      158.000000\n",
       "75%      164.000000\n",
       "max      176.000000\n",
       "Name: talla, dtype: float64"
      ]
     },
     "execution_count": 186,
     "metadata": {},
     "output_type": "execute_result"
    }
   ],
   "source": [
    "df.talla.describe()"
   ]
  },
  {
   "cell_type": "code",
   "execution_count": 187,
   "metadata": {
    "id": "J0JDxJryY2j4",
    "outputId": "720d6f1c-293b-4c49-eadf-cbd562d8cdd1"
   },
   "outputs": [
    {
     "data": {
      "text/plain": [
       "count    28.000000\n",
       "mean      1.658929\n",
       "std       0.162989\n",
       "min       1.400000\n",
       "25%       1.500000\n",
       "50%       1.685000\n",
       "75%       1.707500\n",
       "max       1.990000\n",
       "Name: sc, dtype: float64"
      ]
     },
     "execution_count": 187,
     "metadata": {},
     "output_type": "execute_result"
    }
   ],
   "source": [
    "df.sc.describe()"
   ]
  },
  {
   "cell_type": "code",
   "execution_count": 188,
   "metadata": {
    "id": "kmztveYdY2j4",
    "outputId": "ac22071f-44cb-452e-b484-7edb100a21cd"
   },
   "outputs": [
    {
     "data": {
      "text/plain": [
       "count    25.00000\n",
       "mean     57.32000\n",
       "std       9.77548\n",
       "min      25.00000\n",
       "25%      53.00000\n",
       "50%      59.00000\n",
       "75%      63.00000\n",
       "max      80.00000\n",
       "Name: fevibp, dtype: float64"
      ]
     },
     "execution_count": 188,
     "metadata": {},
     "output_type": "execute_result"
    }
   ],
   "source": [
    "df.fevibp.describe()"
   ]
  },
  {
   "cell_type": "code",
   "execution_count": 189,
   "metadata": {
    "id": "SDsJluhTY2j5",
    "outputId": "d69a7670-4345-464a-cc8a-6feb53eb2877"
   },
   "outputs": [
    {
     "data": {
      "text/plain": [
       "count    31.000000\n",
       "mean      4.558065\n",
       "std       0.828965\n",
       "min       2.500000\n",
       "25%       4.150000\n",
       "50%       4.700000\n",
       "75%       5.050000\n",
       "max       6.100000\n",
       "Name: dvitd, dtype: float64"
      ]
     },
     "execution_count": 189,
     "metadata": {},
     "output_type": "execute_result"
    }
   ],
   "source": [
    "df.dvitd.describe()"
   ]
  },
  {
   "cell_type": "code",
   "execution_count": 190,
   "metadata": {
    "id": "09-foCxmY2j5",
    "outputId": "a5d25581-fc1d-4ed8-8d78-a7bbecdc10d4"
   },
   "outputs": [
    {
     "data": {
      "text/plain": [
       "count     8.000000\n",
       "mean     64.875000\n",
       "std       4.673252\n",
       "min      60.000000\n",
       "25%      62.000000\n",
       "50%      63.500000\n",
       "75%      66.250000\n",
       "max      75.000000\n",
       "Name: fevitch, dtype: float64"
      ]
     },
     "execution_count": 190,
     "metadata": {},
     "output_type": "execute_result"
    }
   ],
   "source": [
    "df.fevitch.describe()"
   ]
  },
  {
   "cell_type": "code",
   "execution_count": 191,
   "metadata": {
    "id": "wpWnQg7_Y2j6",
    "outputId": "8820757e-f621-4115-cc09-c90e7c905b1f"
   },
   "outputs": [
    {
     "data": {
      "text/plain": [
       "count    26.000000\n",
       "mean     10.203846\n",
       "std       2.755864\n",
       "min       5.200000\n",
       "25%       8.125000\n",
       "50%      10.000000\n",
       "75%      11.750000\n",
       "max      17.000000\n",
       "Name: sprimatr, dtype: float64"
      ]
     },
     "execution_count": 191,
     "metadata": {},
     "output_type": "execute_result"
    }
   ],
   "source": [
    "df.sprimatr.describe()"
   ]
  },
  {
   "cell_type": "code",
   "execution_count": 192,
   "metadata": {
    "id": "tGFaEU7DY2j6",
    "outputId": "b823a172-c464-4667-cff0-518c5cf651a2"
   },
   "outputs": [
    {
     "data": {
      "text/plain": [
       "count    25.000000\n",
       "mean     28.472000\n",
       "std       9.622176\n",
       "min      14.000000\n",
       "25%      22.000000\n",
       "50%      26.000000\n",
       "75%      31.000000\n",
       "max      47.000000\n",
       "Name: area_ad, dtype: float64"
      ]
     },
     "execution_count": 192,
     "metadata": {},
     "output_type": "execute_result"
    }
   ],
   "source": [
    "df.area_ad.describe()"
   ]
  },
  {
   "cell_type": "code",
   "execution_count": 193,
   "metadata": {
    "id": "EsdVAe7mY2j7",
    "outputId": "d610ee90-b813-457b-e0c5-73188d010577"
   },
   "outputs": [
    {
     "data": {
      "text/plain": [
       "count    15.000000\n",
       "mean     22.706667\n",
       "std       7.797020\n",
       "min       9.200000\n",
       "25%      16.500000\n",
       "50%      24.000000\n",
       "75%      28.500000\n",
       "max      35.000000\n",
       "Name: area_vd_td, dtype: float64"
      ]
     },
     "execution_count": 193,
     "metadata": {},
     "output_type": "execute_result"
    }
   ],
   "source": [
    "df.area_vd_td.describe()"
   ]
  },
  {
   "cell_type": "code",
   "execution_count": 194,
   "metadata": {
    "id": "fboHjzyAY2j7",
    "outputId": "09a9e9e0-6962-4a21-c21e-1a579aab34c7"
   },
   "outputs": [
    {
     "data": {
      "text/plain": [
       "count    14.000000\n",
       "mean     12.800000\n",
       "std       5.082701\n",
       "min       5.000000\n",
       "25%      10.000000\n",
       "50%      11.700000\n",
       "75%      15.750000\n",
       "max      23.000000\n",
       "Name: area_vd_ts, dtype: float64"
      ]
     },
     "execution_count": 194,
     "metadata": {},
     "output_type": "execute_result"
    }
   ],
   "source": [
    "df.area_vd_ts.describe()"
   ]
  },
  {
   "cell_type": "code",
   "execution_count": 195,
   "metadata": {
    "id": "U66fqvQeY2j8",
    "outputId": "2d71ff1a-9030-43a0-e4ce-eac0c78e5024"
   },
   "outputs": [
    {
     "data": {
      "text/plain": [
       "Index(['index1', 'hist_clin', 'nacimiento', 'edad', 'peso', 'talla', 'sc',\n",
       "       'sexo', 'fevibp', 'dvitd', 'fevitch', 'interfer', 'sprimatr', 'area_ad',\n",
       "       'area_vd_td', 'area_vd_ts', 'fac', 'vd_basal_4c', 'ore_it', 'gmax_it',\n",
       "       'tapse', 'anillo_trc', 'vc_it_mm', 'psap', 'i_mitral', 'iao_eao', 'vd',\n",
       "       'ad', 'vd_f_sist', 't_int', 'pr_mitral', 'pr_ao', 'pr_tr'],\n",
       "      dtype='object')"
      ]
     },
     "execution_count": 195,
     "metadata": {},
     "output_type": "execute_result"
    }
   ],
   "source": [
    "df.columns"
   ]
  },
  {
   "cell_type": "code",
   "execution_count": 196,
   "metadata": {
    "id": "x3NSxlSHY2j8",
    "outputId": "82cf2eee-3b5d-4468-97af-e18ca5510f49"
   },
   "outputs": [
    {
     "data": {
      "text/plain": [
       "count    15.000000\n",
       "mean     41.400000\n",
       "std       9.022195\n",
       "min      30.000000\n",
       "25%      36.000000\n",
       "50%      39.000000\n",
       "75%      42.000000\n",
       "max      63.000000\n",
       "Name: fac, dtype: float64"
      ]
     },
     "execution_count": 196,
     "metadata": {},
     "output_type": "execute_result"
    }
   ],
   "source": [
    "df.fac.describe()"
   ]
  },
  {
   "cell_type": "code",
   "execution_count": 197,
   "metadata": {
    "id": "LVPCL3agY2j9",
    "outputId": "1d4c296e-cd80-46d8-f05c-5b8074132984"
   },
   "outputs": [
    {
     "data": {
      "text/plain": [
       "count    16.000000\n",
       "mean      6.887500\n",
       "std       8.309101\n",
       "min       4.100000\n",
       "25%       4.500000\n",
       "50%       4.700000\n",
       "75%       5.325000\n",
       "max      38.000000\n",
       "Name: vd_basal_4c, dtype: float64"
      ]
     },
     "execution_count": 197,
     "metadata": {},
     "output_type": "execute_result"
    }
   ],
   "source": [
    "df.vd_basal_4c.describe()"
   ]
  },
  {
   "cell_type": "code",
   "execution_count": 198,
   "metadata": {
    "id": "XK4m0vUmY2j9",
    "outputId": "df1303dd-12f6-4611-b3e9-c0d28a3e38f4"
   },
   "outputs": [
    {
     "data": {
      "text/plain": [
       "count    10.000000\n",
       "mean      0.847000\n",
       "std       0.419154\n",
       "min       0.230000\n",
       "25%       0.625000\n",
       "50%       0.700000\n",
       "75%       1.095000\n",
       "max       1.600000\n",
       "Name: ore_it, dtype: float64"
      ]
     },
     "execution_count": 198,
     "metadata": {},
     "output_type": "execute_result"
    }
   ],
   "source": [
    "df.ore_it.describe()"
   ]
  },
  {
   "cell_type": "code",
   "execution_count": 199,
   "metadata": {
    "id": "X5YYmHxQY2j9",
    "outputId": "9225d9e7-8869-4d8c-9b66-0ffed587fb88"
   },
   "outputs": [
    {
     "data": {
      "text/plain": [
       "count    30.000000\n",
       "mean     42.233333\n",
       "std      14.462039\n",
       "min      13.000000\n",
       "25%      35.000000\n",
       "50%      41.500000\n",
       "75%      47.000000\n",
       "max      82.000000\n",
       "Name: gmax_it, dtype: float64"
      ]
     },
     "execution_count": 199,
     "metadata": {},
     "output_type": "execute_result"
    }
   ],
   "source": [
    "df.gmax_it.describe()"
   ]
  },
  {
   "cell_type": "code",
   "execution_count": 200,
   "metadata": {
    "id": "-jpw2ac6Y2j-",
    "outputId": "7ba7f3e1-216d-46ed-9178-eef085262603"
   },
   "outputs": [
    {
     "data": {
      "text/plain": [
       "count    32.00000\n",
       "mean     18.62500\n",
       "std       4.95626\n",
       "min       7.00000\n",
       "25%      15.75000\n",
       "50%      18.50000\n",
       "75%      21.25000\n",
       "max      29.00000\n",
       "Name: tapse, dtype: float64"
      ]
     },
     "execution_count": 200,
     "metadata": {},
     "output_type": "execute_result"
    }
   ],
   "source": [
    "df.tapse.describe()"
   ]
  },
  {
   "cell_type": "code",
   "execution_count": 201,
   "metadata": {
    "id": "HWNpS6SyY2j_",
    "outputId": "21fda556-045e-4c19-a162-156a5d99edb5"
   },
   "outputs": [
    {
     "data": {
      "text/plain": [
       "count    14.000000\n",
       "mean     42.857143\n",
       "std       4.571772\n",
       "min      34.000000\n",
       "25%      41.000000\n",
       "50%      43.000000\n",
       "75%      44.750000\n",
       "max      52.000000\n",
       "Name: anillo_trc, dtype: float64"
      ]
     },
     "execution_count": 201,
     "metadata": {},
     "output_type": "execute_result"
    }
   ],
   "source": [
    "df.anillo_trc.describe()"
   ]
  },
  {
   "cell_type": "code",
   "execution_count": 202,
   "metadata": {
    "id": "9F_zSFErY2j_",
    "outputId": "b90c02b9-94e0-4c76-9465-1f2b6153607a"
   },
   "outputs": [
    {
     "data": {
      "text/plain": [
       "count    12.000000\n",
       "mean     10.558333\n",
       "std       4.237379\n",
       "min       6.500000\n",
       "25%       7.300000\n",
       "50%       9.000000\n",
       "75%      13.000000\n",
       "max      19.000000\n",
       "Name: vc_it_mm, dtype: float64"
      ]
     },
     "execution_count": 202,
     "metadata": {},
     "output_type": "execute_result"
    }
   ],
   "source": [
    "df.vc_it_mm.describe()"
   ]
  },
  {
   "cell_type": "code",
   "execution_count": 203,
   "metadata": {
    "id": "U-qb7mHUY2j_",
    "outputId": "ff4855eb-9e41-4c81-d79b-bf217eacdaf1"
   },
   "outputs": [
    {
     "data": {
      "text/plain": [
       "count    33.000000\n",
       "mean     54.090909\n",
       "std      11.347807\n",
       "min      37.000000\n",
       "25%      45.000000\n",
       "50%      53.000000\n",
       "75%      60.000000\n",
       "max      86.000000\n",
       "Name: psap, dtype: float64"
      ]
     },
     "execution_count": 203,
     "metadata": {},
     "output_type": "execute_result"
    }
   ],
   "source": [
    "df.psap.describe()"
   ]
  },
  {
   "cell_type": "code",
   "execution_count": 204,
   "metadata": {
    "id": "_bXRmileY2kA",
    "outputId": "7d220e31-f6da-4a68-986a-7257faf3d49e"
   },
   "outputs": [
    {
     "data": {
      "text/plain": [
       "index1          0\n",
       "hist_clin       0\n",
       "nacimiento      6\n",
       "edad            6\n",
       "peso            3\n",
       "talla           2\n",
       "sc              7\n",
       "sexo            0\n",
       "fevibp         10\n",
       "dvitd           4\n",
       "fevitch        27\n",
       "interfer        0\n",
       "sprimatr        9\n",
       "area_ad        10\n",
       "area_vd_td     20\n",
       "area_vd_ts     21\n",
       "fac            20\n",
       "vd_basal_4c    19\n",
       "ore_it         25\n",
       "gmax_it         5\n",
       "tapse           3\n",
       "anillo_trc     21\n",
       "vc_it_mm       23\n",
       "psap            2\n",
       "i_mitral       22\n",
       "iao_eao        33\n",
       "vd              1\n",
       "ad              4\n",
       "vd_f_sist       3\n",
       "t_int          15\n",
       "pr_mitral      31\n",
       "pr_ao          27\n",
       "pr_tr          33\n",
       "dtype: int64"
      ]
     },
     "execution_count": 204,
     "metadata": {},
     "output_type": "execute_result"
    }
   ],
   "source": [
    "# find whether columns contain null values\n",
    "df.isnull().sum()"
   ]
  },
  {
   "cell_type": "code",
   "execution_count": 205,
   "metadata": {
    "id": "JUb_chMtY2kA",
    "outputId": "7358cfb1-d35d-4588-9add-f591e2e383f4"
   },
   "outputs": [
    {
     "data": {
      "text/plain": [
       "Index(['index1', 'hist_clin', 'nacimiento', 'edad', 'peso', 'talla', 'sc',\n",
       "       'sexo', 'fevibp', 'dvitd', 'fevitch', 'interfer', 'sprimatr', 'area_ad',\n",
       "       'area_vd_td', 'area_vd_ts', 'fac', 'vd_basal_4c', 'ore_it', 'gmax_it',\n",
       "       'tapse', 'anillo_trc', 'vc_it_mm', 'psap', 'i_mitral', 'iao_eao', 'vd',\n",
       "       'ad', 'vd_f_sist', 't_int', 'pr_mitral', 'pr_ao', 'pr_tr'],\n",
       "      dtype='object')"
      ]
     },
     "execution_count": 205,
     "metadata": {},
     "output_type": "execute_result"
    }
   ],
   "source": [
    "df.columns"
   ]
  },
  {
   "cell_type": "code",
   "execution_count": 206,
   "metadata": {
    "id": "7H2RR-dqY2kB",
    "outputId": "8fdada80-c27d-4a23-8f47-d30168a78a99"
   },
   "outputs": [
    {
     "data": {
      "text/html": [
       "<div>\n",
       "<style scoped>\n",
       "    .dataframe tbody tr th:only-of-type {\n",
       "        vertical-align: middle;\n",
       "    }\n",
       "\n",
       "    .dataframe tbody tr th {\n",
       "        vertical-align: top;\n",
       "    }\n",
       "\n",
       "    .dataframe thead th {\n",
       "        text-align: right;\n",
       "    }\n",
       "</style>\n",
       "<table border=\"1\" class=\"dataframe\">\n",
       "  <thead>\n",
       "    <tr style=\"text-align: right;\">\n",
       "      <th></th>\n",
       "      <th>i_mitral</th>\n",
       "      <th>iao_eao</th>\n",
       "    </tr>\n",
       "  </thead>\n",
       "  <tbody>\n",
       "    <tr>\n",
       "      <th>0</th>\n",
       "      <td>1.0</td>\n",
       "      <td>NaN</td>\n",
       "    </tr>\n",
       "    <tr>\n",
       "      <th>1</th>\n",
       "      <td>NaN</td>\n",
       "      <td>NaN</td>\n",
       "    </tr>\n",
       "    <tr>\n",
       "      <th>2</th>\n",
       "      <td>NaN</td>\n",
       "      <td>NaN</td>\n",
       "    </tr>\n",
       "    <tr>\n",
       "      <th>3</th>\n",
       "      <td>1.0</td>\n",
       "      <td>NaN</td>\n",
       "    </tr>\n",
       "    <tr>\n",
       "      <th>4</th>\n",
       "      <td>1.0</td>\n",
       "      <td>NaN</td>\n",
       "    </tr>\n",
       "    <tr>\n",
       "      <th>5</th>\n",
       "      <td>NaN</td>\n",
       "      <td>NaN</td>\n",
       "    </tr>\n",
       "    <tr>\n",
       "      <th>6</th>\n",
       "      <td>NaN</td>\n",
       "      <td>NaN</td>\n",
       "    </tr>\n",
       "    <tr>\n",
       "      <th>7</th>\n",
       "      <td>NaN</td>\n",
       "      <td>NaN</td>\n",
       "    </tr>\n",
       "    <tr>\n",
       "      <th>8</th>\n",
       "      <td>NaN</td>\n",
       "      <td>NaN</td>\n",
       "    </tr>\n",
       "    <tr>\n",
       "      <th>9</th>\n",
       "      <td>1.0</td>\n",
       "      <td>NaN</td>\n",
       "    </tr>\n",
       "    <tr>\n",
       "      <th>10</th>\n",
       "      <td>NaN</td>\n",
       "      <td>1.0</td>\n",
       "    </tr>\n",
       "    <tr>\n",
       "      <th>11</th>\n",
       "      <td>1.0</td>\n",
       "      <td>NaN</td>\n",
       "    </tr>\n",
       "    <tr>\n",
       "      <th>12</th>\n",
       "      <td>2.0</td>\n",
       "      <td>NaN</td>\n",
       "    </tr>\n",
       "    <tr>\n",
       "      <th>13</th>\n",
       "      <td>1.0</td>\n",
       "      <td>1.0</td>\n",
       "    </tr>\n",
       "    <tr>\n",
       "      <th>14</th>\n",
       "      <td>1.0</td>\n",
       "      <td>NaN</td>\n",
       "    </tr>\n",
       "    <tr>\n",
       "      <th>15</th>\n",
       "      <td>NaN</td>\n",
       "      <td>NaN</td>\n",
       "    </tr>\n",
       "    <tr>\n",
       "      <th>16</th>\n",
       "      <td>NaN</td>\n",
       "      <td>NaN</td>\n",
       "    </tr>\n",
       "    <tr>\n",
       "      <th>17</th>\n",
       "      <td>1.0</td>\n",
       "      <td>NaN</td>\n",
       "    </tr>\n",
       "    <tr>\n",
       "      <th>18</th>\n",
       "      <td>NaN</td>\n",
       "      <td>NaN</td>\n",
       "    </tr>\n",
       "    <tr>\n",
       "      <th>19</th>\n",
       "      <td>1.0</td>\n",
       "      <td>NaN</td>\n",
       "    </tr>\n",
       "    <tr>\n",
       "      <th>20</th>\n",
       "      <td>NaN</td>\n",
       "      <td>NaN</td>\n",
       "    </tr>\n",
       "    <tr>\n",
       "      <th>21</th>\n",
       "      <td>NaN</td>\n",
       "      <td>NaN</td>\n",
       "    </tr>\n",
       "    <tr>\n",
       "      <th>22</th>\n",
       "      <td>NaN</td>\n",
       "      <td>NaN</td>\n",
       "    </tr>\n",
       "    <tr>\n",
       "      <th>23</th>\n",
       "      <td>NaN</td>\n",
       "      <td>NaN</td>\n",
       "    </tr>\n",
       "    <tr>\n",
       "      <th>24</th>\n",
       "      <td>NaN</td>\n",
       "      <td>NaN</td>\n",
       "    </tr>\n",
       "    <tr>\n",
       "      <th>25</th>\n",
       "      <td>NaN</td>\n",
       "      <td>NaN</td>\n",
       "    </tr>\n",
       "    <tr>\n",
       "      <th>26</th>\n",
       "      <td>NaN</td>\n",
       "      <td>NaN</td>\n",
       "    </tr>\n",
       "    <tr>\n",
       "      <th>27</th>\n",
       "      <td>NaN</td>\n",
       "      <td>NaN</td>\n",
       "    </tr>\n",
       "    <tr>\n",
       "      <th>28</th>\n",
       "      <td>1.0</td>\n",
       "      <td>NaN</td>\n",
       "    </tr>\n",
       "    <tr>\n",
       "      <th>29</th>\n",
       "      <td>NaN</td>\n",
       "      <td>NaN</td>\n",
       "    </tr>\n",
       "    <tr>\n",
       "      <th>30</th>\n",
       "      <td>NaN</td>\n",
       "      <td>NaN</td>\n",
       "    </tr>\n",
       "    <tr>\n",
       "      <th>31</th>\n",
       "      <td>NaN</td>\n",
       "      <td>NaN</td>\n",
       "    </tr>\n",
       "    <tr>\n",
       "      <th>32</th>\n",
       "      <td>NaN</td>\n",
       "      <td>NaN</td>\n",
       "    </tr>\n",
       "    <tr>\n",
       "      <th>33</th>\n",
       "      <td>2.0</td>\n",
       "      <td>NaN</td>\n",
       "    </tr>\n",
       "    <tr>\n",
       "      <th>34</th>\n",
       "      <td>1.0</td>\n",
       "      <td>NaN</td>\n",
       "    </tr>\n",
       "  </tbody>\n",
       "</table>\n",
       "</div>"
      ],
      "text/plain": [
       "    i_mitral  iao_eao\n",
       "0        1.0      NaN\n",
       "1        NaN      NaN\n",
       "2        NaN      NaN\n",
       "3        1.0      NaN\n",
       "4        1.0      NaN\n",
       "5        NaN      NaN\n",
       "6        NaN      NaN\n",
       "7        NaN      NaN\n",
       "8        NaN      NaN\n",
       "9        1.0      NaN\n",
       "10       NaN      1.0\n",
       "11       1.0      NaN\n",
       "12       2.0      NaN\n",
       "13       1.0      1.0\n",
       "14       1.0      NaN\n",
       "15       NaN      NaN\n",
       "16       NaN      NaN\n",
       "17       1.0      NaN\n",
       "18       NaN      NaN\n",
       "19       1.0      NaN\n",
       "20       NaN      NaN\n",
       "21       NaN      NaN\n",
       "22       NaN      NaN\n",
       "23       NaN      NaN\n",
       "24       NaN      NaN\n",
       "25       NaN      NaN\n",
       "26       NaN      NaN\n",
       "27       NaN      NaN\n",
       "28       1.0      NaN\n",
       "29       NaN      NaN\n",
       "30       NaN      NaN\n",
       "31       NaN      NaN\n",
       "32       NaN      NaN\n",
       "33       2.0      NaN\n",
       "34       1.0      NaN"
      ]
     },
     "execution_count": 206,
     "metadata": {},
     "output_type": "execute_result"
    }
   ],
   "source": [
    "df[['i_mitral','iao_eao']]"
   ]
  },
  {
   "cell_type": "code",
   "execution_count": 207,
   "metadata": {
    "id": "JMkFJmN3Y2kB",
    "outputId": "b5d62eb4-5e8e-40e0-db77-b964eada8a78"
   },
   "outputs": [
    {
     "data": {
      "text/plain": [
       "1"
      ]
     },
     "execution_count": 207,
     "metadata": {},
     "output_type": "execute_result"
    }
   ],
   "source": [
    "df.vd.isnull().sum()"
   ]
  },
  {
   "cell_type": "code",
   "execution_count": 208,
   "metadata": {
    "id": "JEp64RYtY2kC",
    "outputId": "be6b9534-8418-4e6d-e6ed-afadebb41835"
   },
   "outputs": [
    {
     "data": {
      "text/plain": [
       "vd\n",
       "2.0    13\n",
       "4.0     8\n",
       "1.0     8\n",
       "3.0     5\n",
       "Name: count, dtype: int64"
      ]
     },
     "execution_count": 208,
     "metadata": {},
     "output_type": "execute_result"
    }
   ],
   "source": [
    "df.vd.value_counts()"
   ]
  },
  {
   "cell_type": "code",
   "execution_count": 209,
   "metadata": {
    "id": "Yj4jeUazY2kC",
    "outputId": "8527dba1-87f5-4c98-dd4a-bec8068ba78d"
   },
   "outputs": [
    {
     "data": {
      "text/plain": [
       "4"
      ]
     },
     "execution_count": 209,
     "metadata": {},
     "output_type": "execute_result"
    }
   ],
   "source": [
    "df.ad.isnull().sum()"
   ]
  },
  {
   "cell_type": "code",
   "execution_count": 210,
   "metadata": {
    "id": "HBGodBahY2kD",
    "outputId": "a14a2cbd-0e8f-483d-9dae-6cc5b6b632a2"
   },
   "outputs": [
    {
     "data": {
      "text/plain": [
       "ad\n",
       "4.0    18\n",
       "3.0     8\n",
       "2.0     4\n",
       "1.0     1\n",
       "Name: count, dtype: int64"
      ]
     },
     "execution_count": 210,
     "metadata": {},
     "output_type": "execute_result"
    }
   ],
   "source": [
    "df.ad.value_counts()"
   ]
  },
  {
   "cell_type": "code",
   "execution_count": 211,
   "metadata": {
    "id": "CGX5lmb5Y2kD",
    "outputId": "100d387e-addb-4a3e-f47c-19b73a87559e"
   },
   "outputs": [
    {
     "data": {
      "text/plain": [
       "3"
      ]
     },
     "execution_count": 211,
     "metadata": {},
     "output_type": "execute_result"
    }
   ],
   "source": [
    "df.vd_f_sist.isnull().sum()"
   ]
  },
  {
   "cell_type": "code",
   "execution_count": 212,
   "metadata": {
    "id": "7YQ-FoAgY2kE",
    "outputId": "d098a9a6-2e76-4361-a1f9-4ea35a218609"
   },
   "outputs": [
    {
     "data": {
      "text/plain": [
       "vd_f_sist\n",
       "1.0    20\n",
       "2.0    10\n",
       "3.0     2\n",
       "Name: count, dtype: int64"
      ]
     },
     "execution_count": 212,
     "metadata": {},
     "output_type": "execute_result"
    }
   ],
   "source": [
    "df.vd_f_sist.value_counts()"
   ]
  },
  {
   "cell_type": "code",
   "execution_count": 213,
   "metadata": {
    "id": "p3yGpKDXY2kE",
    "outputId": "03f2530c-b3e6-40ab-f5c4-7bad5e94d9b2"
   },
   "outputs": [
    {
     "data": {
      "text/plain": [
       "count    20.00000\n",
       "mean      6.05000\n",
       "std       4.82837\n",
       "min       1.00000\n",
       "25%       3.00000\n",
       "50%       5.00000\n",
       "75%       7.25000\n",
       "max      20.00000\n",
       "Name: t_int, dtype: float64"
      ]
     },
     "execution_count": 213,
     "metadata": {},
     "output_type": "execute_result"
    }
   ],
   "source": [
    "df.t_int.describe()"
   ]
  },
  {
   "cell_type": "code",
   "execution_count": 214,
   "metadata": {
    "id": "RsRii2DPY2kE",
    "outputId": "4d3d515e-06aa-4a19-bc1d-e8cdac5698b6"
   },
   "outputs": [
    {
     "data": {
      "text/plain": [
       "31"
      ]
     },
     "execution_count": 214,
     "metadata": {},
     "output_type": "execute_result"
    }
   ],
   "source": [
    "df.pr_mitral.isnull().sum()"
   ]
  },
  {
   "cell_type": "code",
   "execution_count": 215,
   "metadata": {
    "id": "m8DJRru0Y2kF",
    "outputId": "c4c6677e-0532-4f5a-b8f3-83192a8f0b64"
   },
   "outputs": [
    {
     "data": {
      "text/plain": [
       "pr_mitral\n",
       "1.0    4\n",
       "Name: count, dtype: int64"
      ]
     },
     "execution_count": 215,
     "metadata": {},
     "output_type": "execute_result"
    }
   ],
   "source": [
    "df.pr_mitral.value_counts()"
   ]
  },
  {
   "cell_type": "code",
   "execution_count": 216,
   "metadata": {
    "id": "CQndfiilY2kF",
    "outputId": "b9eae8ca-727c-4ef1-81bf-6b513e75d500"
   },
   "outputs": [
    {
     "data": {
      "text/plain": [
       "27"
      ]
     },
     "execution_count": 216,
     "metadata": {},
     "output_type": "execute_result"
    }
   ],
   "source": [
    "df.pr_ao.isnull().sum()"
   ]
  },
  {
   "cell_type": "code",
   "execution_count": 217,
   "metadata": {
    "id": "Iy8UZPxmY2kF",
    "outputId": "6be4410d-7813-4b61-c35c-7f600ea51868"
   },
   "outputs": [
    {
     "data": {
      "text/plain": [
       "pr_ao\n",
       "1.0    7\n",
       "2.0    1\n",
       "Name: count, dtype: int64"
      ]
     },
     "execution_count": 217,
     "metadata": {},
     "output_type": "execute_result"
    }
   ],
   "source": [
    "df.pr_ao.value_counts()"
   ]
  },
  {
   "cell_type": "code",
   "execution_count": 218,
   "metadata": {
    "colab": {
     "base_uri": "https://localhost:8080/"
    },
    "executionInfo": {
     "elapsed": 214,
     "status": "ok",
     "timestamp": 1682711688613,
     "user": {
      "displayName": "Leopoldo Olmos",
      "userId": "14960194383474345965"
     },
     "user_tz": 240
    },
    "id": "wP4cxBzzbXIU",
    "outputId": "0f0c31f1-ad18-4da9-82eb-0987fa1da430"
   },
   "outputs": [
    {
     "data": {
      "text/plain": [
       "Index(['index1', 'hist_clin', 'nacimiento', 'edad', 'peso', 'talla', 'sc',\n",
       "       'sexo', 'fevibp', 'dvitd', 'fevitch', 'interfer', 'sprimatr', 'area_ad',\n",
       "       'area_vd_td', 'area_vd_ts', 'fac', 'vd_basal_4c', 'ore_it', 'gmax_it',\n",
       "       'tapse', 'anillo_trc', 'vc_it_mm', 'psap', 'i_mitral', 'iao_eao', 'vd',\n",
       "       'ad', 'vd_f_sist', 't_int', 'pr_mitral', 'pr_ao', 'pr_tr'],\n",
       "      dtype='object')"
      ]
     },
     "execution_count": 218,
     "metadata": {},
     "output_type": "execute_result"
    }
   ],
   "source": [
    "df.columns"
   ]
  },
  {
   "cell_type": "code",
   "execution_count": 219,
   "metadata": {
    "colab": {
     "base_uri": "https://localhost:8080/",
     "height": 449
    },
    "executionInfo": {
     "elapsed": 1629,
     "status": "ok",
     "timestamp": 1682711877348,
     "user": {
      "displayName": "Leopoldo Olmos",
      "userId": "14960194383474345965"
     },
     "user_tz": 240
    },
    "id": "emSB6Xh7b67x",
    "outputId": "008f6957-004b-45bb-c8e2-bc39224b29e9"
   },
   "outputs": [
    {
     "data": {
      "image/png": "[encoded data removed]",
      "text/plain": [
       "<Figure size 640x480 with 1 Axes>"
      ]
     },
     "metadata": {},
     "output_type": "display_data"
    }
   ],
   "source": [
    "import matplotlib.pyplot as plt\n",
    "import seaborn as sns\n",
    "\n",
    "# Histogram for edad\n",
    "sns.histplot(x='edad', data=df)\n",
    "plt.show()\n",
    "plt.close()"
   ]
  },
  {
   "cell_type": "code",
   "execution_count": 220,
   "metadata": {
    "colab": {
     "base_uri": "https://localhost:8080/",
     "height": 449
    },
    "executionInfo": {
     "elapsed": 456,
     "status": "ok",
     "timestamp": 1682712035205,
     "user": {
      "displayName": "Leopoldo Olmos",
      "userId": "14960194383474345965"
     },
     "user_tz": 240
    },
    "id": "MWeVuEQhcuae",
    "outputId": "2c975997-a2da-4e24-a9b4-a10416cc2eb0"
   },
   "outputs": [
    {
     "data": {
      "image/png": "[encoded data removed]",
      "text/plain": [
       "<Figure size 640x480 with 1 Axes>"
      ]
     },
     "metadata": {},
     "output_type": "display_data"
    }
   ],
   "source": [
    "# Histogram for peso\n",
    "sns.histplot(x='peso', data=df)\n",
    "plt.show()\n",
    "plt.close()"
   ]
  },
  {
   "cell_type": "code",
   "execution_count": 221,
   "metadata": {
    "colab": {
     "base_uri": "https://localhost:8080/",
     "height": 449
    },
    "executionInfo": {
     "elapsed": 681,
     "status": "ok",
     "timestamp": 1682712112391,
     "user": {
      "displayName": "Leopoldo Olmos",
      "userId": "14960194383474345965"
     },
     "user_tz": 240
    },
    "id": "NfhNe0j9dLbO",
    "outputId": "ae594529-9504-4152-f705-3428465ddfc1"
   },
   "outputs": [
    {
     "data": {
      "image/png": "[encoded data removed]",
      "text/plain": [
       "<Figure size 640x480 with 1 Axes>"
      ]
     },
     "metadata": {},
     "output_type": "display_data"
    }
   ],
   "source": [
    "# Histogram for edad\n",
    "sns.histplot(x='talla', data=df)\n",
    "plt.show()\n",
    "plt.close()"
   ]
  },
  {
   "cell_type": "code",
   "execution_count": 222,
   "metadata": {
    "colab": {
     "base_uri": "https://localhost:8080/",
     "height": 449
    },
    "executionInfo": {
     "elapsed": 619,
     "status": "ok",
     "timestamp": 1682712172798,
     "user": {
      "displayName": "Leopoldo Olmos",
      "userId": "14960194383474345965"
     },
     "user_tz": 240
    },
    "id": "81j0E3ETdZn4",
    "outputId": "7c1da472-d09d-497c-fce2-df927b8d9c5e"
   },
   "outputs": [
    {
     "data": {
      "image/png": "[encoded data removed]",
      "text/plain": [
       "<Figure size 640x480 with 1 Axes>"
      ]
     },
     "metadata": {},
     "output_type": "display_data"
    }
   ],
   "source": [
    "# Histogram for edad\n",
    "sns.histplot(x='sc', data=df)\n",
    "plt.show()\n",
    "plt.close()"
   ]
  },
  {
   "cell_type": "code",
   "execution_count": 223,
   "metadata": {
    "colab": {
     "base_uri": "https://localhost:8080/"
    },
    "executionInfo": {
     "elapsed": 277,
     "status": "ok",
     "timestamp": 1682712310383,
     "user": {
      "displayName": "Leopoldo Olmos",
      "userId": "14960194383474345965"
     },
     "user_tz": 240
    },
    "id": "VE1trTqUdryq",
    "outputId": "a8f8fa7b-31a9-43d5-9c1f-888bce76d5a0"
   },
   "outputs": [
    {
     "data": {
      "text/plain": [
       "sexo\n",
       "1    22\n",
       "2    13\n",
       "Name: count, dtype: int64"
      ]
     },
     "execution_count": 223,
     "metadata": {},
     "output_type": "execute_result"
    }
   ],
   "source": [
    "df.sexo\n",
    "df.sexo.isnull().sum()\n",
    "df.sexo.value_counts()"
   ]
  },
  {
   "cell_type": "code",
   "execution_count": 224,
   "metadata": {
    "colab": {
     "base_uri": "https://localhost:8080/",
     "height": 449
    },
    "executionInfo": {
     "elapsed": 271,
     "status": "ok",
     "timestamp": 1682712516437,
     "user": {
      "displayName": "Leopoldo Olmos",
      "userId": "14960194383474345965"
     },
     "user_tz": 240
    },
    "id": "1qcPkwJ6duJ-",
    "outputId": "f03d3285-0b83-496b-fb1e-e2ee9c5d2ab9"
   },
   "outputs": [
    {
     "data": {
      "image/png": "[encoded data removed]",
      "text/plain": [
       "<Figure size 640x480 with 1 Axes>"
      ]
     },
     "metadata": {},
     "output_type": "display_data"
    }
   ],
   "source": [
    "# Bar chart for borough\n",
    "sns.countplot(x='sexo', data=df)\n",
    "plt.show()\n",
    "plt.close()"
   ]
  },
  {
   "cell_type": "code",
   "execution_count": 225,
   "metadata": {
    "colab": {
     "base_uri": "https://localhost:8080/",
     "height": 449
    },
    "executionInfo": {
     "elapsed": 445,
     "status": "ok",
     "timestamp": 1682712628671,
     "user": {
      "displayName": "Leopoldo Olmos",
      "userId": "14960194383474345965"
     },
     "user_tz": 240
    },
    "id": "b_HXC8wJfEd5",
    "outputId": "26b75a8e-cfe2-44b3-e42a-1fbdc04f2c26"
   },
   "outputs": [
    {
     "data": {
      "image/png": "[encoded data removed]",
      "text/plain": [
       "<Figure size 640x480 with 1 Axes>"
      ]
     },
     "metadata": {},
     "output_type": "display_data"
    }
   ],
   "source": [
    "# Histogram for edad\n",
    "sns.histplot(x='fevibp', data=df)\n",
    "plt.show()\n",
    "plt.close()"
   ]
  },
  {
   "cell_type": "code",
   "execution_count": 226,
   "metadata": {
    "colab": {
     "base_uri": "https://localhost:8080/",
     "height": 449
    },
    "executionInfo": {
     "elapsed": 517,
     "status": "ok",
     "timestamp": 1682712760074,
     "user": {
      "displayName": "Leopoldo Olmos",
      "userId": "14960194383474345965"
     },
     "user_tz": 240
    },
    "id": "J8dXXCwkfZLh",
    "outputId": "5aee1e94-2d82-4a2b-c5fa-9018c94d8cb8"
   },
   "outputs": [
    {
     "data": {
      "image/png": "[encoded data removed]",
      "text/plain": [
       "<Figure size 640x480 with 1 Axes>"
      ]
     },
     "metadata": {},
     "output_type": "display_data"
    }
   ],
   "source": [
    "# Histogram for edad\n",
    "sns.histplot(x='dvitd', data=df)\n",
    "plt.show()\n",
    "plt.close()"
   ]
  },
  {
   "cell_type": "code",
   "execution_count": 227,
   "metadata": {
    "colab": {
     "base_uri": "https://localhost:8080/",
     "height": 449
    },
    "executionInfo": {
     "elapsed": 669,
     "status": "ok",
     "timestamp": 1682712849588,
     "user": {
      "displayName": "Leopoldo Olmos",
      "userId": "14960194383474345965"
     },
     "user_tz": 240
    },
    "id": "f-1So8Emf9LR",
    "outputId": "be1c2cee-2794-40dd-c39d-c1c0c05f430b"
   },
   "outputs": [
    {
     "data": {
      "image/png": "[encoded data removed]",
      "text/plain": [
       "<Figure size 640x480 with 1 Axes>"
      ]
     },
     "metadata": {},
     "output_type": "display_data"
    }
   ],
   "source": [
    "# Histogram for edad\n",
    "sns.histplot(x='fevitch', data=df)\n",
    "plt.show()\n",
    "plt.close()"
   ]
  },
  {
   "cell_type": "code",
   "execution_count": 228,
   "metadata": {
    "colab": {
     "base_uri": "https://localhost:8080/",
     "height": 449
    },
    "executionInfo": {
     "elapsed": 307,
     "status": "ok",
     "timestamp": 1682712982723,
     "user": {
      "displayName": "Leopoldo Olmos",
      "userId": "14960194383474345965"
     },
     "user_tz": 240
    },
    "id": "sDjtyy5igQUE",
    "outputId": "0a1b0f91-64ba-4bd8-8043-06028157bdfc"
   },
   "outputs": [
    {
     "data": {
      "image/png": "[encoded data removed]",
      "text/plain": [
       "<Figure size 640x480 with 1 Axes>"
      ]
     },
     "metadata": {},
     "output_type": "display_data"
    }
   ],
   "source": [
    "# Histogram for edad\n",
    "sns.histplot(x='sprimatr', data=df)\n",
    "plt.show()\n",
    "plt.close()"
   ]
  },
  {
   "cell_type": "code",
   "execution_count": 229,
   "metadata": {
    "colab": {
     "base_uri": "https://localhost:8080/",
     "height": 450
    },
    "executionInfo": {
     "elapsed": 715,
     "status": "ok",
     "timestamp": 1682713032536,
     "user": {
      "displayName": "Leopoldo Olmos",
      "userId": "14960194383474345965"
     },
     "user_tz": 240
    },
    "id": "GpIBN_V6gvTn",
    "outputId": "89156488-471e-4221-8461-214a2d8dadbf"
   },
   "outputs": [
    {
     "data": {
      "image/png": "[encoded data removed]",
      "text/plain": [
       "<Figure size 640x480 with 1 Axes>"
      ]
     },
     "metadata": {},
     "output_type": "display_data"
    }
   ],
   "source": [
    "# Histogram for edad\n",
    "sns.histplot(x='area_ad', data=df)\n",
    "plt.show()\n",
    "plt.close()"
   ]
  },
  {
   "cell_type": "code",
   "execution_count": 230,
   "metadata": {
    "colab": {
     "base_uri": "https://localhost:8080/",
     "height": 450
    },
    "executionInfo": {
     "elapsed": 574,
     "status": "ok",
     "timestamp": 1682713196077,
     "user": {
      "displayName": "Leopoldo Olmos",
      "userId": "14960194383474345965"
     },
     "user_tz": 240
    },
    "id": "0ljkPilUg_pf",
    "outputId": "933c504d-6ee5-48ea-be4b-d31436c206c8"
   },
   "outputs": [
    {
     "data": {
      "image/png": "[encoded data removed]",
      "text/plain": [
       "<Figure size 640x480 with 1 Axes>"
      ]
     },
     "metadata": {},
     "output_type": "display_data"
    }
   ],
   "source": [
    "# Histogram for edad\n",
    "sns.histplot(x='area_vd_td', data=df)\n",
    "plt.show()\n",
    "plt.close()"
   ]
  },
  {
   "cell_type": "code",
   "execution_count": 231,
   "metadata": {
    "colab": {
     "base_uri": "https://localhost:8080/"
    },
    "executionInfo": {
     "elapsed": 581,
     "status": "ok",
     "timestamp": 1682713164267,
     "user": {
      "displayName": "Leopoldo Olmos",
      "userId": "14960194383474345965"
     },
     "user_tz": 240
    },
    "id": "Xm-M7Io3hP9y",
    "outputId": "43e49334-d4a4-43a8-9858-7ef95b094051"
   },
   "outputs": [
    {
     "data": {
      "text/plain": [
       "0      NaN\n",
       "1      NaN\n",
       "2      NaN\n",
       "3      NaN\n",
       "4      NaN\n",
       "5      NaN\n",
       "6      NaN\n",
       "7     35.0\n",
       "8      NaN\n",
       "9      NaN\n",
       "10     NaN\n",
       "11     NaN\n",
       "12    28.0\n",
       "13     NaN\n",
       "14    31.0\n",
       "15     NaN\n",
       "16    24.4\n",
       "17     NaN\n",
       "18    14.0\n",
       "19     NaN\n",
       "20    23.0\n",
       "21    24.0\n",
       "22    13.0\n",
       "23    18.0\n",
       "24    19.0\n",
       "25     NaN\n",
       "26    33.0\n",
       "27     9.2\n",
       "28    15.0\n",
       "29     NaN\n",
       "30    25.0\n",
       "31     NaN\n",
       "32     NaN\n",
       "33    29.0\n",
       "34     NaN\n",
       "Name: area_vd_td, dtype: float64"
      ]
     },
     "execution_count": 231,
     "metadata": {},
     "output_type": "execute_result"
    }
   ],
   "source": [
    "df.area_vd_td"
   ]
  },
  {
   "cell_type": "code",
   "execution_count": 232,
   "metadata": {
    "colab": {
     "base_uri": "https://localhost:8080/",
     "height": 450
    },
    "executionInfo": {
     "elapsed": 532,
     "status": "ok",
     "timestamp": 1682713431423,
     "user": {
      "displayName": "Leopoldo Olmos",
      "userId": "14960194383474345965"
     },
     "user_tz": 240
    },
    "id": "lI0yXSSNhTXR",
    "outputId": "feedfb93-ad8d-4e5b-d0da-7769df617285"
   },
   "outputs": [
    {
     "data": {
      "image/png": "[encoded data removed]",
      "text/plain": [
       "<Figure size 640x480 with 1 Axes>"
      ]
     },
     "metadata": {},
     "output_type": "display_data"
    }
   ],
   "source": [
    "# Boxplot for area_vd_td\n",
    "sns.boxplot(x='area_vd_td', data=df)\n",
    "plt.show()\n",
    "plt.close()"
   ]
  },
  {
   "cell_type": "code",
   "execution_count": 233,
   "metadata": {
    "colab": {
     "base_uri": "https://localhost:8080/"
    },
    "executionInfo": {
     "elapsed": 255,
     "status": "ok",
     "timestamp": 1682713529175,
     "user": {
      "displayName": "Leopoldo Olmos",
      "userId": "14960194383474345965"
     },
     "user_tz": 240
    },
    "id": "Dv7IhfAQiUmv",
    "outputId": "f9331ddc-7cef-402c-cb45-0f5013d334a2"
   },
   "outputs": [
    {
     "data": {
      "text/plain": [
       "Index(['index1', 'hist_clin', 'nacimiento', 'edad', 'peso', 'talla', 'sc',\n",
       "       'sexo', 'fevibp', 'dvitd', 'fevitch', 'interfer', 'sprimatr', 'area_ad',\n",
       "       'area_vd_td', 'area_vd_ts', 'fac', 'vd_basal_4c', 'ore_it', 'gmax_it',\n",
       "       'tapse', 'anillo_trc', 'vc_it_mm', 'psap', 'i_mitral', 'iao_eao', 'vd',\n",
       "       'ad', 'vd_f_sist', 't_int', 'pr_mitral', 'pr_ao', 'pr_tr'],\n",
       "      dtype='object')"
      ]
     },
     "execution_count": 233,
     "metadata": {},
     "output_type": "execute_result"
    }
   ],
   "source": [
    "df.columns"
   ]
  },
  {
   "cell_type": "code",
   "execution_count": 234,
   "metadata": {
    "colab": {
     "base_uri": "https://localhost:8080/",
     "height": 450
    },
    "executionInfo": {
     "elapsed": 758,
     "status": "ok",
     "timestamp": 1682713581392,
     "user": {
      "displayName": "Leopoldo Olmos",
      "userId": "14960194383474345965"
     },
     "user_tz": 240
    },
    "id": "uh_AtAyTisef",
    "outputId": "594f7ab1-62db-4424-ccbe-814b3b083c91"
   },
   "outputs": [
    {
     "data": {
      "image/png": "[encoded data removed]",
      "text/plain": [
       "<Figure size 640x480 with 1 Axes>"
      ]
     },
     "metadata": {},
     "output_type": "display_data"
    }
   ],
   "source": [
    "# Histogram for area_vd_ts\n",
    "sns.histplot(x='area_vd_ts', data=df)\n",
    "plt.show()\n",
    "plt.close()"
   ]
  },
  {
   "cell_type": "code",
   "execution_count": 235,
   "metadata": {
    "colab": {
     "base_uri": "https://localhost:8080/",
     "height": 450
    },
    "executionInfo": {
     "elapsed": 549,
     "status": "ok",
     "timestamp": 1682713621156,
     "user": {
      "displayName": "Leopoldo Olmos",
      "userId": "14960194383474345965"
     },
     "user_tz": 240
    },
    "id": "jZf9CEIki5Kt",
    "outputId": "d8b7f956-d46d-4367-e1e3-5483bd8cc089"
   },
   "outputs": [
    {
     "data": {
      "image/png": "[encoded data removed]",
      "text/plain": [
       "<Figure size 640x480 with 1 Axes>"
      ]
     },
     "metadata": {},
     "output_type": "display_data"
    }
   ],
   "source": [
    "# Boxplot for area_vd_ts\n",
    "sns.boxplot(x='area_vd_ts', data=df)\n",
    "plt.show()\n",
    "plt.close()"
   ]
  },
  {
   "cell_type": "code",
   "execution_count": 236,
   "metadata": {
    "colab": {
     "base_uri": "https://localhost:8080/",
     "height": 449
    },
    "executionInfo": {
     "elapsed": 544,
     "status": "ok",
     "timestamp": 1682713862060,
     "user": {
      "displayName": "Leopoldo Olmos",
      "userId": "14960194383474345965"
     },
     "user_tz": 240
    },
    "id": "moLNMR0ujyh6",
    "outputId": "65f120d4-ddee-4856-ef98-50dcec6e08bb"
   },
   "outputs": [
    {
     "data": {
      "image/png": "[encoded data removed]",
      "text/plain": [
       "<Figure size 640x480 with 1 Axes>"
      ]
     },
     "metadata": {},
     "output_type": "display_data"
    }
   ],
   "source": [
    "# Histogram for area_vd_ts\n",
    "sns.histplot(x='fac', data=df)\n",
    "plt.show()\n",
    "plt.close()"
   ]
  },
  {
   "cell_type": "code",
   "execution_count": 237,
   "metadata": {
    "colab": {
     "base_uri": "https://localhost:8080/",
     "height": 449
    },
    "executionInfo": {
     "elapsed": 1048,
     "status": "ok",
     "timestamp": 1682713732752,
     "user": {
      "displayName": "Leopoldo Olmos",
      "userId": "14960194383474345965"
     },
     "user_tz": 240
    },
    "id": "DwIfePKJjLuT",
    "outputId": "272f84b0-8a1b-4c3c-f080-d742d61077c9"
   },
   "outputs": [
    {
     "data": {
      "image/png": "[encoded data removed]",
      "text/plain": [
       "<Figure size 640x480 with 1 Axes>"
      ]
     },
     "metadata": {},
     "output_type": "display_data"
    }
   ],
   "source": [
    "# Boxplot for area_vd_td\n",
    "sns.boxplot(x='fac', data=df)\n",
    "plt.show()\n",
    "plt.close()"
   ]
  },
  {
   "cell_type": "code",
   "execution_count": 238,
   "metadata": {
    "colab": {
     "base_uri": "https://localhost:8080/",
     "height": 450
    },
    "executionInfo": {
     "elapsed": 1001,
     "status": "ok",
     "timestamp": 1682713930747,
     "user": {
      "displayName": "Leopoldo Olmos",
      "userId": "14960194383474345965"
     },
     "user_tz": 240
    },
    "id": "9ufW_PmqjeCn",
    "outputId": "775c66ed-838f-48e4-f4fc-697187c6fac1"
   },
   "outputs": [
    {
     "data": {
      "image/png": "[encoded data removed]",
      "text/plain": [
       "<Figure size 640x480 with 1 Axes>"
      ]
     },
     "metadata": {},
     "output_type": "display_data"
    }
   ],
   "source": [
    "# Histogram for area_vd_ts\n",
    "sns.histplot(x='vd_basal_4c', data=df)\n",
    "plt.show()\n",
    "plt.close()"
   ]
  },
  {
   "cell_type": "code",
   "execution_count": 239,
   "metadata": {
    "colab": {
     "base_uri": "https://localhost:8080/",
     "height": 450
    },
    "executionInfo": {
     "elapsed": 1103,
     "status": "ok",
     "timestamp": 1682714025084,
     "user": {
      "displayName": "Leopoldo Olmos",
      "userId": "14960194383474345965"
     },
     "user_tz": 240
    },
    "id": "Pr9B3k-bkOXy",
    "outputId": "97e08ea5-ad23-437d-fd88-44b197acde0e"
   },
   "outputs": [
    {
     "data": {
      "image/png": "[encoded data removed]",
      "text/plain": [
       "<Figure size 640x480 with 1 Axes>"
      ]
     },
     "metadata": {},
     "output_type": "display_data"
    }
   ],
   "source": [
    "# Histogram for area_vd_ts\n",
    "sns.histplot(x='ore_it', data=df)\n",
    "plt.show()\n",
    "plt.close()"
   ]
  },
  {
   "cell_type": "code",
   "execution_count": 240,
   "metadata": {
    "colab": {
     "base_uri": "https://localhost:8080/",
     "height": 450
    },
    "executionInfo": {
     "elapsed": 786,
     "status": "ok",
     "timestamp": 1682714073986,
     "user": {
      "displayName": "Leopoldo Olmos",
      "userId": "14960194383474345965"
     },
     "user_tz": 240
    },
    "id": "_AneHyimklYC",
    "outputId": "6793177f-878c-4e9c-d213-d380cee7b357"
   },
   "outputs": [
    {
     "data": {
      "image/png": "[encoded data removed]",
      "text/plain": [
       "<Figure size 640x480 with 1 Axes>"
      ]
     },
     "metadata": {},
     "output_type": "display_data"
    }
   ],
   "source": [
    "# Histogram for area_vd_ts\n",
    "sns.histplot(x='gmax_it', data=df)\n",
    "plt.show()\n",
    "plt.close()"
   ]
  },
  {
   "cell_type": "code",
   "execution_count": 241,
   "metadata": {
    "colab": {
     "base_uri": "https://localhost:8080/",
     "height": 449
    },
    "executionInfo": {
     "elapsed": 587,
     "status": "ok",
     "timestamp": 1682714136799,
     "user": {
      "displayName": "Leopoldo Olmos",
      "userId": "14960194383474345965"
     },
     "user_tz": 240
    },
    "id": "gWLcvrNjkxa1",
    "outputId": "f84284bb-1eb2-4555-cdd4-f43dc02e9a38"
   },
   "outputs": [
    {
     "data": {
      "image/png": "[encoded data removed]",
      "text/plain": [
       "<Figure size 640x480 with 1 Axes>"
      ]
     },
     "metadata": {},
     "output_type": "display_data"
    }
   ],
   "source": [
    "# Histogram for area_vd_ts\n",
    "sns.histplot(x='tapse', data=df)\n",
    "plt.show()\n",
    "plt.close()"
   ]
  },
  {
   "cell_type": "code",
   "execution_count": 242,
   "metadata": {
    "colab": {
     "base_uri": "https://localhost:8080/",
     "height": 450
    },
    "executionInfo": {
     "elapsed": 865,
     "status": "ok",
     "timestamp": 1682714209699,
     "user": {
      "displayName": "Leopoldo Olmos",
      "userId": "14960194383474345965"
     },
     "user_tz": 240
    },
    "id": "l814tvyZlAwp",
    "outputId": "746f965e-02bf-41dc-d622-7b370f0ff53b"
   },
   "outputs": [
    {
     "data": {
      "image/png": "[encoded data removed]",
      "text/plain": [
       "<Figure size 640x480 with 1 Axes>"
      ]
     },
     "metadata": {},
     "output_type": "display_data"
    }
   ],
   "source": [
    "# Histogram for area_vd_ts\n",
    "sns.histplot(x='anillo_trc', data=df)\n",
    "plt.show()\n",
    "plt.close()"
   ]
  },
  {
   "cell_type": "code",
   "execution_count": 243,
   "metadata": {
    "colab": {
     "base_uri": "https://localhost:8080/",
     "height": 450
    },
    "executionInfo": {
     "elapsed": 505,
     "status": "ok",
     "timestamp": 1682714263537,
     "user": {
      "displayName": "Leopoldo Olmos",
      "userId": "14960194383474345965"
     },
     "user_tz": 240
    },
    "id": "BvxnAF6flSiZ",
    "outputId": "dde5a72d-f3d9-4d0a-9d66-4804529c3235"
   },
   "outputs": [
    {
     "data": {
      "image/png": "[encoded data removed]",
      "text/plain": [
       "<Figure size 640x480 with 1 Axes>"
      ]
     },
     "metadata": {},
     "output_type": "display_data"
    }
   ],
   "source": [
    "# Histogram for area_vd_ts\n",
    "sns.histplot(x='vc_it_mm', data=df)\n",
    "plt.show()\n",
    "plt.close()"
   ]
  },
  {
   "cell_type": "code",
   "execution_count": 244,
   "metadata": {
    "colab": {
     "base_uri": "https://localhost:8080/",
     "height": 449
    },
    "executionInfo": {
     "elapsed": 724,
     "status": "ok",
     "timestamp": 1682714342515,
     "user": {
      "displayName": "Leopoldo Olmos",
      "userId": "14960194383474345965"
     },
     "user_tz": 240
    },
    "id": "SMSSRgpilfwm",
    "outputId": "175c9ae8-da16-4c23-d775-5e10d7c6f3d4"
   },
   "outputs": [
    {
     "data": {
      "image/png": "[encoded data removed]",
      "text/plain": [
       "<Figure size 640x480 with 1 Axes>"
      ]
     },
     "metadata": {},
     "output_type": "display_data"
    }
   ],
   "source": [
    "# Histogram for area_vd_ts\n",
    "sns.histplot(x='psap', data=df)\n",
    "plt.show()\n",
    "plt.close()"
   ]
  },
  {
   "cell_type": "code",
   "execution_count": 245,
   "metadata": {
    "colab": {
     "base_uri": "https://localhost:8080/",
     "height": 450
    },
    "executionInfo": {
     "elapsed": 598,
     "status": "ok",
     "timestamp": 1682714574088,
     "user": {
      "displayName": "Leopoldo Olmos",
      "userId": "14960194383474345965"
     },
     "user_tz": 240
    },
    "id": "6bW-NnKmly_p",
    "outputId": "b6fa69fb-4f81-4ac3-e56a-fd309d8d44cd"
   },
   "outputs": [
    {
     "data": {
      "image/png": "[encoded data removed]",
      "text/plain": [
       "<Figure size 640x480 with 1 Axes>"
      ]
     },
     "metadata": {},
     "output_type": "display_data"
    }
   ],
   "source": [
    "# Bar chart for borough\n",
    "sns.countplot(x='i_mitral', data=df)\n",
    "plt.show()\n",
    "plt.close()"
   ]
  },
  {
   "cell_type": "code",
   "execution_count": 246,
   "metadata": {
    "colab": {
     "base_uri": "https://localhost:8080/"
    },
    "executionInfo": {
     "elapsed": 239,
     "status": "ok",
     "timestamp": 1682714593549,
     "user": {
      "displayName": "Leopoldo Olmos",
      "userId": "14960194383474345965"
     },
     "user_tz": 240
    },
    "id": "4FCtz0rzmrex",
    "outputId": "2d323971-3c4f-4ac3-b40d-9feca5a43e23"
   },
   "outputs": [
    {
     "data": {
      "text/plain": [
       "Index(['index1', 'hist_clin', 'nacimiento', 'edad', 'peso', 'talla', 'sc',\n",
       "       'sexo', 'fevibp', 'dvitd', 'fevitch', 'interfer', 'sprimatr', 'area_ad',\n",
       "       'area_vd_td', 'area_vd_ts', 'fac', 'vd_basal_4c', 'ore_it', 'gmax_it',\n",
       "       'tapse', 'anillo_trc', 'vc_it_mm', 'psap', 'i_mitral', 'iao_eao', 'vd',\n",
       "       'ad', 'vd_f_sist', 't_int', 'pr_mitral', 'pr_ao', 'pr_tr'],\n",
       "      dtype='object')"
      ]
     },
     "execution_count": 246,
     "metadata": {},
     "output_type": "execute_result"
    }
   ],
   "source": [
    "df.columns"
   ]
  },
  {
   "cell_type": "code",
   "execution_count": 247,
   "metadata": {
    "colab": {
     "base_uri": "https://localhost:8080/",
     "height": 450
    },
    "executionInfo": {
     "elapsed": 574,
     "status": "ok",
     "timestamp": 1682714622247,
     "user": {
      "displayName": "Leopoldo Olmos",
      "userId": "14960194383474345965"
     },
     "user_tz": 240
    },
    "id": "L-iwBIKHmwXo",
    "outputId": "c063a7d9-c192-4e13-e3cd-7f27a002b81b"
   },
   "outputs": [
    {
     "data": {
      "image/png": "[encoded data removed]",
      "text/plain": [
       "<Figure size 640x480 with 1 Axes>"
      ]
     },
     "metadata": {},
     "output_type": "display_data"
    }
   ],
   "source": [
    "# Bar chart for borough\n",
    "sns.countplot(x='iao_eao', data=df)\n",
    "plt.show()\n",
    "plt.close()"
   ]
  },
  {
   "cell_type": "code",
   "execution_count": 248,
   "metadata": {
    "colab": {
     "base_uri": "https://localhost:8080/",
     "height": 449
    },
    "executionInfo": {
     "elapsed": 609,
     "status": "ok",
     "timestamp": 1682714655701,
     "user": {
      "displayName": "Leopoldo Olmos",
      "userId": "14960194383474345965"
     },
     "user_tz": 240
    },
    "id": "eYeFw311m3R9",
    "outputId": "90741da5-482c-4881-9d22-d5205a6367c6"
   },
   "outputs": [
    {
     "data": {
      "image/png": "[encoded data removed]",
      "text/plain": [
       "<Figure size 640x480 with 1 Axes>"
      ]
     },
     "metadata": {},
     "output_type": "display_data"
    }
   ],
   "source": [
    "# Bar chart for borough\n",
    "sns.countplot(x='vd', data=df)\n",
    "plt.show()\n",
    "plt.close()"
   ]
  },
  {
   "cell_type": "code",
   "execution_count": 249,
   "metadata": {
    "colab": {
     "base_uri": "https://localhost:8080/",
     "height": 449
    },
    "executionInfo": {
     "elapsed": 592,
     "status": "ok",
     "timestamp": 1682714688261,
     "user": {
      "displayName": "Leopoldo Olmos",
      "userId": "14960194383474345965"
     },
     "user_tz": 240
    },
    "id": "hLgt9HHqm_fB",
    "outputId": "6c384c7e-74bf-4ddd-ff1c-56f7c081096b"
   },
   "outputs": [
    {
     "data": {
      "image/png": "[encoded data removed]",
      "text/plain": [
       "<Figure size 640x480 with 1 Axes>"
      ]
     },
     "metadata": {},
     "output_type": "display_data"
    }
   ],
   "source": [
    "# Bar chart for borough\n",
    "sns.countplot(x='ad', data=df)\n",
    "plt.show()\n",
    "plt.close()"
   ]
  },
  {
   "cell_type": "code",
   "execution_count": 250,
   "metadata": {
    "colab": {
     "base_uri": "https://localhost:8080/",
     "height": 450
    },
    "executionInfo": {
     "elapsed": 388,
     "status": "ok",
     "timestamp": 1682714832097,
     "user": {
      "displayName": "Leopoldo Olmos",
      "userId": "14960194383474345965"
     },
     "user_tz": 240
    },
    "id": "GWM4KUIjnHX4",
    "outputId": "e6760815-2e42-4812-b026-c58b81177b05"
   },
   "outputs": [
    {
     "data": {
      "image/png": "[encoded data removed]",
      "text/plain": [
       "<Figure size 640x480 with 1 Axes>"
      ]
     },
     "metadata": {},
     "output_type": "display_data"
    }
   ],
   "source": [
    "# Bar chart for borough\n",
    "sns.countplot(x='vd_f_sist', data=df)\n",
    "plt.show()\n",
    "plt.close()"
   ]
  },
  {
   "cell_type": "code",
   "execution_count": 251,
   "metadata": {
    "colab": {
     "base_uri": "https://localhost:8080/",
     "height": 450
    },
    "executionInfo": {
     "elapsed": 676,
     "status": "ok",
     "timestamp": 1682714997074,
     "user": {
      "displayName": "Leopoldo Olmos",
      "userId": "14960194383474345965"
     },
     "user_tz": 240
    },
    "id": "XXZgv731nqjU",
    "outputId": "c19fa26d-cb3b-460e-ae8e-2d9c24d46933"
   },
   "outputs": [
    {
     "data": {
      "image/png": "[encoded data removed]",
      "text/plain": [
       "<Figure size 640x480 with 1 Axes>"
      ]
     },
     "metadata": {},
     "output_type": "display_data"
    }
   ],
   "source": [
    "# Histogram for area_vd_ts\n",
    "sns.histplot(x='t_int', data=df)\n",
    "plt.show()\n",
    "plt.close()"
   ]
  },
  {
   "cell_type": "code",
   "execution_count": 252,
   "metadata": {
    "colab": {
     "base_uri": "https://localhost:8080/",
     "height": 450
    },
    "executionInfo": {
     "elapsed": 290,
     "status": "ok",
     "timestamp": 1682715073993,
     "user": {
      "displayName": "Leopoldo Olmos",
      "userId": "14960194383474345965"
     },
     "user_tz": 240
    },
    "id": "0AExGrY5oSwP",
    "outputId": "542a83da-d238-4a6b-eb3a-6ce6bfb31d3c"
   },
   "outputs": [
    {
     "data": {
      "image/png": "[encoded data removed]",
      "text/plain": [
       "<Figure size 640x480 with 1 Axes>"
      ]
     },
     "metadata": {},
     "output_type": "display_data"
    }
   ],
   "source": [
    "# Bar chart for borough\n",
    "sns.countplot(x='pr_mitral', data=df)\n",
    "plt.show()\n",
    "plt.close()"
   ]
  },
  {
   "cell_type": "code",
   "execution_count": 253,
   "metadata": {
    "colab": {
     "base_uri": "https://localhost:8080/",
     "height": 449
    },
    "executionInfo": {
     "elapsed": 778,
     "status": "ok",
     "timestamp": 1682715138880,
     "user": {
      "displayName": "Leopoldo Olmos",
      "userId": "14960194383474345965"
     },
     "user_tz": 240
    },
    "id": "eyQxTGzIolqf",
    "outputId": "a0fdb992-3744-43ea-b128-97b8e11ec332"
   },
   "outputs": [
    {
     "data": {
      "image/png": "[encoded data removed]",
      "text/plain": [
       "<Figure size 640x480 with 1 Axes>"
      ]
     },
     "metadata": {},
     "output_type": "display_data"
    }
   ],
   "source": [
    "# Bar chart for borough\n",
    "sns.countplot(x='pr_ao', data=df)\n",
    "plt.show()\n",
    "plt.close()"
   ]
  },
  {
   "cell_type": "code",
   "execution_count": 254,
   "metadata": {
    "colab": {
     "base_uri": "https://localhost:8080/",
     "height": 449
    },
    "executionInfo": {
     "elapsed": 658,
     "status": "ok",
     "timestamp": 1682715164320,
     "user": {
      "displayName": "Leopoldo Olmos",
      "userId": "14960194383474345965"
     },
     "user_tz": 240
    },
    "id": "A9M4KH3Wo1Yg",
    "outputId": "19d3cb83-c470-4bfd-8c1d-bfca27c3f26d"
   },
   "outputs": [
    {
     "data": {
      "image/png": "[encoded data removed]",
      "text/plain": [
       "<Figure size 640x480 with 1 Axes>"
      ]
     },
     "metadata": {},
     "output_type": "display_data"
    }
   ],
   "source": [
    "# Bar chart for borough\n",
    "sns.countplot(x='pr_tr', data=df)\n",
    "plt.show()\n",
    "plt.close()"
   ]
  },
  {
   "cell_type": "code",
   "execution_count": 255,
   "metadata": {
    "id": "eduodobmo7il"
   },
   "outputs": [
    {
     "data": {
      "text/plain": [
       "Index(['index1', 'hist_clin', 'nacimiento', 'edad', 'peso', 'talla', 'sc',\n",
       "       'sexo', 'fevibp', 'dvitd', 'fevitch', 'interfer', 'sprimatr', 'area_ad',\n",
       "       'area_vd_td', 'area_vd_ts', 'fac', 'vd_basal_4c', 'ore_it', 'gmax_it',\n",
       "       'tapse', 'anillo_trc', 'vc_it_mm', 'psap', 'i_mitral', 'iao_eao', 'vd',\n",
       "       'ad', 'vd_f_sist', 't_int', 'pr_mitral', 'pr_ao', 'pr_tr'],\n",
       "      dtype='object')"
      ]
     },
     "execution_count": 255,
     "metadata": {},
     "output_type": "execute_result"
    }
   ],
   "source": [
    "df.columns"
   ]
  },
  {
   "cell_type": "code",
   "execution_count": 256,
   "metadata": {},
   "outputs": [
    {
     "data": {
      "image/png": "[encoded data removed]",
      "text/plain": [
       "<Figure size 640x480 with 1 Axes>"
      ]
     },
     "metadata": {},
     "output_type": "display_data"
    }
   ],
   "source": [
    "# Bar chart for borough\n",
    "sns.countplot(x='ad', data=df)\n",
    "plt.show()\n",
    "plt.close()"
   ]
  },
  {
   "cell_type": "code",
   "execution_count": 257,
   "metadata": {},
   "outputs": [
    {
     "name": "stdout",
     "output_type": "stream",
     "text": [
      "Tiempo de interferencia AD 1: nan\n",
      "Tiempo de interferencia AD 2: 3.0\n",
      "Tiempo de interferencia AD 3: 10.333333333333334\n",
      "Tiempo de interferencia AD 4: 5.769230769230769\n"
     ]
    }
   ],
   "source": [
    "import numpy as np\n",
    "\n",
    "#Time of interference and Right Atrium remodeling\n",
    "tiempo_dx_ad_1 = df.t_int[df.ad == 1.0]\n",
    "tiempo_dx_ad_2 = df.t_int[df.ad == 2.0]\n",
    "tiempo_dx_ad_3 = df.t_int[df.ad == 3.0]\n",
    "tiempo_dx_ad_4 = df.t_int[df.ad == 4.0]\n",
    "\n",
    "#calculate means for each group:\n",
    "tiempo_dx_ad_1_mean = tiempo_dx_ad_1.mean()\n",
    "tiempo_dx_ad_2_mean = tiempo_dx_ad_2.mean()\n",
    "tiempo_dx_ad_3_mean = tiempo_dx_ad_3.mean()\n",
    "tiempo_dx_ad_4_mean = tiempo_dx_ad_4.mean()\n",
    "\n",
    "#print means for each group:\n",
    "print('Tiempo de interferencia AD 1:',tiempo_dx_ad_1_mean)\n",
    "print('Tiempo de interferencia AD 2:',tiempo_dx_ad_2_mean)\n",
    "print('Tiempo de interferencia AD 3:',tiempo_dx_ad_3_mean)\n",
    "print('Tiempo de interferencia AD 4:',tiempo_dx_ad_4_mean)"
   ]
  },
  {
   "cell_type": "code",
   "execution_count": 258,
   "metadata": {},
   "outputs": [
    {
     "data": {
      "image/png": "[encoded data removed]",
      "text/plain": [
       "<Figure size 640x480 with 1 Axes>"
      ]
     },
     "metadata": {},
     "output_type": "display_data"
    }
   ],
   "source": [
    "import pandas as pd\n",
    "import matplotlib.pyplot as plt \n",
    "import seaborn as sns\n",
    "\n",
    "#create the boxplot here:\n",
    "sns.boxplot(data=df, x='ad', y='t_int')\n",
    "plt.show()"
   ]
  },
  {
   "cell_type": "code",
   "execution_count": null,
   "metadata": {},
   "outputs": [],
   "source": []
  },
  {
   "cell_type": "code",
   "execution_count": 259,
   "metadata": {},
   "outputs": [
    {
     "name": "stdout",
     "output_type": "stream",
     "text": [
      "anillo tricus AD 1: 45.0\n",
      "anillo tricus AD 2: 42.0\n",
      "anillo tricus AD 3: 39.0\n",
      "anillo tricus AD 4: 43.2\n"
     ]
    }
   ],
   "source": [
    "import numpy as np\n",
    "\n",
    "#Time of interference and Right Atrium remodeling\n",
    "tiempo_dx_ad_1 = df.anillo_trc[df.ad == 1.0]\n",
    "tiempo_dx_ad_2 = df.anillo_trc[df.ad == 2.0]\n",
    "tiempo_dx_ad_3 = df.anillo_trc[df.ad == 3.0]\n",
    "tiempo_dx_ad_4 = df.anillo_trc[df.ad == 4.0]\n",
    "\n",
    "#calculate means for each group:\n",
    "tiempo_dx_ad_1_mean = tiempo_dx_ad_1.mean()\n",
    "tiempo_dx_ad_2_mean = tiempo_dx_ad_2.mean()\n",
    "tiempo_dx_ad_3_mean = tiempo_dx_ad_3.mean()\n",
    "tiempo_dx_ad_4_mean = tiempo_dx_ad_4.mean()\n",
    "\n",
    "#print means for each group:\n",
    "print('anillo tricus AD 1:',tiempo_dx_ad_1_mean)\n",
    "print('anillo tricus AD 2:',tiempo_dx_ad_2_mean)\n",
    "print('anillo tricus AD 3:',tiempo_dx_ad_3_mean)\n",
    "print('anillo tricus AD 4:',tiempo_dx_ad_4_mean)"
   ]
  },
  {
   "cell_type": "code",
   "execution_count": 260,
   "metadata": {},
   "outputs": [
    {
     "data": {
      "image/png": "[encoded data removed]",
      "text/plain": [
       "<Figure size 640x480 with 1 Axes>"
      ]
     },
     "metadata": {},
     "output_type": "display_data"
    }
   ],
   "source": [
    "import pandas as pd\n",
    "import matplotlib.pyplot as plt \n",
    "import seaborn as sns\n",
    "\n",
    "#create the boxplot here:\n",
    "sns.boxplot(data=df, x='ad', y='anillo_trc')\n",
    "plt.show()"
   ]
  },
  {
   "cell_type": "code",
   "execution_count": 261,
   "metadata": {},
   "outputs": [
    {
     "name": "stdout",
     "output_type": "stream",
     "text": [
      "Gmax IT AD 1: 76.0\n",
      "Gmax IT AD 2: 34.666666666666664\n",
      "Gmax IT AD 3: 48.166666666666664\n",
      "Gmax IT AD 4: 40.5\n"
     ]
    }
   ],
   "source": [
    "import numpy as np\n",
    "\n",
    "#Time of interference and Right Atrium remodeling\n",
    "tiempo_dx_ad_1 = df.gmax_it[df.ad == 1.0]\n",
    "tiempo_dx_ad_2 = df.gmax_it[df.ad == 2.0]\n",
    "tiempo_dx_ad_3 = df.gmax_it[df.ad == 3.0]\n",
    "tiempo_dx_ad_4 = df.gmax_it[df.ad == 4.0]\n",
    "\n",
    "#calculate means for each group:\n",
    "tiempo_dx_ad_1_mean = tiempo_dx_ad_1.mean()\n",
    "tiempo_dx_ad_2_mean = tiempo_dx_ad_2.mean()\n",
    "tiempo_dx_ad_3_mean = tiempo_dx_ad_3.mean()\n",
    "tiempo_dx_ad_4_mean = tiempo_dx_ad_4.mean()\n",
    "\n",
    "#print means for each group:\n",
    "print('Gmax IT AD 1:',tiempo_dx_ad_1_mean)\n",
    "print('Gmax IT AD 2:',tiempo_dx_ad_2_mean)\n",
    "print('Gmax IT AD 3:',tiempo_dx_ad_3_mean)\n",
    "print('Gmax IT AD 4:',tiempo_dx_ad_4_mean)"
   ]
  },
  {
   "cell_type": "code",
   "execution_count": 262,
   "metadata": {},
   "outputs": [
    {
     "data": {
      "image/png": "[encoded data removed]",
      "text/plain": [
       "<Figure size 640x480 with 1 Axes>"
      ]
     },
     "metadata": {},
     "output_type": "display_data"
    }
   ],
   "source": [
    "import pandas as pd\n",
    "import matplotlib.pyplot as plt \n",
    "import seaborn as sns\n",
    "\n",
    "#create the boxplot here:\n",
    "sns.boxplot(data=df, x='ad', y='gmax_it')\n",
    "plt.show()"
   ]
  },
  {
   "cell_type": "code",
   "execution_count": 263,
   "metadata": {},
   "outputs": [
    {
     "name": "stdout",
     "output_type": "stream",
     "text": [
      "Gmax IT VD 1: 44.333333333333336\n",
      "Gmax IT VD 2: 37.583333333333336\n",
      "Gmax IT VD 3: 47.5\n",
      "Gmax IT VD 4: 49.57142857142857\n"
     ]
    }
   ],
   "source": [
    "import numpy as np\n",
    "\n",
    "#Time of interference and Right Atrium remodeling\n",
    "tiempo_dx_ad_1 = df.gmax_it[df.vd == 1.0]\n",
    "tiempo_dx_ad_2 = df.gmax_it[df.vd == 2.0]\n",
    "tiempo_dx_ad_3 = df.gmax_it[df.vd == 3.0]\n",
    "tiempo_dx_ad_4 = df.gmax_it[df.vd == 4.0]\n",
    "\n",
    "#calculate means for each group:\n",
    "tiempo_dx_ad_1_mean = tiempo_dx_ad_1.mean()\n",
    "tiempo_dx_ad_2_mean = tiempo_dx_ad_2.mean()\n",
    "tiempo_dx_ad_3_mean = tiempo_dx_ad_3.mean()\n",
    "tiempo_dx_ad_4_mean = tiempo_dx_ad_4.mean()\n",
    "\n",
    "#print means for each group:\n",
    "print('Gmax IT VD 1:',tiempo_dx_ad_1_mean)\n",
    "print('Gmax IT VD 2:',tiempo_dx_ad_2_mean)\n",
    "print('Gmax IT VD 3:',tiempo_dx_ad_3_mean)\n",
    "print('Gmax IT VD 4:',tiempo_dx_ad_4_mean)"
   ]
  },
  {
   "cell_type": "code",
   "execution_count": 264,
   "metadata": {},
   "outputs": [
    {
     "data": {
      "image/png": "[encoded data removed]",
      "text/plain": [
       "<Figure size 640x480 with 1 Axes>"
      ]
     },
     "metadata": {},
     "output_type": "display_data"
    }
   ],
   "source": [
    "import pandas as pd\n",
    "import matplotlib.pyplot as plt \n",
    "import seaborn as sns\n",
    "\n",
    "#create the boxplot here:\n",
    "sns.boxplot(data=df, x='vd', y='gmax_it')\n",
    "plt.show()"
   ]
  },
  {
   "cell_type": "code",
   "execution_count": 265,
   "metadata": {},
   "outputs": [
    {
     "name": "stdout",
     "output_type": "stream",
     "text": [
      "Gmax IT VD FS 1: 41.27777777777778\n",
      "Gmax IT VD FS 2: 42.125\n",
      "Gmax IT VD FS 3: 52.0\n",
      "Gmax IT VD FS 4: nan\n"
     ]
    }
   ],
   "source": [
    "import numpy as np\n",
    "\n",
    "#Time of interference and Right Atrium remodeling\n",
    "tiempo_dx_ad_1 = df.gmax_it[df.vd_f_sist == 1.0]\n",
    "tiempo_dx_ad_2 = df.gmax_it[df.vd_f_sist == 2.0]\n",
    "tiempo_dx_ad_3 = df.gmax_it[df.vd_f_sist == 3.0]\n",
    "tiempo_dx_ad_4 = df.gmax_it[df.vd_f_sist == 4.0]\n",
    "\n",
    "#calculate means for each group:\n",
    "tiempo_dx_ad_1_mean = tiempo_dx_ad_1.mean()\n",
    "tiempo_dx_ad_2_mean = tiempo_dx_ad_2.mean()\n",
    "tiempo_dx_ad_3_mean = tiempo_dx_ad_3.mean()\n",
    "tiempo_dx_ad_4_mean = tiempo_dx_ad_4.mean()\n",
    "\n",
    "#print means for each group:\n",
    "print('Gmax IT VD FS 1:',tiempo_dx_ad_1_mean)\n",
    "print('Gmax IT VD FS 2:',tiempo_dx_ad_2_mean)\n",
    "print('Gmax IT VD FS 3:',tiempo_dx_ad_3_mean)\n",
    "print('Gmax IT VD FS 4:',tiempo_dx_ad_4_mean)"
   ]
  },
  {
   "cell_type": "code",
   "execution_count": 266,
   "metadata": {},
   "outputs": [
    {
     "data": {
      "image/png": "[encoded data removed]",
      "text/plain": [
       "<Figure size 640x480 with 1 Axes>"
      ]
     },
     "metadata": {},
     "output_type": "display_data"
    }
   ],
   "source": [
    "import pandas as pd\n",
    "import matplotlib.pyplot as plt \n",
    "import seaborn as sns\n",
    "\n",
    "#create the boxplot here:\n",
    "sns.boxplot(data=df, x='vd_f_sist', y='gmax_it')\n",
    "plt.show()"
   ]
  },
  {
   "cell_type": "code",
   "execution_count": 267,
   "metadata": {},
   "outputs": [
    {
     "data": {
      "text/plain": [
       "0      NaN\n",
       "1      NaN\n",
       "2      NaN\n",
       "3      NaN\n",
       "4      NaN\n",
       "5     0.70\n",
       "6      NaN\n",
       "7      NaN\n",
       "8      NaN\n",
       "9      NaN\n",
       "10     NaN\n",
       "11     NaN\n",
       "12     NaN\n",
       "13     NaN\n",
       "14    0.78\n",
       "15     NaN\n",
       "16    1.40\n",
       "17    0.23\n",
       "18     NaN\n",
       "19     NaN\n",
       "20     NaN\n",
       "21    0.62\n",
       "22     NaN\n",
       "23     NaN\n",
       "24     NaN\n",
       "25     NaN\n",
       "26    0.70\n",
       "27    0.60\n",
       "28     NaN\n",
       "29    0.64\n",
       "30     NaN\n",
       "31     NaN\n",
       "32    1.20\n",
       "33    1.60\n",
       "34     NaN\n",
       "Name: ore_it, dtype: float64"
      ]
     },
     "execution_count": 267,
     "metadata": {},
     "output_type": "execute_result"
    }
   ],
   "source": [
    "df.ore_it"
   ]
  },
  {
   "cell_type": "code",
   "execution_count": 268,
   "metadata": {},
   "outputs": [
    {
     "data": {
      "text/plain": [
       "0      NaN\n",
       "1      NaN\n",
       "2      NaN\n",
       "3      NaN\n",
       "4      NaN\n",
       "5      7.0\n",
       "6      9.0\n",
       "7      NaN\n",
       "8      NaN\n",
       "9      NaN\n",
       "10     NaN\n",
       "11     NaN\n",
       "12     6.8\n",
       "13     NaN\n",
       "14     8.0\n",
       "15    12.0\n",
       "16    19.0\n",
       "17     9.0\n",
       "18     NaN\n",
       "19     NaN\n",
       "20     NaN\n",
       "21    10.0\n",
       "22     NaN\n",
       "23     7.4\n",
       "24     6.5\n",
       "25     NaN\n",
       "26    16.0\n",
       "27     NaN\n",
       "28     NaN\n",
       "29     NaN\n",
       "30     NaN\n",
       "31     NaN\n",
       "32     NaN\n",
       "33    16.0\n",
       "34     NaN\n",
       "Name: vc_it_mm, dtype: float64"
      ]
     },
     "execution_count": 268,
     "metadata": {},
     "output_type": "execute_result"
    }
   ],
   "source": [
    "df.vc_it_mm"
   ]
  },
  {
   "cell_type": "code",
   "execution_count": 269,
   "metadata": {},
   "outputs": [
    {
     "data": {
      "text/plain": [
       "count    12.000000\n",
       "mean     10.558333\n",
       "std       4.237379\n",
       "min       6.500000\n",
       "25%       7.300000\n",
       "50%       9.000000\n",
       "75%      13.000000\n",
       "max      19.000000\n",
       "Name: vc_it_mm, dtype: float64"
      ]
     },
     "execution_count": 269,
     "metadata": {},
     "output_type": "execute_result"
    }
   ],
   "source": [
    "df.vc_it_mm.describe()"
   ]
  },
  {
   "cell_type": "code",
   "execution_count": 270,
   "metadata": {},
   "outputs": [
    {
     "name": "stdout",
     "output_type": "stream",
     "text": [
      "Vena Contracta AD 1: nan\n",
      "Vena Contracta AD 2: 10.5\n",
      "Vena Contracta AD 3: 6.5\n",
      "Vena Contracta AD 4: 11.022222222222222\n"
     ]
    }
   ],
   "source": [
    "import numpy as np\n",
    "\n",
    "#Time of interference and Right Atrium remodeling\n",
    "tiempo_dx_ad_1 = df.vc_it_mm[df.ad == 1.0]\n",
    "tiempo_dx_ad_2 = df.vc_it_mm[df.ad == 2.0]\n",
    "tiempo_dx_ad_3 = df.vc_it_mm[df.ad == 3.0]\n",
    "tiempo_dx_ad_4 = df.vc_it_mm[df.ad == 4.0]\n",
    "\n",
    "#calculate means for each group:\n",
    "tiempo_dx_ad_1_mean = tiempo_dx_ad_1.mean()\n",
    "tiempo_dx_ad_2_mean = tiempo_dx_ad_2.mean()\n",
    "tiempo_dx_ad_3_mean = tiempo_dx_ad_3.mean()\n",
    "tiempo_dx_ad_4_mean = tiempo_dx_ad_4.mean()\n",
    "\n",
    "#print means for each group:\n",
    "print('Vena Contracta AD 1:',tiempo_dx_ad_1_mean)\n",
    "print('Vena Contracta AD 2:',tiempo_dx_ad_2_mean)\n",
    "print('Vena Contracta AD 3:',tiempo_dx_ad_3_mean)\n",
    "print('Vena Contracta AD 4:',tiempo_dx_ad_4_mean)"
   ]
  },
  {
   "cell_type": "code",
   "execution_count": 271,
   "metadata": {},
   "outputs": [
    {
     "data": {
      "image/png": "[encoded data removed]",
      "text/plain": [
       "<Figure size 640x480 with 1 Axes>"
      ]
     },
     "metadata": {},
     "output_type": "display_data"
    }
   ],
   "source": [
    "import pandas as pd\n",
    "import matplotlib.pyplot as plt \n",
    "import seaborn as sns\n",
    "\n",
    "#create the boxplot here:\n",
    "sns.boxplot(data=df, x='ad', y='vc_it_mm')\n",
    "plt.show()"
   ]
  },
  {
   "cell_type": "code",
   "execution_count": 301,
   "metadata": {},
   "outputs": [],
   "source": [
    "df.loc[0,'vc_it_mm'] = 22"
   ]
  },
  {
   "cell_type": "code",
   "execution_count": 302,
   "metadata": {},
   "outputs": [
    {
     "data": {
      "text/plain": [
       "22.0"
      ]
     },
     "execution_count": 302,
     "metadata": {},
     "output_type": "execute_result"
    }
   ],
   "source": [
    "df.loc[0].vc_it_mm"
   ]
  },
  {
   "cell_type": "code",
   "execution_count": 303,
   "metadata": {},
   "outputs": [
    {
     "data": {
      "text/plain": [
       "hist_clin      764784.00\n",
       "nacimiento       1930.00\n",
       "edad               93.00\n",
       "peso               69.00\n",
       "talla             154.00\n",
       "sc                  1.67\n",
       "sexo                1.00\n",
       "fevibp               NaN\n",
       "dvitd               4.70\n",
       "fevitch            62.00\n",
       "interfer            1.00\n",
       "sprimatr            8.90\n",
       "area_ad            41.00\n",
       "area_vd_td           NaN\n",
       "area_vd_ts           NaN\n",
       "fac                  NaN\n",
       "vd_basal_4c          NaN\n",
       "ore_it               NaN\n",
       "gmax_it            13.00\n",
       "tapse              15.00\n",
       "anillo_trc           NaN\n",
       "vc_it_mm           22.00\n",
       "psap               43.00\n",
       "i_mitral            1.00\n",
       "iao_eao              NaN\n",
       "vd                   NaN\n",
       "ad                   NaN\n",
       "vd_f_sist            NaN\n",
       "t_int               5.00\n",
       "pr_mitral            NaN\n",
       "pr_ao               1.00\n",
       "pr_tr                NaN\n",
       "Name: 2, dtype: float64"
      ]
     },
     "execution_count": 303,
     "metadata": {},
     "output_type": "execute_result"
    }
   ],
   "source": [
    "df.set_index('index1').loc[2]"
   ]
  }
 ],
 "metadata": {
  "colab": {
   "provenance": []
  },
  "kernelspec": {
   "display_name": "Python 3 (ipykernel)",
   "language": "python",
   "name": "python3"
  },
  "language_info": {
   "codemirror_mode": {
    "name": "ipython",
    "version": 3
   },
   "file_extension": ".py",
   "mimetype": "text/x-python",
   "name": "python",
   "nbconvert_exporter": "python",
   "pygments_lexer": "ipython3",
   "version": "3.11.2"
  }
 },
 "nbformat": 4,
 "nbformat_minor": 1
}
