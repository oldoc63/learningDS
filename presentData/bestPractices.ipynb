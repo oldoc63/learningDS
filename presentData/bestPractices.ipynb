{
 "cells": [
  {
   "attachments": {},
   "cell_type": "markdown",
   "metadata": {},
   "source": [
    "### Best Practices for Communicating Data Science Findings"
   ]
  },
  {
   "attachments": {},
   "cell_type": "markdown",
   "metadata": {},
   "source": [
    "To help guide and visualize these concepts, we’re going to use a dataset about tipping and restaurant billing transactions to display different kinds of transformations.\n",
    "\n",
    "The dataset can be easily sourced from the Python-based Seaborn visualization library as shown below. Feel free to take a look at the type of data it contains by running the code."
   ]
  },
  {
   "cell_type": "code",
   "execution_count": 2,
   "metadata": {},
   "outputs": [
    {
     "data": {
      "text/html": [
       "<div>\n",
       "<style scoped>\n",
       "    .dataframe tbody tr th:only-of-type {\n",
       "        vertical-align: middle;\n",
       "    }\n",
       "\n",
       "    .dataframe tbody tr th {\n",
       "        vertical-align: top;\n",
       "    }\n",
       "\n",
       "    .dataframe thead th {\n",
       "        text-align: right;\n",
       "    }\n",
       "</style>\n",
       "<table border=\"1\" class=\"dataframe\">\n",
       "  <thead>\n",
       "    <tr style=\"text-align: center;\">\n",
       "      <th></th>\n",
       "      <th>total_bill</th>\n",
       "      <th>tip</th>\n",
       "      <th>sex</th>\n",
       "      <th>smoker</th>\n",
       "      <th>day</th>\n",
       "      <th>time</th>\n",
       "      <th>size</th>\n",
       "    </tr>\n",
       "  </thead>\n",
       "  <tbody>\n",
       "    <tr>\n",
       "      <th>0</th>\n",
       "      <td>16.99</td>\n",
       "      <td>1.01</td>\n",
       "      <td>Female</td>\n",
       "      <td>No</td>\n",
       "      <td>Sun</td>\n",
       "      <td>Dinner</td>\n",
       "      <td>2</td>\n",
       "    </tr>\n",
       "    <tr>\n",
       "      <th>1</th>\n",
       "      <td>10.34</td>\n",
       "      <td>1.66</td>\n",
       "      <td>Male</td>\n",
       "      <td>No</td>\n",
       "      <td>Sun</td>\n",
       "      <td>Dinner</td>\n",
       "      <td>3</td>\n",
       "    </tr>\n",
       "    <tr>\n",
       "      <th>2</th>\n",
       "      <td>21.01</td>\n",
       "      <td>3.50</td>\n",
       "      <td>Male</td>\n",
       "      <td>No</td>\n",
       "      <td>Sun</td>\n",
       "      <td>Dinner</td>\n",
       "      <td>3</td>\n",
       "    </tr>\n",
       "    <tr>\n",
       "      <th>3</th>\n",
       "      <td>23.68</td>\n",
       "      <td>3.31</td>\n",
       "      <td>Male</td>\n",
       "      <td>No</td>\n",
       "      <td>Sun</td>\n",
       "      <td>Dinner</td>\n",
       "      <td>2</td>\n",
       "    </tr>\n",
       "    <tr>\n",
       "      <th>4</th>\n",
       "      <td>24.59</td>\n",
       "      <td>3.61</td>\n",
       "      <td>Female</td>\n",
       "      <td>No</td>\n",
       "      <td>Sun</td>\n",
       "      <td>Dinner</td>\n",
       "      <td>4</td>\n",
       "    </tr>\n",
       "    <tr>\n",
       "      <th>5</th>\n",
       "      <td>25.29</td>\n",
       "      <td>4.71</td>\n",
       "      <td>Male</td>\n",
       "      <td>No</td>\n",
       "      <td>Sun</td>\n",
       "      <td>Dinner</td>\n",
       "      <td>4</td>\n",
       "    </tr>\n",
       "    <tr>\n",
       "      <th>6</th>\n",
       "      <td>8.77</td>\n",
       "      <td>2.00</td>\n",
       "      <td>Male</td>\n",
       "      <td>No</td>\n",
       "      <td>Sun</td>\n",
       "      <td>Dinner</td>\n",
       "      <td>2</td>\n",
       "    </tr>\n",
       "    <tr>\n",
       "      <th>7</th>\n",
       "      <td>26.88</td>\n",
       "      <td>3.12</td>\n",
       "      <td>Male</td>\n",
       "      <td>No</td>\n",
       "      <td>Sun</td>\n",
       "      <td>Dinner</td>\n",
       "      <td>4</td>\n",
       "    </tr>\n",
       "    <tr>\n",
       "      <th>8</th>\n",
       "      <td>15.04</td>\n",
       "      <td>1.96</td>\n",
       "      <td>Male</td>\n",
       "      <td>No</td>\n",
       "      <td>Sun</td>\n",
       "      <td>Dinner</td>\n",
       "      <td>2</td>\n",
       "    </tr>\n",
       "    <tr>\n",
       "      <th>9</th>\n",
       "      <td>14.78</td>\n",
       "      <td>3.23</td>\n",
       "      <td>Male</td>\n",
       "      <td>No</td>\n",
       "      <td>Sun</td>\n",
       "      <td>Dinner</td>\n",
       "      <td>2</td>\n",
       "    </tr>\n",
       "  </tbody>\n",
       "</table>\n",
       "</div>"
      ],
      "text/plain": [
       "   total_bill   tip   sex   smoker day    time   size\n",
       "0     16.99    1.01  Female   No    Sun  Dinner    2 \n",
       "1     10.34    1.66    Male   No    Sun  Dinner    3 \n",
       "2     21.01    3.50    Male   No    Sun  Dinner    3 \n",
       "3     23.68    3.31    Male   No    Sun  Dinner    2 \n",
       "4     24.59    3.61  Female   No    Sun  Dinner    4 \n",
       "5     25.29    4.71    Male   No    Sun  Dinner    4 \n",
       "6      8.77    2.00    Male   No    Sun  Dinner    2 \n",
       "7     26.88    3.12    Male   No    Sun  Dinner    4 \n",
       "8     15.04    1.96    Male   No    Sun  Dinner    2 \n",
       "9     14.78    3.23    Male   No    Sun  Dinner    2 "
      ]
     },
     "execution_count": 2,
     "metadata": {},
     "output_type": "execute_result"
    }
   ],
   "source": [
    "import numpy as np\n",
    "import pandas as pd\n",
    "import seaborn as sns\n",
    "\n",
    "pd.set_option('colheader_justify', 'center')\n",
    "\n",
    "tips = sns.load_dataset('tips')\n",
    "df = tips.head(10)\n",
    "df"
   ]
  },
  {
   "attachments": {},
   "cell_type": "markdown",
   "metadata": {},
   "source": [
    "### Know Your Audience\n",
    "\n",
    "Before starting the process of communicating your findings, it’s important to put into perspective who your audience actually is. The entire tone of your presentation is shaped and changed by how individuals will perceive it. \n",
    "\n",
    "Imagine you’re presenting information about tipping and restaurant billing transactions to a group of restaurant owners. How would your presentation look? Now imagine you’re showing the same data to a group of developers who are creating a food delivery app. How would your presentation be different for this audience than your first one? \n",
    "\n",
    "If you put too much math/statistics jargon into a report or presentation for non-technical people, they’re either going to ask you to define things for them or ask for you to clarify upon certain concepts. Hand it over too simplified to a technical audience, however, and they’ll ask you how you came up with your results. \n",
    "\n",
    "You need to find the perfect blend between these two to correctly adapt your communication."
   ]
  },
  {
   "attachments": {},
   "cell_type": "markdown",
   "metadata": {},
   "source": [
    "### Structure The Sequence Of Your Story\n",
    "A structure defines in what sequence you reveal the results of your analysis. During this process, you also want to determine how much analytical depth you want to dive into. This is an opportunity to highlight only the most important observations you derived from the data through your exploration of it.\n",
    "\n",
    "The type of observations you want to include is the kind that relates most to whatever the ultimate goal for the investigation is. If for example, you notice a completely unrelated trend in user behavior relative to your analysis, save it as an additional discussion point inside of an appendix at the end somewhere in your slides or report. Sometimes an audience member might also pick up on this additional detail and ask you about it during a Q&A session. This type of structure allows you to quickly go to your appendix and pick out a slide that goes more in-depth on a previously alluded detail."
   ]
  },
  {
   "attachments": {},
   "cell_type": "markdown",
   "metadata": {},
   "source": [
    "### Find and pick relevant data\n",
    "Are all of the insights you gathered from your data absolutely necessary to discuss? Does it help get your ultimate point across or is it just extra fluff you think is neat as a Data Scientist?\n",
    "\n",
    "Sometimes, additional statistics that help a Data Scientist to take a particular investigative path may not be the ideal insights to share with the audience. If a number of features are vague in their immediate representation and don’t explain some kind of requested result, it’s better to pass on them.\n",
    "\n",
    "The following is an example of a visualization of the tipping and restaurant transaction data. The visualization has had no adjustments and no added arguments. On the X-axis we have the total bill amount, and on the Y-axis we have the tip amount. The labels are small, there is no title, and the only immediate thing you can extract from it is the higher the bill, the higher the tip, which kind of seems obvious. "
   ]
  },
  {
   "cell_type": "code",
   "execution_count": 3,
   "metadata": {},
   "outputs": [
    {
     "data": {
      "text/plain": [
       "<seaborn.axisgrid.FacetGrid at 0x7f42a45648b0>"
      ]
     },
     "execution_count": 3,
     "metadata": {},
     "output_type": "execute_result"
    },
    {
     "data": {
      "image/png": "[encoded data removed]",
      "text/plain": [
       "<Figure size 500x500 with 1 Axes>"
      ]
     },
     "metadata": {},
     "output_type": "display_data"
    }
   ],
   "source": [
    "tips = sns.load_dataset('tips')\n",
    "sns.relplot(data=tips, x='total_bill', y='tip')"
   ]
  },
  {
   "attachments": {},
   "cell_type": "markdown",
   "metadata": {},
   "source": [
    "### Choose proper methods of visualization"
   ]
  },
  {
   "attachments": {},
   "cell_type": "markdown",
   "metadata": {},
   "source": [
    "Contrary to popular belief, your data usually has a finite set of visualization types you should probably apply to it. Some examples include bar-charts and count-plots for categorical data, time-series charts for datetime type data, and lineplots/boxplots or histograms for continuous and numeric type data."
   ]
  },
  {
   "attachments": {},
   "cell_type": "markdown",
   "metadata": {},
   "source": [
    "### Complexity and Purpose\n",
    "Don’t let your visualizations become too noisy. You don’t need to show a plot of every single possible combination of correlations for every single variable.\n",
    "\n",
    "Focus only on the features important within your dataset to prevent introducing way too much information at one time to your audience. This includes defining maximum thresholds for how many segmented or grouped trends to picture in one visualization.\n",
    "\n",
    "Another mistake made when trying to communicate a large magnitude of data is trying to fit it all in one visualization. In cases where you’d like to plot multiple trends in your data, it may sometimes be a better idea to just split it up into separate charts. "
   ]
  },
  {
   "attachments": {},
   "cell_type": "markdown",
   "metadata": {},
   "source": [
    "### Conclusion\n",
    "Data always starts out messy, ugly, and confusing. The simplest way of getting an audience to have a feel for a data-focused concept is through visualization. When using visualization to present your findings, remember the following:\n",
    "\n",
    "    Visualizations are like jokes, if you don’t immediately understand them… they’re probably not very good.\n",
    "    Know who your audience is.\n",
    "    Make sure your visualization has a purpose and is somehow tied to the ultimate conclusion of your findings because irrelevant topics sometimes make your audience lose interest.\n",
    "    Make sure you are using relevant data.\n",
    "    Choose a proper method of visualization.\n",
    "    Use large, short labels on your graphs so that people can quickly understand what the markers or line in a chart actually mean.\n",
    "    Try to simplify concepts without using any technical jargon that makes the data look messy again.\n",
    "\n",
    "As you venture out of analytics and into other parts of the Data Science spectrum, there are going to be additional factors that come into play to best communicate your findings; however, no matter the area of Data Science you focus on, the practices mentioned here are always going to stay relevant."
   ]
  }
 ],
 "metadata": {
  "kernelspec": {
   "display_name": "codecademy",
   "language": "python",
   "name": "python3"
  },
  "language_info": {
   "codemirror_mode": {
    "name": "ipython",
    "version": 3
   },
   "file_extension": ".py",
   "mimetype": "text/x-python",
   "name": "python",
   "nbconvert_exporter": "python",
   "pygments_lexer": "ipython3",
   "version": "3.9.16"
  },
  "orig_nbformat": 4
 },
 "nbformat": 4,
 "nbformat_minor": 2
}
