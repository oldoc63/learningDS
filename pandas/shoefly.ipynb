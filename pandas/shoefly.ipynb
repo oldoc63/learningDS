{
 "cells": [
  {
   "cell_type": "markdown",
   "metadata": {},
   "source": [
    "Let's examine some more data from Shoefly.com. This time, we'll be looking at data about user visits to the website.\n",
    "\n",
    "The data is a DataFrame called user_visits. Use print and head() to examine the first few rows of the DataFrame."
   ]
  },
  {
   "cell_type": "code",
   "execution_count": 4,
   "metadata": {},
   "outputs": [
    {
     "name": "stdout",
     "output_type": "stream",
     "text": [
      "      id first_name last_name                       email         month  \\\n",
      "0  10043      Louis      Koch       LouisKoch43@gmail.com     3 - March   \n",
      "1  10150      Bruce      Webb     BruceWebb44@outlook.com     3 - March   \n",
      "2  10155   Nicholas   Hoffman  Nicholas.Hoffman@gmail.com  2 - February   \n",
      "3  10178    William       Key     William.Key@outlook.com     3 - March   \n",
      "4  10208      Karen      Bass            KB4971@gmail.com  2 - February   \n",
      "\n",
      "  utm_source  \n",
      "0      yahoo  \n",
      "1    twitter  \n",
      "2     google  \n",
      "3      yahoo  \n",
      "4     google  \n"
     ]
    }
   ],
   "source": [
    "import pandas as pd\n",
    "\n",
    "user_visits = pd.read_csv('/home/oldoc/learningDS/pandas/page_visits.csv')\n",
    "\n",
    "print(user_visits.head())"
   ]
  },
  {
   "cell_type": "markdown",
   "metadata": {},
   "source": [
    "The column utm_source contains information about how users got to ShoeFly's homepage. For instance, if utm_source = Facebook, then the user came to ShoeFly by clicking on an ad on Facebook.com.\n",
    "\n",
    "Use a groupby statement to calculate how many visits came from each of the different sources. Save your answer to the variable click_source."
   ]
  },
  {
   "cell_type": "code",
   "execution_count": 5,
   "metadata": {},
   "outputs": [],
   "source": [
    "click_source = user_visits.groupby('utm_source').id.count().reset_index()"
   ]
  },
  {
   "cell_type": "code",
   "execution_count": 6,
   "metadata": {},
   "outputs": [
    {
     "name": "stdout",
     "output_type": "stream",
     "text": [
      "  utm_source   id\n",
      "0      email  462\n",
      "1   facebook  823\n",
      "2     google  543\n",
      "3    twitter  415\n",
      "4      yahoo  757\n"
     ]
    }
   ],
   "source": [
    "print(click_source)"
   ]
  },
  {
   "cell_type": "markdown",
   "metadata": {},
   "source": [
    "Our marketing department thinks that the traffic to our site has been changing over the past few months. Use groupby to calculate the number of visits to our site from each utm_source for each month. Save your answer to the variable click_source_by_month."
   ]
  },
  {
   "cell_type": "code",
   "execution_count": 8,
   "metadata": {},
   "outputs": [
    {
     "name": "stdout",
     "output_type": "stream",
     "text": [
      "   utm_source         month   id\n",
      "0       email   1 - January   43\n",
      "1       email  2 - February  147\n",
      "2       email     3 - March  272\n",
      "3    facebook   1 - January  404\n",
      "4    facebook  2 - February  263\n",
      "5    facebook     3 - March  156\n",
      "6      google   1 - January  127\n",
      "7      google  2 - February  196\n",
      "8      google     3 - March  220\n",
      "9     twitter   1 - January  164\n",
      "10    twitter  2 - February  154\n",
      "11    twitter     3 - March   97\n",
      "12      yahoo   1 - January  262\n",
      "13      yahoo  2 - February  240\n",
      "14      yahoo     3 - March  255\n"
     ]
    }
   ],
   "source": [
    "click_source_by_month = user_visits.groupby(['utm_source', 'month']).id.count().reset_index()\n",
    "\n",
    "print(click_source_by_month)"
   ]
  },
  {
   "cell_type": "markdown",
   "metadata": {},
   "source": [
    "The head of Marketing is complaining that this table is hard to read. Use pivot to create a pivot table where the rows are utm_source and the columns are month. Save your results to the variable click_source_by_month_pivot."
   ]
  },
  {
   "cell_type": "code",
   "execution_count": 9,
   "metadata": {},
   "outputs": [
    {
     "name": "stdout",
     "output_type": "stream",
     "text": [
      "month utm_source  1 - January  2 - February  3 - March\n",
      "0          email           43           147        272\n",
      "1       facebook          404           263        156\n",
      "2         google          127           196        220\n",
      "3        twitter          164           154         97\n",
      "4          yahoo          262           240        255\n"
     ]
    }
   ],
   "source": [
    "click_source_by_month_pivot = click_source_by_month.pivot(\n",
    "    columns='month',\n",
    "    index='utm_source',\n",
    "    values='id').reset_index()\n",
    "\n",
    "print(click_source_by_month_pivot)"
   ]
  },
  {
   "cell_type": "code",
   "execution_count": null,
   "metadata": {},
   "outputs": [],
   "source": []
  }
 ],
 "metadata": {
  "kernelspec": {
   "display_name": "Python 3.9.12 ('codecademy': conda)",
   "language": "python",
   "name": "python3"
  },
  "language_info": {
   "codemirror_mode": {
    "name": "ipython",
    "version": 3
   },
   "file_extension": ".py",
   "mimetype": "text/x-python",
   "name": "python",
   "nbconvert_exporter": "python",
   "pygments_lexer": "ipython3",
   "version": "3.9.12"
  },
  "orig_nbformat": 4,
  "vscode": {
   "interpreter": {
    "hash": "db63a3840ece0c8ff5abf3159a4e56c0511ab85aa97d9215e6f127ef62045e4d"
   }
  }
 },
 "nbformat": 4,
 "nbformat_minor": 2
}
