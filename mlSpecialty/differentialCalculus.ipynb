{
 "cells": [
  {
   "cell_type": "markdown",
   "metadata": {},
   "source": [
    "# Differential Calculus"
   ]
  },
  {
   "attachments": {},
   "cell_type": "markdown",
   "metadata": {},
   "source": [
    "We will cover fundamentals of differential calculus and investigate how we can use limits and derivatives to analyse functions."
   ]
  },
  {
   "attachments": {},
   "cell_type": "markdown",
   "metadata": {},
   "source": [
    "### Why is this important?"
   ]
  },
  {
   "attachments": {},
   "cell_type": "markdown",
   "metadata": {},
   "source": [
    "Differential calculus deals with the study of rates of change. It allows us to quantify how one variable relates to another. In the field of data science, this is invaluable information to understand. Learning models are build upon quatifying how variables relate to each other to make predictions or understand patterns."
   ]
  },
  {
   "attachments": {},
   "cell_type": "markdown",
   "metadata": {},
   "source": [
    "### What will you learn?"
   ]
  },
  {
   "attachments": {},
   "cell_type": "markdown",
   "metadata": {},
   "source": [
    "- Use limits to understand function behavior at specific points.\n",
    "- Use derivatives to analyze functions and quantify rates of change."
   ]
  },
  {
   "attachments": {},
   "cell_type": "markdown",
   "metadata": {},
   "source": [
    "### What is calculus?"
   ]
  },
  {
   "cell_type": "markdown",
   "metadata": {},
   "source": [
    "The core task of a data scientist is to make data-driven recommendations on the best way to solve a problem, Along the way, data scientist build and fit statistical models to support their claims, make predictions, and more. We will look at what calculus is and why it is vital in the data science process."
   ]
  },
  {
   "cell_type": "markdown",
   "metadata": {},
   "source": [
    "### Rate of Change"
   ]
  },
  {
   "attachments": {},
   "cell_type": "markdown",
   "metadata": {},
   "source": [
    "*Differential calculus* is the field that studies rates of change. By `quantifying how variables relate to each other` we can better understand our statistical model or physical system. For example, as a data scientist at a t-shirt company, we may want to know how a change in the marketing budget impacts the company's total profit. Spend too little, and our product won't be well known; espend too much, and we might reach a point of diminishing returns where our money would be better spent elsewhere. How can we find the optimal size of our marketing budget?"
   ]
  },
  {
   "attachments": {},
   "cell_type": "markdown",
   "metadata": {},
   "source": [
    "### Optimization"
   ]
  },
  {
   "attachments": {},
   "cell_type": "markdown",
   "metadata": {},
   "source": [
    "The last question above is the sort of questions asked and asnwered by the field of mathematical optimization, which interwines closely with calculus. Optimization problems involve looking for the best solution to a problem. Perhaps that's finding the 'optimal' size of the marketing budget for our company, the point where we maximize our profits with a budget that allows us to reach a broad audience without paying too much. Perhaps that means finding the statistical model that 'best' fits our data according to some criateria that we define ourselves -mathematical optimization gives us a way to decide among all our possible options. It is a powerful field that underpins much of the modern machine learning revolution an it is build upon the fundamentals of calculus we will investigate."
   ]
  },
  {
   "cell_type": "markdown",
   "metadata": {},
   "source": [
    "### Infinitesimal Analysis"
   ]
  },
  {
   "attachments": {},
   "cell_type": "markdown",
   "metadata": {},
   "source": [
    "One of the fundamentals paradigms in calculus is to think via infinitesimals (extremely small quantities) to say things about instantaneous rates of change. We will discuss this at length in the upcoming lesson. To give a rough overview, however, the idea is that by zooming in enough and considering how a variable changes over an infinitesimal time frame, we can learn how that variable is changing instantaneously, at a specific moment in time."
   ]
  },
  {
   "attachments": {},
   "cell_type": "markdown",
   "metadata": {},
   "source": [
    "### Recap"
   ]
  },
  {
   "attachments": {},
   "cell_type": "markdown",
   "metadata": {},
   "source": [
    "Calculus is essential for a data scientist because it provides a foundation for mathematical optimization, a field used to tune machine learning models to classify and make predictions."
   ]
  },
  {
   "cell_type": "markdown",
   "metadata": {},
   "source": [
    "### Differential Calculus"
   ]
  },
  {
   "attachments": {},
   "cell_type": "markdown",
   "metadata": {},
   "source": [
    "Data scientist often are asked to make data-driven recommendations on the best way to solve a problem. Along the way, they build and fit statistical models to support their claims, make predictions, and more. While creating this models, we often need to find the best solution out of all possible solutions, which is where calculus comes in."
   ]
  },
  {
   "attachments": {},
   "cell_type": "markdown",
   "metadata": {},
   "source": [
    "Calculus gives us ways to determine how a response variable (like profit, or revenue, or click-through rate) changes with related independent variables (like gas prices, or click-through rate, or time). Understanding how independent variables change with respect to a response variable is essential for choosing an ideal model because it allows us to answer the following question: \"what is the most effective model for our given situation?\". We will learn some fundamental of calculus and gain some tools that data scientist use in their everyday jobs."
   ]
  },
  {
   "attachments": {},
   "cell_type": "markdown",
   "metadata": {},
   "source": [
    "### Limit Definition of a Derivative"
   ]
  },
  {
   "attachments": {},
   "cell_type": "markdown",
   "metadata": {},
   "source": [
    "Suppose we wanted to measure a runner's instantaneous speed using a stopwatch. By instantaneous speed, we mean their speed at an exact moment in time.\n",
    "\n",
    "Let's define $f(t)$ as the runner's distance from the start time at time t. How could we find the runner's instantaneous speed at 1 second after the race? We could record their positions at one second and some time after 1 second and then do some calculations. Let's say we measure their distance from the start at $f(1)$ and $f(3)$. The change in position is $f(3)-f(1)$, and the time between one second and 3 seconds is 2 seconds, so we can calculate the runner's average speed to be the following:\n",
    "\n",
    "$$\n",
    "average\\ speed = \\frac{f(3)-f(1)}{3-1}\n",
    "$$"
   ]
  },
  {
   "attachments": {},
   "cell_type": "markdown",
   "metadata": {},
   "source": [
    "However, this gives us the average speed, not the instantaneous speed. We don't know the runner's speed at $t=1$; we only know their speed on average over the 2-second interval."
   ]
  },
  {
   "attachments": {},
   "cell_type": "markdown",
   "metadata": {},
   "source": [
    "If we repeated the process but instead took our second measurement at 1.1 seconds, we could be more accurate since we could find the average speed between 1 and 1.1 seconds. If we took our second measurement at a tiny increment, such as $t=1.000000001, we could be **approaching** instantaneous speed and get a very accurate measurement. "
   ]
  },
  {
   "attachments": {},
   "cell_type": "markdown",
   "metadata": {},
   "source": [
    "We can generalize this using limits. Define $t=1$ to be the first measurement time, and let's say we wait $h$ seconds until taking the second measurement. Then the second time is $x+h$, and the positions at the two times are $f(x)$ and $f(x+h)$. Repeating the exact process as above, we define the runner's average speed as:\n",
    "\n",
    "$$\n",
    "average\\ speed = \\frac {f(x+h)-f(x)}{(x+h)-x}\n",
    "$$\n"
   ]
  },
  {
   "attachments": {},
   "cell_type": "markdown",
   "metadata": {},
   "source": [
    "Simplifies to:\n",
    "\n",
    "$$\n",
    "average\\ speed = \\frac {f(x+h)-f(x)}{h}\n",
    "$$"
   ]
  },
  {
   "attachments": {},
   "cell_type": "markdown",
   "metadata": {},
   "source": [
    "Using limits, we can make $h$ very small. By taking the limit as $h$ goes to $0$, we can find the instantaneous rate of change:\n",
    "\n",
    "$$\n",
    "instantaneous\\ rate\\ of\\ change = \\lim_{x \\to 0}  \\frac {f(x+h)-f(x)}{h}\n",
    "$$"
   ]
  },
  {
   "attachments": {},
   "cell_type": "markdown",
   "metadata": {},
   "source": [
    "This is called the *derivative at a point*, which is the function's slope (rate of change) at a specific point."
   ]
  },
  {
   "attachments": {},
   "cell_type": "markdown",
   "metadata": {},
   "source": [
    "### The Derivative Function"
   ]
  },
  {
   "attachments": {},
   "cell_type": "markdown",
   "metadata": {},
   "source": [
    "In the previous exercise, we discussed the idea of the derivative at a point as the instantaneous rate of change at that point. The idea behind the definition is that by finding how the function changes over increasingly small intervals starting at a point, we can understand how a function changes exactly at that point. The formal expression of this concept is written as:\n",
    "\n",
    "$$\n",
    "\\lim_{x \\to 0}  \\frac {f(x+h)-f(x)}{h}\n",
    "$$"
   ]
  },
  {
   "attachments": {},
   "cell_type": "markdown",
   "metadata": {},
   "source": [
    "An equivalent interpretation is that the derivative is the slope of the tangent line at a point. A *tangent line* at a point is the line that touches the function at that point. Just as the slope of a line describes how a line changes, the slope of the tangent line describes how a \"curvier\" function changes at a specific point."
   ]
  },
  {
   "attachments": {},
   "cell_type": "markdown",
   "metadata": {},
   "source": [
    "Our discussion of taking increasingly smaller intervals gives us a way to calculate  the derivative of a function at a point, but this would be a laborious process if we always had to find the derivative at a point this way."
   ]
  },
  {
   "attachments": {},
   "cell_type": "markdown",
   "metadata": {},
   "source": [
    "Fortunately, many common functions have corresponding derivative functions. Derivative functions are often denoted $f'(x)$ (read f prime of x) or $df/dx$ (read derivative of f at x). If $f(x)$ represents the function value at a point x, the corresponding derivative function $f'(x)$ represents how a function is changing at the same point x. Essentially, it saves us from having to draw a tangent line or take a limit to compute the derivative at a point. Later we will see a number of different rules at our disposal that allow us to calculate the derivatives of common functions."
   ]
  },
  {
   "attachments": {},
   "cell_type": "markdown",
   "metadata": {},
   "source": [
    "### Properties of the Derivative Function"
   ]
  },
  {
   "attachments": {},
   "cell_type": "markdown",
   "metadata": {},
   "source": [
    "Derivatives functions contain important information. Let's look at a couple of examples. By example, $f(t)$ describes a runner's position as a function of time; therefore, the derivative function $f'(t)$ describes the runner's speed at any time $t$. Let's say we have a function $s(t)$ that describes the real-time sales of a particular product; the corresponding derivative function $s'(t)$ describe how those sales are changing in real-time."
   ]
  },
  {
   "attachments": {},
   "cell_type": "markdown",
   "metadata": {},
   "source": [
    "Let's look at the general information we can get as well. If f'(x) > 0, the corresponding function f(x) is increasing. Keep in mind that f(x) itself may be negative even though the derivative f'(x) is positive. The derivative says nothing about the value of the original function, only about how it is changing. Similarly, if f'(x) < 0, then the original function is decreasing. "
   ]
  },
  {
   "attachments": {},
   "cell_type": "markdown",
   "metadata": {},
   "source": [
    "If f'(x) = 0, then the function is not changing. This can mean one of a few things:\n",
    "- It may mean that the function has reached a `local maximun` (or maxima). A local maximun is a value of x where f'(x) changes from positive to negative and thus hits 0 along the way. In f(x), the local maximun is higher than all the points around it.\n",
    "- It may also mean that the function has reached what is called a `local minimum`. A local minimum is lower than the points around it. When f'(x) goes from negative values to 0 to positive values, a local minimum forms.\n",
    "- It may be an `inflection point`. This is a point where a function has a change in the direction of curvature. For example, the curve of the function goes from \"facing down\" to \"facing up\". Finding inflection points involves a second derivative test."
   ]
  },
  {
   "attachments": {},
   "cell_type": "markdown",
   "metadata": {},
   "source": [
    "*Global maxima* and *global minima* are the largest or smallest over the entire range of a function."
   ]
  },
  {
   "attachments": {},
   "cell_type": "markdown",
   "metadata": {},
   "source": [
    "In machine learning models, maxima and minima are key concepts as they're usually what we are trying to find when we optimize."
   ]
  },
  {
   "attachments": {},
   "cell_type": "markdown",
   "metadata": {},
   "source": [
    "### Calculating Derivatives"
   ]
  },
  {
   "attachments": {},
   "cell_type": "markdown",
   "metadata": {},
   "source": [
    "We have talked at length about derivatives abstractly. But how do we actually find derivative functions?"
   ]
  },
  {
   "attachments": {},
   "cell_type": "markdown",
   "metadata": {},
   "source": [
    "Using derivatives rules. These rules are building blocks, and by combining rules, we can find and plot the derivatives of many common functions."
   ]
  },
  {
   "attachments": {},
   "cell_type": "markdown",
   "metadata": {},
   "source": [
    "To start, we can think that derivatives are `linear operators`:\n",
    "$$\n",
    "\\frac{d}{dx}cf(x)=cf'(x)\n",
    "$$"
   ]
  },
  {
   "attachments": {},
   "cell_type": "markdown",
   "metadata": {},
   "source": [
    "This means that we can pull constants out when calculating a derivative. For example, say we have the following function:\n",
    "$$\n",
    "f(x)=4x²\n",
    "$$"
   ]
  },
  {
   "attachments": {},
   "cell_type": "markdown",
   "metadata": {},
   "source": [
    "We can define the derivative as the following:\n",
    "$$\n",
    "\\frac{d}{dx}4x²=4\\frac{d}{dx}x²\n",
    "$$"
   ]
  },
  {
   "attachments": {},
   "cell_type": "markdown",
   "metadata": {},
   "source": [
    "We can also say that:\n",
    "$$\n",
    "\\frac{d}{dx}(f(x)+g(x))=\\frac{d}{dx}f(x)+\\frac{d}{dx}g(x)\n",
    "$$"
   ]
  },
  {
   "attachments": {},
   "cell_type": "markdown",
   "metadata": {},
   "source": [
    "This means that the derivative of a sum is the sum of the derivatives."
   ]
  },
  {
   "attachments": {},
   "cell_type": "markdown",
   "metadata": {},
   "source": [
    "For example, say we have the following function:\n",
    "$$\n",
    "f(x)=x²+x³\n",
    "$$"
   ]
  },
  {
   "attachments": {},
   "cell_type": "markdown",
   "metadata": {},
   "source": [
    "We can define the derivative as the following:\n",
    "$$\n",
    "\\frac{d}{dx}(x²+x³)=\\frac{d}{dx}x²+\\frac{d}{dx}x³\n",
    "$$"
   ]
  },
  {
   "attachments": {},
   "cell_type": "markdown",
   "metadata": {},
   "source": [
    "When products get involved, derivatives can get a bit more complicated:\n",
    "$$\n",
    "f(x)=u(x)v(x)\n",
    "$$"
   ]
  },
  {
   "attachments": {},
   "cell_type": "markdown",
   "metadata": {},
   "source": [
    "We define the produc rule as:\n",
    "$$\n",
    "f'(x)=u(x)v'(x)+v(x)u'(x)\n",
    "$$"
   ]
  },
  {
   "attachments": {},
   "cell_type": "markdown",
   "metadata": {},
   "source": [
    "Mnemonically, we remember this as \"first times derivative of second plus second times derivative of first.\" For example, say we have the following equation that is the product of two:\n",
    "$$\n",
    "f(x)=x²log(x)\n",
    "$$"
   ]
  },
  {
   "attachments": {},
   "cell_type": "markdown",
   "metadata": {},
   "source": [
    "We would use the product rule to find the derivative of f(x):\n",
    "$$\n",
    "f'(x)=x²\\frac{d}{dx}(log(x))+log(x)\\frac{d}{dx}(x²)\n",
    "$$"
   ]
  },
  {
   "attachments": {},
   "cell_type": "markdown",
   "metadata": {},
   "source": [
    "La derivada de una constante es igual a 0:\n",
    "$$\n",
    "\\frac{d}{dx}c=0\n",
    "$$"
   ]
  },
  {
   "attachments": {},
   "cell_type": "markdown",
   "metadata": {},
   "source": [
    "This is because for a constant there is never any change in value, so the derivative will always equal zero:\n",
    "$$\n",
    "\\frac{d}{dx}5=0\n",
    "$$"
   ]
  },
  {
   "cell_type": "markdown",
   "metadata": {},
   "source": []
  }
 ],
 "metadata": {
  "kernelspec": {
   "display_name": ".venv",
   "language": "python",
   "name": "python3"
  },
  "language_info": {
   "name": "python",
   "version": "3.11.2"
  },
  "orig_nbformat": 4
 },
 "nbformat": 4,
 "nbformat_minor": 2
}
