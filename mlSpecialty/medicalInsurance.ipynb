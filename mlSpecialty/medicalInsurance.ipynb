{
 "cells": [
  {
   "cell_type": "markdown",
   "metadata": {},
   "source": []
  },
  {
   "cell_type": "markdown",
   "metadata": {},
   "source": [
    "## Medical Insurance Project"
   ]
  },
  {
   "attachments": {},
   "cell_type": "markdown",
   "metadata": {},
   "source": [
    "You have been asked to develop a system that makes it easier to organize patient data. You will create a class that does the following:\n",
    "- Takes in patient parameters regarding their personal information\n",
    "- Contains methods that allow users to update their information\n",
    "- Give patients insight into their potential medical fees"
   ]
  },
  {
   "attachments": {},
   "cell_type": "markdown",
   "metadata": {},
   "source": [
    "### Building our constructor"
   ]
  },
  {
   "cell_type": "code",
   "execution_count": 2,
   "metadata": {},
   "outputs": [
    {
     "name": "stdout",
     "output_type": "stream",
     "text": [
      "John Doe\n"
     ]
    }
   ],
   "source": [
    "class Patient:\n",
    "    def __init__(self, name, age, sex, bmi, num_of_children, smoker) -> None:\n",
    "        self.name = name\n",
    "        self.age = age\n",
    "        self.sex = sex\n",
    "        self.bmi = bmi\n",
    "        self.num_of_children = num_of_children\n",
    "        self.smoker = smoker\n",
    "\n",
    "patient1 = Patient('John Doe', 25, 1, 22.2, 0, 0)\n",
    "print(patient1.name)\n"
   ]
  },
  {
   "attachments": {},
   "cell_type": "markdown",
   "metadata": {},
   "source": [
    "### Adding functionality with Methods"
   ]
  },
  {
   "attachments": {},
   "cell_type": "markdown",
   "metadata": {},
   "source": [
    "- Our first method will be estimated_insurance_cost, which takes our instance's parameters and returns their expected yearly medical fees."
   ]
  },
  {
   "cell_type": "code",
   "execution_count": 3,
   "metadata": {},
   "outputs": [
    {
     "name": "stdout",
     "output_type": "stream",
     "text": [
      "John Doe's estimated insurance cost is 1836.0 dollars.\n",
      "None\n"
     ]
    }
   ],
   "source": [
    "class Patient:\n",
    "    def __init__(self, name, age, sex, bmi, num_of_children, smoker) -> None:\n",
    "        self.name = name\n",
    "        self.age = age\n",
    "        self.sex = sex\n",
    "        self.bmi = bmi\n",
    "        self.num_of_children = num_of_children\n",
    "        self.smoker = smoker\n",
    "\n",
    "    def estimated_insurance_cost(self):\n",
    "        estimated_cost = 250 * self.age - 128 * self.sex + 370 * self.bmi + 425 * self.num_of_children + 24000 * self.smoker - 12500\n",
    "        print(self.name + \"'s estimated insurance cost is \" + str(estimated_cost) + \" dollars.\")\n",
    "\n",
    "patient1 = Patient('John Doe', 25, 1, 22.2, 0, 0)\n",
    "print(patient1.estimated_insurance_cost())"
   ]
  },
  {
   "attachments": {},
   "cell_type": "markdown",
   "metadata": {},
   "source": [
    "- Create an update_age() method. It should take in two arguments: self and new_age. Reassign self.age to new_age.\n",
    "- Call the estimated_insurance_cost() in update_age()"
   ]
  },
  {
   "cell_type": "code",
   "execution_count": 1,
   "metadata": {},
   "outputs": [
    {
     "name": "stdout",
     "output_type": "stream",
     "text": [
      "John Doe's estimated insurance cost is 4336.0 dollars.\n",
      "None\n"
     ]
    }
   ],
   "source": [
    "class Patient:\n",
    "    def __init__(self, name, age, sex, bmi, num_of_children, smoker) -> None:\n",
    "        self.name = name\n",
    "        self.age = age\n",
    "        self.sex = sex\n",
    "        self.bmi = bmi\n",
    "        self.num_of_children = num_of_children\n",
    "        self.smoker = smoker\n",
    "\n",
    "    def estimated_insurance_cost(self):\n",
    "        estimated_cost = 250 * self.age - 128 * self.sex + 370 * self.bmi + 425 * self.num_of_children + 24000 * self.smoker - 12500\n",
    "        print(self.name + \"'s estimated insurance cost is \" + str(estimated_cost) + \" dollars.\")\n",
    "\n",
    "    def update_age(self, new_age):\n",
    "        self.age = new_age\n",
    "        print(self.name + \" is now \" + str(self.age) + \" years old.\")\n",
    "        self.estimated_insurance_cost()\n",
    "\n",
    "patient1 = Patient('John Doe', 35, 1, 22.2, 0, 0)\n",
    "print(patient1.estimated_insurance_cost())\n"
   ]
  },
  {
   "attachments": {},
   "cell_type": "markdown",
   "metadata": {},
   "source": [
    "- Make another update method that modifies the num_of_children parameter.\n",
    "- Let’s update our method to accurately convey when we should use the noun “children” versus when we should use “child”."
   ]
  },
  {
   "cell_type": "code",
   "execution_count": 6,
   "metadata": {},
   "outputs": [
    {
     "name": "stdout",
     "output_type": "stream",
     "text": [
      "John Doe has 2 children.\n",
      "John Doe's estimated insurance cost is 5186.0 dollars.\n"
     ]
    }
   ],
   "source": [
    "class Patient:\n",
    "    def __init__(self, name, age, sex, bmi, num_of_children, smoker) -> None:\n",
    "        self.name = name\n",
    "        self.age = age\n",
    "        self.sex = sex\n",
    "        self.bmi = bmi\n",
    "        self.num_of_children = num_of_children\n",
    "        self.smoker = smoker\n",
    "\n",
    "    def estimated_insurance_cost(self):\n",
    "        estimated_cost = 250 * self.age - 128 * self.sex + 370 * self.bmi + 425 * self.num_of_children + 24000 * self.smoker - 12500\n",
    "        print(self.name + \"'s estimated insurance cost is \" + str(estimated_cost) + \" dollars.\")\n",
    "\n",
    "    def update_age(self, new_age):\n",
    "        self.age = new_age\n",
    "        print(self.name + \" is now \" + str(self.age) + \" years old.\")\n",
    "        self.estimated_insurance_cost()\n",
    "\n",
    "    def update_num_children(self, new_num_children):\n",
    "        self.num_of_children = new_num_children\n",
    "        if self.num_of_children == 1:\n",
    "            print(self.name + \" has \" + str(self.num_of_children) + \" child.\")\n",
    "        else:\n",
    "            print(self.name + \" has \" + str(self.num_of_children) + \" children.\")\n",
    "        self.estimated_insurance_cost()\n",
    "    \n",
    "patient1 = Patient('John Doe', 35, 1, 22.2, 0, 0)\n",
    "patient1.update_num_children(2)"
   ]
  },
  {
   "attachments": {},
   "cell_type": "markdown",
   "metadata": {},
   "source": [
    "### Storing Patient Information"
   ]
  },
  {
   "cell_type": "code",
   "execution_count": 7,
   "metadata": {},
   "outputs": [
    {
     "name": "stdout",
     "output_type": "stream",
     "text": [
      "John Doe's estimated insurance cost is 1836.0 dollars.\n",
      "John Doe is now 26 years old.\n",
      "John Doe's estimated insurance cost is 2086.0 dollars.\n",
      "John Doe has 1 child.\n",
      "John Doe's estimated insurance cost is 2511.0 dollars.\n",
      "John Doe's estimated insurance cost is 2511.0 dollars.\n",
      "{'Name': 'John Doe', 'Age': 26, 'Sex': 1, 'BMI': 22.2, 'Number of Children': 1, 'Smoker': 0}\n"
     ]
    }
   ],
   "source": [
    "class Patient:\n",
    "    def __init__(self, name, age, sex, bmi, num_of_children, smoker) -> None:\n",
    "        self.name = name\n",
    "        self.age = age\n",
    "        self.sex = sex\n",
    "        self.bmi = bmi\n",
    "        self.num_of_children = num_of_children\n",
    "        self.smoker = smoker\n",
    "\n",
    "    def estimated_insurance_cost(self):\n",
    "        estimated_cost = 250 * self.age - 128 * self.sex + 370 * self.bmi + 425 * self.num_of_children + 24000 * self.smoker - 12500\n",
    "        print(self.name + \"'s estimated insurance cost is \" + str(estimated_cost) + \" dollars.\")\n",
    "\n",
    "    def update_age(self, new_age):\n",
    "        self.age = new_age\n",
    "        print(self.name + \" is now \" + str(self.age) + \" years old.\")\n",
    "        self.estimated_insurance_cost()\n",
    "\n",
    "    def update_num_children(self, new_num_children):\n",
    "        self.num_of_children = new_num_children\n",
    "        if self.num_of_children == 1:\n",
    "            print(self.name + \" has \" + str(self.num_of_children) + \" child.\")\n",
    "        else:\n",
    "            print(self.name + \" has \" + str(self.num_of_children) + \" children.\")\n",
    "        self.estimated_insurance_cost()\n",
    "\n",
    "    def patient_profile(self):\n",
    "        patient_information = {}\n",
    "        patient_information['Name'] = self.name\n",
    "        patient_information['Age'] = self.age\n",
    "        patient_information['Sex'] = self.sex\n",
    "        patient_information['BMI'] = self.bmi\n",
    "        patient_information['Number of Children'] = self.num_of_children\n",
    "        patient_information['Smoker'] = self.smoker\n",
    "        return patient_information\n",
    "    \n",
    "patient1 = Patient(\"John Doe\", 25, 1, 22.2, 0, 0)\n",
    "patient1.estimated_insurance_cost()\n",
    "patient1.update_age(26)\n",
    "patient1.update_num_children(1)\n",
    "patient1.estimated_insurance_cost()\n",
    "print(patient1.patient_profile())"
   ]
  }
 ],
 "metadata": {
  "kernelspec": {
   "display_name": "codecademy",
   "language": "python",
   "name": "python3"
  },
  "language_info": {
   "codemirror_mode": {
    "name": "ipython",
    "version": 3
   },
   "file_extension": ".py",
   "mimetype": "text/x-python",
   "name": "python",
   "nbconvert_exporter": "python",
   "pygments_lexer": "ipython3",
   "version": "3.9.16"
  },
  "orig_nbformat": 4
 },
 "nbformat": 4,
 "nbformat_minor": 2
}
