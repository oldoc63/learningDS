{
 "cells": [
  {
   "attachments": {},
   "cell_type": "markdown",
   "metadata": {},
   "source": [
    "In the world of programming, we care a lot about making code reusable. In most cases, we write code so that it can be reusable for ourselves. But sometimes we share code that’s helpful across a broad range of situations.\n",
    "\n",
    "A module is a collection of Python declarations intended broadly to be used as a tool. Modules are also often referred to as “libraries” or “packages” — a package is really a directory that holds a collection of modules.\n",
    "\n",
    "Often, a library will include a lot of code that you don’t need that may slow down your program or conflict with existing code. Because of this, it makes sense to only import what you need. \n",
    "\n",
    "One common library that comes as part of the Python Standard Library is datetime. datetime helps you work with dates and times in Python."
   ]
  },
  {
   "cell_type": "code",
   "execution_count": 3,
   "metadata": {},
   "outputs": [
    {
     "name": "stdout",
     "output_type": "stream",
     "text": [
      "2023-03-17 15:54:07.816351\n"
     ]
    }
   ],
   "source": [
    "from datetime import datetime\n",
    "\n",
    "current_time = datetime.now()\n",
    "\n",
    "print(current_time)"
   ]
  },
  {
   "attachments": {},
   "cell_type": "markdown",
   "metadata": {},
   "source": [
    "datetime is just the beginning. There are hundreds of Python modules that you can use. Another one of the most commonly used is random which allows you to generate numbers or select items at random.\n",
    "\n",
    "With random, we’ll be using more than one piece of the module’s functionality, so the import syntax will look like:"
   ]
  },
  {
   "cell_type": "code",
   "execution_count": 4,
   "metadata": {},
   "outputs": [
    {
     "name": "stdout",
     "output_type": "stream",
     "text": [
      "41\n"
     ]
    }
   ],
   "source": [
    "# Import random below:\n",
    "import random\n",
    "\n",
    "# Create random_list below:\n",
    "random_list = []\n",
    "\n",
    "# Create randomer_number below:\n",
    "for i in range(101):\n",
    "    random_list.append(random.randint(1,101))\n",
    "\n",
    "# Print randomer_number below:\n",
    "randomer_number = random.choice(random_list)\n",
    "print(randomer_number)"
   ]
  },
  {
   "cell_type": "code",
   "execution_count": 5,
   "metadata": {},
   "outputs": [
    {
     "name": "stdout",
     "output_type": "stream",
     "text": [
      "[3, 5, 4]\n"
     ]
    }
   ],
   "source": [
    "# random.sample takes a list and randomly selects k items from it\n",
    "# new_list = random.sample(list, k)\n",
    "\n",
    "nums = [1, 2, 3, 4, 5]\n",
    "sample_nums = random.sample(nums, 3)\n",
    "\n",
    "print(sample_nums)"
   ]
  },
  {
   "attachments": {},
   "cell_type": "markdown",
   "metadata": {},
   "source": [
    "### Namespaces"
   ]
  },
  {
   "attachments": {},
   "cell_type": "markdown",
   "metadata": {},
   "source": [
    "Notice that when we want to invoke the randint() function we call random.randint(). This is default behavior where Python offers a namespace for the module.\n",
    "\n",
    "A namespace isolates the functions, classes, and variables defined in the module from the code in the file doing the importing.\n",
    "\n",
    "Your local namespace, meanwhile, is where your code is run.\n",
    "\n",
    "Python defaults to naming the namespace after the module being imported.\n",
    "\n",
    "This name can be altered by aliasing using the as keyword.\n"
   ]
  },
  {
   "cell_type": "code",
   "execution_count": 6,
   "metadata": {},
   "outputs": [
    {
     "data": {
      "image/png": "[encoded data removed]",
      "text/plain": [
       "<Figure size 640x480 with 1 Axes>"
      ]
     },
     "metadata": {},
     "output_type": "display_data"
    }
   ],
   "source": [
    "import seaborn\n",
    "from matplotlib import pyplot as plt\n",
    "import random\n",
    "\n",
    "numbers_a = range(1, 13)\n",
    "numbers_b = random.sample(range(1000), 12)\n",
    "\n",
    "plt.plot(numbers_a, numbers_b)\n",
    "\n",
    "plt.show()"
   ]
  },
  {
   "attachments": {},
   "cell_type": "markdown",
   "metadata": {},
   "source": [
    "### Decimals"
   ]
  },
  {
   "attachments": {},
   "cell_type": "markdown",
   "metadata": {},
   "source": [
    "Let’s say you are writing software that handles monetary transactions. If you used Python’s built-in floating-point arithmetic to calculate a sum, it would result in a weirdly formatted number."
   ]
  },
  {
   "cell_type": "code",
   "execution_count": 7,
   "metadata": {},
   "outputs": [
    {
     "data": {
      "text/plain": [
       "0.44999999999999996"
      ]
     },
     "execution_count": 7,
     "metadata": {},
     "output_type": "execute_result"
    }
   ],
   "source": [
    "cost_of_gum = 0.10\n",
    "cost_of_gumdrop = 0.35\n",
    " \n",
    "cost_of_transaction = cost_of_gum + cost_of_gumdrop\n",
    "cost_of_transaction"
   ]
  },
  {
   "attachments": {},
   "cell_type": "markdown",
   "metadata": {},
   "source": [
    "Being familiar with rounding errors in floating-point arithmetic you want to use a data type that performs decimal arithmetic more accurately. You could do the following:"
   ]
  },
  {
   "cell_type": "code",
   "execution_count": 8,
   "metadata": {},
   "outputs": [
    {
     "data": {
      "text/plain": [
       "Decimal('0.45')"
      ]
     },
     "execution_count": 8,
     "metadata": {},
     "output_type": "execute_result"
    }
   ],
   "source": [
    "from decimal import Decimal\n",
    "\n",
    "cost_of_gum = Decimal('0.10')\n",
    "cost_of_gumdrop = Decimal('0.35')\n",
    "\n",
    "cost_of_transaction = cost_of_gum + cost_of_gumdrop\n",
    "cost_of_transaction"
   ]
  },
  {
   "attachments": {},
   "cell_type": "markdown",
   "metadata": {},
   "source": [
    "Above, we use the decimal module’s Decimal data type to add 0.10 with 0.35. Since we used the Decimal type the arithmetic acts much more as expected."
   ]
  },
  {
   "attachments": {},
   "cell_type": "markdown",
   "metadata": {},
   "source": [
    "### Scope"
   ]
  },
  {
   "attachments": {},
   "cell_type": "markdown",
   "metadata": {},
   "source": [
    "Files inside the same directory do not have access to each other’s variables, functions, classes, or any other code. But files are actually modules, so you can give a file access to another file’s content using the `import` statement."
   ]
  },
  {
   "cell_type": "code",
   "execution_count": 10,
   "metadata": {},
   "outputs": [
    {
     "name": "stdout",
     "output_type": "stream",
     "text": [
      "0 1 1 2 3 5 8 13 21 34 55 89 144 233 377 610 987 \n",
      "['/home/oldoc/learningDS/mlSpecialty/modules', '/home/oldoc/anaconda3/envs/codecademy/lib/python39.zip', '/home/oldoc/anaconda3/envs/codecademy/lib/python3.9', '/home/oldoc/anaconda3/envs/codecademy/lib/python3.9/lib-dynload', '', '/home/oldoc/.local/lib/python3.9/site-packages', '/home/oldoc/anaconda3/envs/codecademy/lib/python3.9/site-packages']\n"
     ]
    }
   ],
   "source": [
    "import fibo\n",
    "import sys\n",
    "\n",
    "fibo.fib(1000)\n",
    "fibo.fib2(100)\n",
    "\n",
    "fibo.__name__\n",
    "\n",
    "print(sys.path)\n"
   ]
  }
 ],
 "metadata": {
  "kernelspec": {
   "display_name": "codecademy",
   "language": "python",
   "name": "python3"
  },
  "language_info": {
   "codemirror_mode": {
    "name": "ipython",
    "version": 3
   },
   "file_extension": ".py",
   "mimetype": "text/x-python",
   "name": "python",
   "nbconvert_exporter": "python",
   "pygments_lexer": "ipython3",
   "version": "3.9.16"
  },
  "orig_nbformat": 4
 },
 "nbformat": 4,
 "nbformat_minor": 2
}
