{
 "cells": [
  {
   "attachments": {},
   "cell_type": "markdown",
   "metadata": {},
   "source": [
    "### What is Machine Learning?"
   ]
  },
  {
   "attachments": {},
   "cell_type": "markdown",
   "metadata": {},
   "source": [
    "While at IBM, Arthur Samuel developed a program that learned how to play checkers (1959). He called it:\n",
    "\n",
    "    “The field of study that gives computers the ability to learn without being explicitly programmed.”\n",
    "\n",
    "What does this mean?\n",
    "\n",
    "As programmers, we often approach problems in a methodical, logic-based way. We try to determine what our desired outputs should be, and then create the proper rules that will transform our inputs into those outputs.\n",
    "\n",
    "Machine learning flips the script. We want the program itself to learn the rules that describe our data the best, by finding patterns in what we know and applying those patterns to what we don’t know.\n",
    "\n",
    "These algorithms are able to learn. Their performance gets better and better with each iteration, as it uncovers more hidden trends in the data.\n"
   ]
  },
  {
   "attachments": {},
   "cell_type": "markdown",
   "metadata": {},
   "source": [
    "https://www.evernote.com/shard/s468/sh/7e3584e7-b69d-4b0f-97fd-954ca46f7b7c/ZAH3NwZ9uDGjmgl4NBUQD12CJaJ0dFnAXPgqXGoAnaBbYPAvbv8ZUJN7xA"
   ]
  },
  {
   "attachments": {},
   "cell_type": "markdown",
   "metadata": {},
   "source": [
    "### Supervised Learning\n",
    "Machine learning can be branched out into the following categories:\n",
    "\n",
    "    Supervised Learning\n",
    "    Unsupervised Learning\n",
    "\n",
    "Supervised Learning is where the data is labeled and the program learns to predict the output from the input data. For instance, a supervised learning algorithm for credit card fraud detection would take as input a set of recorded transactions. For each transaction, the program would predict if it is fraudulent or not.\n",
    "\n",
    "Supervised learning problems can be further grouped into regression and classification problems.\n",
    "\n",
    "Regression:\n",
    "\n",
    "In regression problems, we are trying to predict a continuous-valued output. Examples are:\n",
    "\n",
    "    What is the housing price in Neo York?\n",
    "    What is the value of cryptocurrencies?\n",
    "\n",
    "Classification:\n",
    "\n",
    "In classification problems, we are trying to predict a discrete number of values. Examples are:\n",
    "\n",
    "    Is this a picture of a human or a picture of an AI?\n",
    "    Is this email spam?\n",
    "\n",
    "For a quick preview, we will show you an example of supervised learning."
   ]
  },
  {
   "attachments": {},
   "cell_type": "markdown",
   "metadata": {},
   "source": [
    "1. NYBD (Neo York Bot Department) wants to analyze how Neo Yorkers are talking to one another so that they can determine who is being negative. They have built a Naive Bayes classifier that predicts whether an intercepted text is good or bad, based on the frequency that a word is used in a good training example or a bad one. Run the code to see if the model classifies the sentence \"This hot dog was awful!\" as a negative sentiment."
   ]
  },
  {
   "cell_type": "code",
   "execution_count": null,
   "metadata": {},
   "outputs": [],
   "source": [
    "from texts import text_counter, text_training\n",
    "from sklearn.feature_extraction.text import CountVectorizer\n",
    "from sklearn.naive_bayes import MultinomialNB\n",
    "\n",
    "intercepted_text = \"This hot dog was awful!\"\n",
    "\n",
    "text_counts = text_counter.transform([intercepted_text])\n",
    "\n",
    "text_classifier = MultinomialNB()\n",
    "\n",
    "text_labels = [0] * 1000 + [1] * 1000\n",
    "\n",
    "text_classifier.fit(text_training, text_labels)\n",
    "\n",
    "final_pos = text_classifier.predict_proba(text_counts)[0][1]\n",
    "\n",
    "final_neg = text_classifier.predict_proba(text_counts)[0][0]\n",
    "\n",
    "if final_pos > final_neg:\n",
    "  print(\"The text is positive.\")\n",
    "else:\n",
    "  print(\"The text is negative.\")\n"
   ]
  },
  {
   "attachments": {},
   "cell_type": "markdown",
   "metadata": {},
   "source": [
    "### Unsupervised Learning\n",
    "Unsupervised Learning is a type of machine learning where the program learns the inherent structure of the data based on unlabeled examples.\n",
    "\n",
    "Clustering is a common unsupervised machine learning approach that finds patterns and structures in unlabeled data by grouping them into clusters.\n",
    "\n",
    "Some examples:\n",
    "\n",
    "    Social networks clustering topics in their news feed\n",
    "    Consumer sites clustering users for recommendations\n",
    "    Search engines to group similar objects in one cluster\n",
    "\n",
    "For a quick preview, we will show you an example of unsupervised learning.\n"
   ]
  },
  {
   "cell_type": "code",
   "execution_count": 8,
   "metadata": {},
   "outputs": [
    {
     "data": {
      "text/plain": [
       "<Figure size 400x300 with 0 Axes>"
      ]
     },
     "metadata": {},
     "output_type": "display_data"
    }
   ],
   "source": [
    "import matplotlib.pyplot as plt\n",
    "import numpy as np \n",
    "\n",
    "from os.path import join, dirname, abspath\n",
    "from mpl_toolkits.mplot3d import Axes3D\n",
    "\n",
    "from sklearn.cluster import KMeans\n",
    "from sklearn import datasets\n",
    "\n",
    "iris = datasets.load_iris()\n",
    "\n",
    "x = iris.data\n",
    "y = iris.target\n",
    "\n",
    "fignum = 1\n",
    "\n",
    "# Plot the ground truth\n",
    "\n",
    "fig = plt.figure(fignum, figsize=(4, 3))\n",
    "\n",
    "ax = Axes3D(fig, rect=[0, 0, .95, 1], elev=48, azim=134)\n",
    "\n",
    "for name, label in [('Robots', 0),\n",
    "                    ('Cyborgs', 1),\n",
    "                    ('Humans', 2)]:\n",
    "    ax.text3D(x[y == label, 3].mean(),\n",
    "              x[y == label, 0].mean(),\n",
    "              x[y == label, 2].mean() + 2, name,\n",
    "              horizontalalignment='center',\n",
    "              bbox=dict(alpha=.2, edgecolor='w', facecolor='w'))\n",
    "\n",
    "# Reorder the labels to have colors matching the cluster results\n",
    "\n",
    "y = np.choose(y, [1, 2, 0]).astype(float)\n",
    "ax.scatter(x[:, 3], x[:, 0], x[:, 2], c=y, edgecolor='k')\n",
    "\n",
    "ax.xaxis.set_ticklabels([])\n",
    "ax.yaxis.set_ticklabels([])\n",
    "ax.zaxis.set_ticklabels([])\n",
    "\n",
    "ax.set_xlabel('Time to Heal')\n",
    "ax.set_ylabel('Reading Speed')\n",
    "ax.set_zlabel('EQ')\n",
    "\n",
    "ax.set_title('')\n",
    "# ax.dist = 12\n",
    "\n",
    "plt.show()"
   ]
  },
  {
   "attachments": {},
   "cell_type": "markdown",
   "metadata": {},
   "source": [
    "### The Machine Learning Process"
   ]
  },
  {
   "attachments": {},
   "cell_type": "markdown",
   "metadata": {},
   "source": [
    "https://www.evernote.com/shard/s468/sh/e73a6a8c-7970-40d2-a21c-97184d3ce379/vSziZFNcplVBWPH9onWdSvJAhPQ6qR3MJc3pAga0nFzstw9LScI98kaTXw"
   ]
  },
  {
   "attachments": {},
   "cell_type": "markdown",
   "metadata": {},
   "source": [
    "### Scikit-Learn Cheatsheet"
   ]
  },
  {
   "attachments": {},
   "cell_type": "markdown",
   "metadata": {},
   "source": [
    "https://www.evernote.com/shard/s468/sh/f0bc2785-b94b-4147-998f-3731645a81f6/sApMNBNdjwwzqNiRrfqlueaocNPeXeR8ZhQOPDNJZN6f0fR6Rzn2tNcBMg"
   ]
  }
 ],
 "metadata": {
  "kernelspec": {
   "display_name": "codecademy",
   "language": "python",
   "name": "python3"
  },
  "language_info": {
   "codemirror_mode": {
    "name": "ipython",
    "version": 3
   },
   "file_extension": ".py",
   "mimetype": "text/x-python",
   "name": "python",
   "nbconvert_exporter": "python",
   "pygments_lexer": "ipython3",
   "version": "3.9.16"
  },
  "orig_nbformat": 4
 },
 "nbformat": 4,
 "nbformat_minor": 2
}
