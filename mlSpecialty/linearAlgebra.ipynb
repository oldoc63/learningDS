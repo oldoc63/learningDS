{
 "cells": [
  {
   "attachments": {},
   "cell_type": "markdown",
   "metadata": {},
   "source": [
    "## Python and Numpy"
   ]
  },
  {
   "attachments": {},
   "cell_type": "markdown",
   "metadata": {},
   "source": [
    "We aim to implement the linear algebra concepts using Python. These Python implementations will include vectors, matrices, and some of their respective operations. Additionally, we will again look at problems like solving systems of linear equations using linear algebra.\n",
    "\n",
    "To perform these linear algebra tasks in Python, we will work with NumPy, a popular numerical computing library. In addition to various built-in linear algebra capabilities, NumPy also works very well with other popular Python libraries used for data science applications such as pandas, SciPy (NumPy’s parent library), and Matplotlib."
   ]
  },
  {
   "attachments": {},
   "cell_type": "markdown",
   "metadata": {},
   "source": [
    "### Using NumPy Arrays"
   ]
  },
  {
   "attachments": {},
   "cell_type": "markdown",
   "metadata": {},
   "source": [
    "The core of using NumPy effectively for linear algebra is using NumPy arrays. NumPy arrays are n-dimensional array data structures that can be used to represent both vectors (1-dimensional array) and matrices (2-dimensional arrays).\n",
    "\n",
    "A Numpy array is initialized using the np.array() function, and including a Python list argument or Python nested list argument for arrays with more than one dimension."
   ]
  },
  {
   "cell_type": "code",
   "execution_count": 4,
   "metadata": {},
   "outputs": [
    {
     "data": {
      "text/plain": [
       "array([1, 2, 3, 4, 5, 6])"
      ]
     },
     "execution_count": 4,
     "metadata": {},
     "output_type": "execute_result"
    }
   ],
   "source": [
    "import numpy as np\n",
    "\n",
    "v = np.array([1, 2, 3, 4, 5, 6])\n",
    "v"
   ]
  },
  {
   "attachments": {},
   "cell_type": "markdown",
   "metadata": {},
   "source": [
    "We can also create a matrix, wich is the equivalent of a two-dimensional Numpy array, using a nested Python list:"
   ]
  },
  {
   "cell_type": "code",
   "execution_count": 5,
   "metadata": {},
   "outputs": [
    {
     "data": {
      "text/plain": [
       "array([[1, 2],\n",
       "       [3, 4]])"
      ]
     },
     "execution_count": 5,
     "metadata": {},
     "output_type": "execute_result"
    }
   ],
   "source": [
    "A = np.array([[1, 2], [3, 4]])\n",
    "A"
   ]
  },
  {
   "attachments": {},
   "cell_type": "markdown",
   "metadata": {},
   "source": [
    "Matrices can also be created by combining existing vectors using the  np.column_stack() function:"
   ]
  },
  {
   "cell_type": "code",
   "execution_count": 6,
   "metadata": {},
   "outputs": [
    {
     "data": {
      "text/plain": [
       "array([[-2,  0,  3],\n",
       "       [-2,  0,  3],\n",
       "       [-2,  0,  3],\n",
       "       [-2,  0,  3]])"
      ]
     },
     "execution_count": 6,
     "metadata": {},
     "output_type": "execute_result"
    }
   ],
   "source": [
    "v = np.array([-2,-2,-2,-2])\n",
    "u = np.array([0,0,0,0])\n",
    "w = np.array([3,3,3,3])\n",
    "\n",
    "A = np.column_stack((v,u,w))\n",
    "A"
   ]
  },
  {
   "attachments": {},
   "cell_type": "markdown",
   "metadata": {},
   "source": [
    "To access the shape of a matrix or vector once it's been created as a NumPy array, we call the .shape attribute of the array variable:"
   ]
  },
  {
   "cell_type": "code",
   "execution_count": 7,
   "metadata": {},
   "outputs": [
    {
     "data": {
      "text/plain": [
       "(2, 2)"
      ]
     },
     "execution_count": 7,
     "metadata": {},
     "output_type": "execute_result"
    }
   ],
   "source": [
    "A = np.array([[1,2],[3,4]])\n",
    "A.shape"
   ]
  },
  {
   "attachments": {},
   "cell_type": "markdown",
   "metadata": {},
   "source": [
    "To access individual elements in a NumPy array, we can index the array using square brackets. Unlike regular Python lists, we can index into all dimension in a single square bracket, separating the dimension indices with commas.\n",
    "\n",
    "Thus in order to index the element equal to 2 in matrix A:"
   ]
  },
  {
   "cell_type": "code",
   "execution_count": 8,
   "metadata": {},
   "outputs": [
    {
     "data": {
      "text/plain": [
       "2"
      ]
     },
     "execution_count": 8,
     "metadata": {},
     "output_type": "execute_result"
    }
   ],
   "source": [
    "A = np.array([[1,2],[3,4]])\n",
    "A[0,1]"
   ]
  },
  {
   "attachments": {},
   "cell_type": "markdown",
   "metadata": {},
   "source": [
    "The first index accesses the specific row, while the second index accesses the specific column. Note that rows and columns are zero-indexed."
   ]
  },
  {
   "attachments": {},
   "cell_type": "markdown",
   "metadata": {},
   "source": [
    "We can select a subset or entire dimension of a Numpy array using a colon. For example, if we want the entire second column of a matrix, we can index the second column and use an empty colon to select every row as such:"
   ]
  },
  {
   "cell_type": "code",
   "execution_count": 9,
   "metadata": {},
   "outputs": [
    {
     "data": {
      "text/plain": [
       "array([2, 4])"
      ]
     },
     "execution_count": 9,
     "metadata": {},
     "output_type": "execute_result"
    }
   ],
   "source": [
    "A = np.array([[1,2],[3,4]])\n",
    "A[:,1]"
   ]
  },
  {
   "attachments": {},
   "cell_type": "markdown",
   "metadata": {},
   "source": [
    "Note that [2, 4] is a column vector, but it outputs in the terminal horizontally."
   ]
  },
  {
   "cell_type": "code",
   "execution_count": 11,
   "metadata": {},
   "outputs": [
    {
     "name": "stdout",
     "output_type": "stream",
     "text": [
      "[[-2  4  5]\n",
      " [-6  1 -7]\n",
      " [ 2 -3  9]\n",
      " [ 3  8  0]]\n",
      "(4, 3)\n",
      "[ 5 -7  9  0]\n"
     ]
    }
   ],
   "source": [
    "# Given vectors\n",
    "vector_1 = np.array([-2,-6,2,3])\n",
    "vector_2 = np.array([4,1,-3,8])\n",
    "vector_3 = np.array([5,-7,9,0])\n",
    "\n",
    "matrix = np.column_stack((vector_1, vector_2, vector_3))\n",
    "\n",
    "print(matrix)\n",
    "\n",
    "print(matrix.shape)\n",
    "\n",
    "print(matrix[:,2])"
   ]
  }
 ],
 "metadata": {
  "kernelspec": {
   "display_name": "codecademy",
   "language": "python",
   "name": "python3"
  },
  "language_info": {
   "codemirror_mode": {
    "name": "ipython",
    "version": 3
   },
   "file_extension": ".py",
   "mimetype": "text/x-python",
   "name": "python",
   "nbconvert_exporter": "python",
   "pygments_lexer": "ipython3",
   "version": "3.9.16"
  },
  "orig_nbformat": 4
 },
 "nbformat": 4,
 "nbformat_minor": 2
}
