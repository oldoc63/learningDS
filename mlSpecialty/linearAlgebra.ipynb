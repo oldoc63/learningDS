{
 "cells": [
  {
   "attachments": {},
   "cell_type": "markdown",
   "metadata": {},
   "source": [
    "## Python and Numpy"
   ]
  },
  {
   "attachments": {},
   "cell_type": "markdown",
   "metadata": {},
   "source": [
    "We aim to implement the linear algebra concepts using Python. These Python implementations will include vectors, matrices, and some of their respective operations. Additionally, we will again look at problems like solving systems of linear equations using linear algebra.\n",
    "\n",
    "To perform these linear algebra tasks in Python, we will work with NumPy, a popular numerical computing library. In addition to various built-in linear algebra capabilities, NumPy also works very well with other popular Python libraries used for data science applications such as pandas, SciPy (NumPy’s parent library), and Matplotlib."
   ]
  },
  {
   "attachments": {},
   "cell_type": "markdown",
   "metadata": {},
   "source": [
    "### Using NumPy Arrays"
   ]
  },
  {
   "attachments": {},
   "cell_type": "markdown",
   "metadata": {},
   "source": [
    "The core of using NumPy effectively for linear algebra is using NumPy arrays. NumPy arrays are n-dimensional array data structures that can be used to represent both vectors (1-dimensional array) and matrices (2-dimensional arrays).\n",
    "\n",
    "A Numpy array is initialized using the np.array() function, and including a Python list argument or Python nested list argument for arrays with more than one dimension."
   ]
  },
  {
   "cell_type": "code",
   "execution_count": 3,
   "metadata": {},
   "outputs": [
    {
     "data": {
      "text/plain": [
       "array([1, 2, 3, 4, 5, 6])"
      ]
     },
     "execution_count": 3,
     "metadata": {},
     "output_type": "execute_result"
    }
   ],
   "source": [
    "import numpy as np\n",
    "\n",
    "v = np.array([1, 2, 3, 4, 5, 6])\n",
    "v"
   ]
  },
  {
   "attachments": {},
   "cell_type": "markdown",
   "metadata": {},
   "source": [
    "We can also create a matrix, wich is the equivalent of a two-dimensional Numpy array, using a nested Python list:"
   ]
  },
  {
   "cell_type": "code",
   "execution_count": 4,
   "metadata": {},
   "outputs": [
    {
     "data": {
      "text/plain": [
       "array([[1, 2],\n",
       "       [3, 4]])"
      ]
     },
     "execution_count": 4,
     "metadata": {},
     "output_type": "execute_result"
    }
   ],
   "source": [
    "A = np.array([[1, 2], [3, 4]])\n",
    "A"
   ]
  },
  {
   "attachments": {},
   "cell_type": "markdown",
   "metadata": {},
   "source": [
    "Matrices can also be created by combining existing vectors using the  np.column_stack() function:"
   ]
  },
  {
   "cell_type": "code",
   "execution_count": 5,
   "metadata": {},
   "outputs": [
    {
     "data": {
      "text/plain": [
       "array([[-2,  0,  3],\n",
       "       [-2,  0,  3],\n",
       "       [-2,  0,  3],\n",
       "       [-2,  0,  3]])"
      ]
     },
     "execution_count": 5,
     "metadata": {},
     "output_type": "execute_result"
    }
   ],
   "source": [
    "v = np.array([-2,-2,-2,-2])\n",
    "u = np.array([0,0,0,0])\n",
    "w = np.array([3,3,3,3])\n",
    "\n",
    "A = np.column_stack((v,u,w))\n",
    "A"
   ]
  },
  {
   "attachments": {},
   "cell_type": "markdown",
   "metadata": {},
   "source": [
    "To access the shape of a matrix or vector once it's been created as a NumPy array, we call the .shape attribute of the array variable:"
   ]
  },
  {
   "cell_type": "code",
   "execution_count": 6,
   "metadata": {},
   "outputs": [
    {
     "data": {
      "text/plain": [
       "(2, 2)"
      ]
     },
     "execution_count": 6,
     "metadata": {},
     "output_type": "execute_result"
    }
   ],
   "source": [
    "A = np.array([[1,2],[3,4]])\n",
    "A.shape"
   ]
  },
  {
   "attachments": {},
   "cell_type": "markdown",
   "metadata": {},
   "source": [
    "To access individual elements in a NumPy array, we can index the array using square brackets. Unlike regular Python lists, we can index into all dimension in a single square bracket, separating the dimension indices with commas.\n",
    "\n",
    "Thus in order to index the element equal to 2 in matrix A:"
   ]
  },
  {
   "cell_type": "code",
   "execution_count": 7,
   "metadata": {},
   "outputs": [
    {
     "data": {
      "text/plain": [
       "2"
      ]
     },
     "execution_count": 7,
     "metadata": {},
     "output_type": "execute_result"
    }
   ],
   "source": [
    "A = np.array([[1,2],[3,4]])\n",
    "A[0,1]"
   ]
  },
  {
   "attachments": {},
   "cell_type": "markdown",
   "metadata": {},
   "source": [
    "The first index accesses the specific row, while the second index accesses the specific column. Note that rows and columns are zero-indexed."
   ]
  },
  {
   "attachments": {},
   "cell_type": "markdown",
   "metadata": {},
   "source": [
    "We can select a subset or entire dimension of a Numpy array using a colon. For example, if we want the entire second column of a matrix, we can index the second column and use an empty colon to select every row as such:"
   ]
  },
  {
   "cell_type": "code",
   "execution_count": 8,
   "metadata": {},
   "outputs": [
    {
     "data": {
      "text/plain": [
       "array([2, 4])"
      ]
     },
     "execution_count": 8,
     "metadata": {},
     "output_type": "execute_result"
    }
   ],
   "source": [
    "A = np.array([[1,2],[3,4]])\n",
    "A[:,1]"
   ]
  },
  {
   "attachments": {},
   "cell_type": "markdown",
   "metadata": {},
   "source": [
    "Note that [2, 4] is a column vector, but it outputs in the terminal horizontally."
   ]
  },
  {
   "cell_type": "code",
   "execution_count": 9,
   "metadata": {},
   "outputs": [
    {
     "name": "stdout",
     "output_type": "stream",
     "text": [
      "[[-2  4  5]\n",
      " [-6  1 -7]\n",
      " [ 2 -3  9]\n",
      " [ 3  8  0]]\n",
      "(4, 3)\n",
      "[ 5 -7  9  0]\n"
     ]
    }
   ],
   "source": [
    "# Given vectors\n",
    "vector_1 = np.array([-2,-6,2,3])\n",
    "vector_2 = np.array([4,1,-3,8])\n",
    "vector_3 = np.array([5,-7,9,0])\n",
    "\n",
    "matrix = np.column_stack((vector_1, vector_2, vector_3))\n",
    "\n",
    "print(matrix)\n",
    "\n",
    "print(matrix.shape)\n",
    "\n",
    "print(matrix[:,2])"
   ]
  },
  {
   "attachments": {},
   "cell_type": "markdown",
   "metadata": {},
   "source": [
    "### Using NumPy for Linear Algebra Operations"
   ]
  },
  {
   "attachments": {},
   "cell_type": "markdown",
   "metadata": {},
   "source": [
    "Now that we know how to use NumPy arrays to create vectors and matrices, we can learn how to perform various linear algebra operations using Python.\n",
    "\n",
    "To multiply a vector or matrix by a scalar, we use inbuilt Python multiplication between the NumPy array and the scalar:"
   ]
  },
  {
   "cell_type": "code",
   "execution_count": 10,
   "metadata": {},
   "outputs": [
    {
     "data": {
      "text/plain": [
       "array([[ 4,  8],\n",
       "       [12, 16]])"
      ]
     },
     "execution_count": 10,
     "metadata": {},
     "output_type": "execute_result"
    }
   ],
   "source": [
    "A = np.array([[1,2],[3,4]])\n",
    "4 * A"
   ]
  },
  {
   "attachments": {},
   "cell_type": "markdown",
   "metadata": {},
   "source": [
    "To add equally sized vectors or matrices, we can againg use inbuilt Python addition between the NumPy arrays."
   ]
  },
  {
   "cell_type": "code",
   "execution_count": 11,
   "metadata": {},
   "outputs": [
    {
     "data": {
      "text/plain": [
       "array([[-3, -1],\n",
       "       [ 1,  3]])"
      ]
     },
     "execution_count": 11,
     "metadata": {},
     "output_type": "execute_result"
    }
   ],
   "source": [
    "A = np.array([[1,2],[3,4]])\n",
    "B = np.array([[-4,-3],[-2,-1]])\n",
    "A + B"
   ]
  },
  {
   "attachments": {},
   "cell_type": "markdown",
   "metadata": {},
   "source": [
    "Vector dot products can be computed using the np.dot() function:"
   ]
  },
  {
   "cell_type": "code",
   "execution_count": 12,
   "metadata": {},
   "outputs": [
    {
     "data": {
      "text/plain": [
       "-12"
      ]
     },
     "execution_count": 12,
     "metadata": {},
     "output_type": "execute_result"
    }
   ],
   "source": [
    "v = np.array([-1,-2,-3])\n",
    "u = np.array([2,2,2])\n",
    "\n",
    "np.dot(v,u)"
   ]
  },
  {
   "attachments": {},
   "cell_type": "markdown",
   "metadata": {},
   "source": [
    "Matrix multiplication is computed using either the np.matmul() function or using the @ symbol as shorthand. It is important to note that using the typical Python multiplication symbol * will result in an elementwise multiplication instead."
   ]
  },
  {
   "cell_type": "code",
   "execution_count": 13,
   "metadata": {},
   "outputs": [
    {
     "data": {
      "text/plain": [
       "array([[ -8,  -5],\n",
       "       [-20, -13]])"
      ]
     },
     "execution_count": 13,
     "metadata": {},
     "output_type": "execute_result"
    }
   ],
   "source": [
    "A = np.array([[1,2],[3,4]])\n",
    "B = np.array([[-4,-3],[-2,-1]])\n",
    "\n",
    "# one way\n",
    "np.matmul(A,B)\n",
    "\n",
    "# another\n",
    "A@B"
   ]
  },
  {
   "attachments": {},
   "cell_type": "markdown",
   "metadata": {},
   "source": [
    "1. Calculate the following equation using NumPy:\n",
    "$$\n",
    "D=4A−2BD\n",
    "$$\n",
    "\n",
    "2. Save your equation to a variable called D and print it in the output terminal."
   ]
  },
  {
   "cell_type": "code",
   "execution_count": 14,
   "metadata": {},
   "outputs": [
    {
     "data": {
      "text/plain": [
       "array([[  6,  14, -24],\n",
       "       [-14,  10, -18]])"
      ]
     },
     "execution_count": 14,
     "metadata": {},
     "output_type": "execute_result"
    }
   ],
   "source": [
    "# Given\n",
    "# 2 x 3 matrix\n",
    "A = np.array([[2,3,-4], [-2, 1, -3]])\n",
    "# 2 x 3 matrix\n",
    "B = np.array([[1,-1,4], [3,-3,3]])\n",
    "# 3 x 2 matrix\n",
    "C = np.array([[1, 2], [3, 4], [5, 6]])\n",
    "\n",
    "# Calculate D = 4A - 2B\n",
    "D = 4 * A - 2 * B\n",
    "D"
   ]
  },
  {
   "attachments": {},
   "cell_type": "markdown",
   "metadata": {},
   "source": [
    "Calculate the following matrix multiplication equation using NumPy:\n",
    "\n",
    "E=ACE = ACE=AC\n",
    "\n",
    "Save your equation to a variable called E and print it in the output terminal. Try calculating by hand before or after using Python to verify you understand how the operation works!\n",
    "\n",
    "What is the shape of our resulting matrix? Why is this?\n"
   ]
  },
  {
   "cell_type": "code",
   "execution_count": 15,
   "metadata": {},
   "outputs": [
    {
     "data": {
      "text/plain": [
       "array([[ -9,  -8],\n",
       "       [-14, -18]])"
      ]
     },
     "execution_count": 15,
     "metadata": {},
     "output_type": "execute_result"
    }
   ],
   "source": [
    "E = A@C\n",
    "E"
   ]
  },
  {
   "attachments": {},
   "cell_type": "markdown",
   "metadata": {},
   "source": [
    "Calculate the following matrix multiplication equation using NumPy:\n",
    "\n",
    "F=CA\n",
    "\n",
    "Save your equation to a variable called F and print it in the output terminal. Try calculating by hand before or after using Python to verify you understand how the operation works!\n",
    "\n",
    "What is the shape of our resulting matrix? Is the shape of matrix F different from the shape of matrix E? Why is this?\n"
   ]
  },
  {
   "cell_type": "code",
   "execution_count": 16,
   "metadata": {},
   "outputs": [
    {
     "data": {
      "text/plain": [
       "array([[ -2,   5, -10],\n",
       "       [ -2,  13, -24],\n",
       "       [ -2,  21, -38]])"
      ]
     },
     "execution_count": 16,
     "metadata": {},
     "output_type": "execute_result"
    }
   ],
   "source": [
    "F = C@A\n",
    "F"
   ]
  },
  {
   "attachments": {},
   "cell_type": "markdown",
   "metadata": {},
   "source": [
    "This time the resulting matrix is 3x3 because matrix C has three rows and matrix B has three columns."
   ]
  },
  {
   "attachments": {},
   "cell_type": "markdown",
   "metadata": {},
   "source": [
    "### Special Matrices"
   ]
  },
  {
   "attachments": {},
   "cell_type": "markdown",
   "metadata": {},
   "source": [
    "In addition to having built-in support for many linear algebra-related operations, Let’s see how NumPy can create special matrices, such as the identity matrix. \n",
    "\n",
    "An identity matrix can be constructed using the np.eye() functions, which takes an integer argument that determines the n x n size of the square identity matrix."
   ]
  },
  {
   "cell_type": "code",
   "execution_count": 17,
   "metadata": {},
   "outputs": [
    {
     "data": {
      "text/plain": [
       "array([[1., 0., 0., 0.],\n",
       "       [0., 1., 0., 0.],\n",
       "       [0., 0., 1., 0.],\n",
       "       [0., 0., 0., 1.]])"
      ]
     },
     "execution_count": 17,
     "metadata": {},
     "output_type": "execute_result"
    }
   ],
   "source": [
    "# 4x4 identity matrix\n",
    "identity = np.eye(4)\n",
    "identity"
   ]
  },
  {
   "attachments": {},
   "cell_type": "markdown",
   "metadata": {},
   "source": [
    "A matrix or vector of all zeros can be constructed using the np.zeros() function, which takes in a tuple argument for the shape of the NumPy array filled with zeros."
   ]
  },
  {
   "cell_type": "code",
   "execution_count": 18,
   "metadata": {},
   "outputs": [
    {
     "data": {
      "text/plain": [
       "array([0., 0., 0., 0., 0.])"
      ]
     },
     "execution_count": 18,
     "metadata": {},
     "output_type": "execute_result"
    }
   ],
   "source": [
    "# 5-element vector of zeros\n",
    "zero_vector = np.zeros((5))\n",
    "zero_vector"
   ]
  },
  {
   "cell_type": "code",
   "execution_count": 19,
   "metadata": {},
   "outputs": [
    {
     "data": {
      "text/plain": [
       "array([[0., 0.],\n",
       "       [0., 0.],\n",
       "       [0., 0.]])"
      ]
     },
     "execution_count": 19,
     "metadata": {},
     "output_type": "execute_result"
    }
   ],
   "source": [
    "# 3x2 matrix of zeros\n",
    "zero_matrix = np.zeros((3,2))\n",
    "zero_matrix"
   ]
  },
  {
   "attachments": {},
   "cell_type": "markdown",
   "metadata": {},
   "source": [
    "The transpose of a matrix can be accessed using the .T attribute of a NumPy array as shown below:"
   ]
  },
  {
   "cell_type": "code",
   "execution_count": 20,
   "metadata": {},
   "outputs": [
    {
     "data": {
      "text/plain": [
       "array([[1, 3],\n",
       "       [2, 4]])"
      ]
     },
     "execution_count": 20,
     "metadata": {},
     "output_type": "execute_result"
    }
   ],
   "source": [
    "A = np.array([[1,2],[3,4]])\n",
    "A_transpose = A.T\n",
    "A_transpose"
   ]
  },
  {
   "attachments": {},
   "cell_type": "markdown",
   "metadata": {},
   "source": [
    "two NumPy arrays are given, A and B, representing two 3x3 matrices. Print out the matrix product of AB and the matrix product of BA.\n",
    "\n",
    "What does this say about the relationship between matrix A and matrix B?"
   ]
  },
  {
   "cell_type": "code",
   "execution_count": 21,
   "metadata": {},
   "outputs": [
    {
     "name": "stdout",
     "output_type": "stream",
     "text": [
      "[[1. 0. 0.]\n",
      " [0. 1. 0.]\n",
      " [0. 0. 1.]]\n",
      "[[1. 0. 0.]\n",
      " [0. 1. 0.]\n",
      " [0. 0. 1.]]\n"
     ]
    }
   ],
   "source": [
    "A = np.array([[1,-1,1], [0,1,0], [-1,2,1]])\n",
    "B = np.array([[0.5,1.5,-0.5], [0,1,0], [0.5,-0.5,0.5]])\n",
    "\n",
    "print(A@B)\n",
    "print(B@A)"
   ]
  },
  {
   "attachments": {},
   "cell_type": "markdown",
   "metadata": {},
   "source": [
    "Since the matrix product of A and B results in the identity matrix, they are inverses of each other."
   ]
  },
  {
   "attachments": {},
   "cell_type": "markdown",
   "metadata": {},
   "source": [
    "Print out the transpose of both matrix A and matrix B. What is the first row of each transposed matrix?"
   ]
  },
  {
   "cell_type": "code",
   "execution_count": 22,
   "metadata": {},
   "outputs": [
    {
     "name": "stdout",
     "output_type": "stream",
     "text": [
      "[[ 1  0 -1]\n",
      " [-1  1  2]\n",
      " [ 1  0  1]]\n",
      "[[ 0.5  0.   0.5]\n",
      " [ 1.5  1.  -0.5]\n",
      " [-0.5  0.   0.5]]\n"
     ]
    }
   ],
   "source": [
    "print(A.T)\n",
    "print(B.T)"
   ]
  },
  {
   "attachments": {},
   "cell_type": "markdown",
   "metadata": {},
   "source": [
    "### Additional Linear Algebra Operations"
   ]
  },
  {
   "attachments": {},
   "cell_type": "markdown",
   "metadata": {},
   "source": [
    "The “norm” (or length/magnitude) of a vector can be found using np.linalg.norm():"
   ]
  },
  {
   "cell_type": "code",
   "execution_count": 23,
   "metadata": {},
   "outputs": [
    {
     "data": {
      "text/plain": [
       "4.58257569495584"
      ]
     },
     "execution_count": 23,
     "metadata": {},
     "output_type": "execute_result"
    }
   ],
   "source": [
    "v = np.array([2,-4,1])\n",
    "v_norm = np.linalg.norm(v)\n",
    "v_norm"
   ]
  },
  {
   "attachments": {},
   "cell_type": "markdown",
   "metadata": {},
   "source": [
    "The inverse of a square matrix, if one exists, can be found using np.linalg.inv():"
   ]
  },
  {
   "cell_type": "code",
   "execution_count": 24,
   "metadata": {},
   "outputs": [
    {
     "data": {
      "text/plain": [
       "array([[-2. ,  1. ],\n",
       "       [ 1.5, -0.5]])"
      ]
     },
     "execution_count": 24,
     "metadata": {},
     "output_type": "execute_result"
    }
   ],
   "source": [
    "A = np.array([[1,2],[3,4]])\n",
    "np.linalg.inv(A)"
   ]
  },
  {
   "attachments": {},
   "cell_type": "markdown",
   "metadata": {},
   "source": [
    "We can actually solve for unknown variables in a system on linear equations in Ax=b form using np.linalg.solve(), which takes in the A and b parameters."
   ]
  },
  {
   "cell_type": "code",
   "execution_count": 25,
   "metadata": {},
   "outputs": [
    {
     "data": {
      "text/plain": [
       "(0.0, 0.0, 1.0)"
      ]
     },
     "execution_count": 25,
     "metadata": {},
     "output_type": "execute_result"
    }
   ],
   "source": [
    "'''\n",
    "x + 4y -  z = -1\n",
    "-x - 3y + 2z =  2\n",
    "2x -  y - 2z = -2\n",
    "'''\n",
    "\n",
    "# We convert to Ax=b form and solve:\n",
    "\n",
    "# Each array in A is an equation from the above system of equations\n",
    "A = np.array([[1,4,-1],[-1,-3,2],[2,-1,-2]])\n",
    "\n",
    "# The solution to each equation\n",
    "b = np.array([-1,2,-2])\n",
    "\n",
    "# Solve for x, y, and z\n",
    "x, y, z = np.linalg.solve(A, b)\n",
    "\n",
    "x, y, z"
   ]
  },
  {
   "attachments": {},
   "cell_type": "markdown",
   "metadata": {},
   "source": [
    "We have a system of equations. Let’s put this in the form Ax=b and solve the system using NumPy.\n",
    "\n",
    "First, let’s define A using a NumPy array. Save this NumPy array in a variable called A. When you define A, pay attention to the coefficients in each equation.\n"
   ]
  },
  {
   "cell_type": "code",
   "execution_count": 26,
   "metadata": {},
   "outputs": [
    {
     "data": {
      "text/plain": [
       "(6.0, -62.0, -22.0)"
      ]
     },
     "execution_count": 26,
     "metadata": {},
     "output_type": "execute_result"
    }
   ],
   "source": [
    "'''\n",
    "4x + z = 2\n",
    "-y + 2z - 3x = 0\n",
    ".5y - x - 1.5z = -4\n",
    "'''\n",
    "A = np.array([[4,0,1],[-3,-1,2],[-1,.5,-1.5]])\n",
    "b = np.array([2,0,-4])\n",
    "x, y, z = np.linalg.solve(A, b)\n",
    "\n",
    "x, y, z"
   ]
  },
  {
   "attachments": {},
   "cell_type": "markdown",
   "metadata": {},
   "source": [
    "### Transforming a vector using NumPy"
   ]
  },
  {
   "attachments": {},
   "cell_type": "markdown",
   "metadata": {},
   "source": [
    "When thinking in terms of basis vectors, I prefer to break out the basis vectors and\n",
    "then compose them together into a matrix. Just note you will need to transpose, or\n",
    "swap the columns and rows. This is because NumPy’s array() function will do the\n",
    "opposite orientation we want, populating each vector as a row rather than a column."
   ]
  },
  {
   "cell_type": "code",
   "execution_count": 27,
   "metadata": {},
   "outputs": [
    {
     "name": "stdout",
     "output_type": "stream",
     "text": [
      "[4 3]\n"
     ]
    }
   ],
   "source": [
    "from numpy import array\n",
    "\n",
    "# Declare i-hat and j-hat\n",
    "i_hat = array([2,0])\n",
    "j_hat = array([0,3])\n",
    "\n",
    "# Compose basis matrix using i-hat and j-hat\n",
    "# also need to transpose rows into columns\n",
    "basis = array([i_hat, j_hat]).transpose()\n",
    "\n",
    "# Declare vector v\n",
    "v = array([2,1])\n",
    "\n",
    "# Create a new vector\n",
    "# by transforming v with dot product\n",
    "new_v = basis.dot(v)\n",
    "\n",
    "print(new_v)"
   ]
  },
  {
   "attachments": {},
   "cell_type": "markdown",
   "metadata": {},
   "source": [
    "https://www.evernote.com/shard/s468/sh/9db8c9c8-ac87-66b3-febb-efd02d165282/zcyGK36a7KA1_zWFbjIRf4TVz-qDovv-ewWyUwhI_ifLPKpErm4mxUzvDA"
   ]
  },
  {
   "attachments": {},
   "cell_type": "markdown",
   "metadata": {},
   "source": [
    "Here is an example that jumps things up a notch. Let’s take vector v of value [2, 1]. i\n",
    "and j start at [1, 0] and [0, 1], but then are transformed and land at [2, 3] and [2, -1].\n",
    "What happens to v ?"
   ]
  },
  {
   "cell_type": "code",
   "execution_count": 28,
   "metadata": {},
   "outputs": [
    {
     "name": "stdout",
     "output_type": "stream",
     "text": [
      "[6 5]\n"
     ]
    }
   ],
   "source": [
    "# Declare i-hat and j-hat\n",
    "i_hat = array([2,3])\n",
    "j_hat = array([2,-1])\n",
    "\n",
    "# Compose basis matrix using i-hat and j-hat\n",
    "# Also need to transpose rows into columns\n",
    "basis = array([i_hat, j_hat]).T\n",
    "\n",
    "# Declare vector v\n",
    "v = array([2,1])\n",
    "\n",
    "# Transform v with dot product\n",
    "new_v = basis.dot(v)\n",
    "\n",
    "print(new_v)"
   ]
  },
  {
   "attachments": {},
   "cell_type": "markdown",
   "metadata": {},
   "source": [
    "https://www.evernote.com/shard/s468/sh/d85298b3-9bca-ad6c-42f7-06d897515872/AGu6ogZ3LrPiJCRXKT0hfa9KaaruaLTHG0dXv1vUVh8bLvMm63fP5adwrg"
   ]
  },
  {
   "attachments": {},
   "cell_type": "markdown",
   "metadata": {},
   "source": [
    "A lot has happened here. Not only did we scale i and j and elongate vector v . We\n",
    "actually sheared, rotated, and flipped space, too. You know space was flipped when i\n",
    "and j change places in their clockwise orientation, and we will learn how to detect\n",
    "this with determinants later in this chapter."
   ]
  },
  {
   "attachments": {},
   "cell_type": "markdown",
   "metadata": {},
   "source": [
    "### Matrix Multiplication"
   ]
  },
  {
   "attachments": {},
   "cell_type": "markdown",
   "metadata": {},
   "source": [
    "We learned how to multiply a vector and a matrix, but what exactly does multiply two matrices accomplish? Think of matrix multiplication as applying multiple transformations to a vector space. Each transformation is like a function, where we apply the innermost first and then we apply each subsequent transformation outwards."
   ]
  },
  {
   "cell_type": "code",
   "execution_count": 29,
   "metadata": {},
   "outputs": [
    {
     "name": "stdout",
     "output_type": "stream",
     "text": [
      "COMBINED MATRIX:\n",
      " [[ 1 -1]\n",
      " [ 1  0]]\n",
      "[-1  1]\n"
     ]
    }
   ],
   "source": [
    "## Combining two transformations\n",
    "from numpy import array\n",
    "\n",
    "# Transformation 1\n",
    "i_hat1 = array([0, 1])\n",
    "j_hat1 = array([-1, 0])\n",
    "transform1 = array([i_hat1,j_hat1]).transpose()\n",
    "\n",
    "# Transformation 2\n",
    "i_hat2 = array([1, 0])\n",
    "j_hat2 = array([1, 1])\n",
    "transform2 = array([i_hat2, j_hat2]).transpose()\n",
    "\n",
    "# Combine Transformations\n",
    "combined = transform2 @ transform1\n",
    "\n",
    "# Test\n",
    "print(\"COMBINED MATRIX:\\n {}\".format(combined))\n",
    "\n",
    "v = array([1, 2])\n",
    "print(combined.dot(v))\n"
   ]
  },
  {
   "attachments": {},
   "cell_type": "markdown",
   "metadata": {},
   "source": [
    "Note that we also could have applied each transformation individually to vector v\n",
    "and still have gotten the same result. If you replace the last line with these three lines\n",
    "applying each transformation, you will still get [-1, 1] on that new vector:"
   ]
  },
  {
   "cell_type": "code",
   "execution_count": 30,
   "metadata": {},
   "outputs": [
    {
     "name": "stdout",
     "output_type": "stream",
     "text": [
      "[-1  1]\n"
     ]
    }
   ],
   "source": [
    "rotated = transform1.dot(v)\n",
    "sheered = transform2.dot(rotated)\n",
    "print(sheered)"
   ]
  },
  {
   "attachments": {},
   "cell_type": "markdown",
   "metadata": {},
   "source": [
    "Note that the order you apply each transformation matters! If we apply transfor\n",
    "mation1 on transformation2 , we get a different result of [-2, 3]. So matrix dot products are not commutative, meaning you cannot flip\n",
    "the order and expect the same result!"
   ]
  },
  {
   "cell_type": "code",
   "execution_count": 31,
   "metadata": {},
   "outputs": [
    {
     "name": "stdout",
     "output_type": "stream",
     "text": [
      "COMBINED MATRIX:\n",
      " [[ 0 -1]\n",
      " [ 1  1]]\n",
      "[-2  3]\n"
     ]
    }
   ],
   "source": [
    "# Transformation 1\n",
    "i_hat1 = array([0, 1])\n",
    "j_hat1 = array([-1, 0])\n",
    "transform1 = array([i_hat1, j_hat1]).transpose()\n",
    "# Transformation 2\n",
    "i_hat2 = array([1, 0])\n",
    "j_hat2 = array([1, 1])\n",
    "transform2 = array([i_hat2, j_hat2]).transpose()\n",
    "# Combine Transformations, apply sheer first and then rotation\n",
    "combined = transform1 @ transform2\n",
    "# Test\n",
    "print(\"COMBINED MATRIX:\\n {}\".format(combined))\n",
    "v = array([1, 2])\n",
    "print(combined.dot(v))"
   ]
  },
  {
   "attachments": {},
   "cell_type": "markdown",
   "metadata": {},
   "source": [
    "### Determinants"
   ]
  },
  {
   "attachments": {},
   "cell_type": "markdown",
   "metadata": {},
   "source": [
    "Determinants describe how much a sample area in a vector space changes in scale with linear transformations."
   ]
  },
  {
   "cell_type": "code",
   "execution_count": 32,
   "metadata": {},
   "outputs": [
    {
     "name": "stdout",
     "output_type": "stream",
     "text": [
      "6.0\n"
     ]
    }
   ],
   "source": [
    "from numpy.linalg import det\n",
    "from numpy import array\n",
    "\n",
    "i_hat = array([3, 0])\n",
    "j_hat = array([0, 2])\n",
    "\n",
    "basis = array([i_hat, j_hat]).transpose()\n",
    "\n",
    "determinant = det(basis)\n",
    "\n",
    "print(determinant)"
   ]
  },
  {
   "attachments": {},
   "cell_type": "markdown",
   "metadata": {},
   "source": [
    "Simple shears and rotations should not affect the determinant, as the area will not change. But scaling will increase or decrease the determinant, as that will increase/decrease the sampled area.When the orientation flips ( i , j swap clockwise positions), then the determinant will be negative."
   ]
  },
  {
   "attachments": {},
   "cell_type": "markdown",
   "metadata": {},
   "source": [
    "> *But by far the most critical piece of information the determinant tells you is whether\n",
    "the transformation is linearly dependent. If you have a determinant of 0, that means\n",
    "all of the space has been squished into a lesser dimension.*"
   ]
  },
  {
   "attachments": {},
   "cell_type": "markdown",
   "metadata": {},
   "source": [
    "https://www.evernote.com/shard/s468/sh/bcd36bff-9793-b0e3-0b24-1f08874638cd/hztsNDbS7SR597Y_vlI4SQb6APW3i-Ya7oPdMvcdERu06inHGQDjFEtvtQ"
   ]
  },
  {
   "cell_type": "code",
   "execution_count": 33,
   "metadata": {},
   "outputs": [
    {
     "name": "stdout",
     "output_type": "stream",
     "text": [
      "0.0\n"
     ]
    }
   ],
   "source": [
    "from numpy.linalg import det\n",
    "from numpy import array\n",
    "\n",
    "i_hat = array([-2, 1])\n",
    "j_hat = array([3, -1.5])\n",
    "\n",
    "basis = array([i_hat, j_hat]).transpose()\n",
    "\n",
    "determinant = det(basis)\n",
    "\n",
    "print(determinant)"
   ]
  },
  {
   "attachments": {},
   "cell_type": "markdown",
   "metadata": {},
   "source": [
    "So testing for a 0 determinant is highly helpful to determine if a transformation\n",
    "has linear dependence. `When you encounter this you will likely find a difficult or\n",
    "unsolvable problem on your hands.`"
   ]
  },
  {
   "attachments": {},
   "cell_type": "markdown",
   "metadata": {},
   "source": [
    "### Special Types of Matrices"
   ]
  },
  {
   "attachments": {},
   "cell_type": "markdown",
   "metadata": {},
   "source": [
    "#### Square Matrix\n",
    "The square matrix is a matrix that has an equal number of rows and columns. They are primarily used to represent linear transformations and are a requirement for many operations like eigendecomposition."
   ]
  },
  {
   "attachments": {},
   "cell_type": "markdown",
   "metadata": {},
   "source": [
    "#### Identity Matrix\n",
    "The identity matrix is a square matrix that has a diagonal of 1s while the other values are 0.\n",
    "\n",
    "What’s the big deal with identity matrices? Well, when you have an identity matrix, you essentially have `undone a transformation` and found your starting basis vectors.This will play a big role in solving systems of equations."
   ]
  },
  {
   "attachments": {},
   "cell_type": "markdown",
   "metadata": {},
   "source": [
    "#### Inverse Matrix\n",
    "An inverse matrix is a matrix that undoes the transformation of another matrix. The inverse of matrix $A$ is called ${}A^{-1}$ . When we perform matrix multiplication between ${}A^{-1}$ and $A$, we end up with an `identity matrix`."
   ]
  },
  {
   "attachments": {},
   "cell_type": "markdown",
   "metadata": {},
   "source": [
    "#### Diagonal Matrix\n",
    "Similar to the identity matrix is the diagonal matrix, which has a diagonal of nonzero values while the rest of the values are 0. Diagonal matrices are desirable in certain computations because they represent `simple scalars` being applied to a vector space. It shows up in some linear algebra operations."
   ]
  },
  {
   "attachments": {},
   "cell_type": "markdown",
   "metadata": {},
   "source": [
    "#### Triangular Matrix\n",
    "Similar to the diagonal matrix is the triangular matrix, which has a diagonal of nonzero values in front of a triangle of values, while the rest of the values are 0.\n",
    "\n",
    "Triangular matrices are desirable in many numerical analysis tasks, because they typically are easier to solve in systems of equations. They also show up in certain decomposition tasks like LU Decomposition."
   ]
  },
  {
   "attachments": {},
   "cell_type": "markdown",
   "metadata": {},
   "source": [
    "### Systems of Equations and Inverse Matrices"
   ]
  },
  {
   "attachments": {},
   "cell_type": "markdown",
   "metadata": {},
   "source": [
    "One of the basic use cases for linear algebra is solving systems of equations. It is also\n",
    "a good application to learn about inverse matrices. Let’s say you are provided with the\n",
    "following equations and you need to solve for x, y, and z:\n",
    "$$\n",
    "4x + 2y + 4z = 44\\\\\n",
    "5x + 3y + 7z = 56\\\\\n",
    "9x + 3y + 6z = 72\\\\\n",
    "$$"
   ]
  },
  {
   "attachments": {},
   "cell_type": "markdown",
   "metadata": {},
   "source": [
    "You can try manually experimenting with different algebraic operations to isolate the\n",
    "three variables, but if you want a computer to solve it you will need to express this\n",
    "problem in terms of matrices as shown next. Extract the coefficients into matrix A,\n",
    "the values on the right side of the equation into matrix B, and the unknown variables\n",
    "into matrix X:\n",
    "$$\n",
    "A =\n",
    "\\left[\n",
    "\\begin{matrix}\n",
    "4&2&4\\\\\n",
    "5&3&7\\\\\n",
    "9&3&6\n",
    "\\end{matrix}\n",
    "\\right]\n",
    "$$\n",
    "\n",
    "$$\n",
    "B =\n",
    "\\left[\n",
    "\\begin{matrix}\n",
    "44\\\\\n",
    "56\\\\\n",
    "72\n",
    "\\end{matrix}\n",
    "\\right]\n",
    "$$\n",
    "\n",
    "$$\n",
    "X =\n",
    "\\left[\n",
    "\\begin{matrix}\n",
    "x\\\\\n",
    "y\\\\\n",
    "z\n",
    "\\end{matrix}\n",
    "\\right]\n",
    "$$\n"
   ]
  },
  {
   "attachments": {},
   "cell_type": "markdown",
   "metadata": {},
   "source": [
    "The function for a linear system of equations is $AX = B$. We need to transform matrix $A$ with some other matrix $X$ that will result in matrix B:"
   ]
  },
  {
   "attachments": {},
   "cell_type": "markdown",
   "metadata": {},
   "source": [
    "$$\n",
    "AX = B\\\\\n",
    "{}A^{-1} AX = {}A^{-1} B\\\\\n",
    "X = {}A^{-1} B\n",
    "$$"
   ]
  },
  {
   "attachments": {},
   "cell_type": "markdown",
   "metadata": {},
   "source": [
    "To calculate the inverse of matrix A, we probably use a computer rather than search‐\n",
    "ing for solutions by hand using Gaussian elimination, which we will not venture into\n",
    "in this book. Here is the inverse of matrix A:"
   ]
  },
  {
   "cell_type": "code",
   "execution_count": 34,
   "metadata": {},
   "outputs": [
    {
     "name": "stdout",
     "output_type": "stream",
     "text": [
      "INVERSE: Matrix([[-1/2, 0, 1/3], [11/2, -2, -4/3], [-2, 1, 1/3]])\n",
      "IDENTITY: Matrix([[1, 0, 0], [0, 1, 0], [0, 0, 1]])\n",
      "Matrix([[2], [34], [-8]])\n"
     ]
    }
   ],
   "source": [
    "from sympy import *\n",
    "\n",
    "# 4x + 2y + 4z = 44\n",
    "# 5x + 3y + 7z = 56\n",
    "# 9x + 3y + 6z = 72\n",
    "\n",
    "A = Matrix([\n",
    "[4, 2, 4],\n",
    "[5, 3, 7],\n",
    "[9, 3, 6]\n",
    "])\n",
    "\n",
    "# dot product between A and its inverse\n",
    "# will produce identity function\n",
    "inverse = A.inv()\n",
    "identity = inverse * A #in SymPy we use the asterisk * rather than @\n",
    "\n",
    "print(\"INVERSE: {}\".format(inverse))\n",
    "print(\"IDENTITY: {}\".format(identity))\n",
    "\n",
    "B = Matrix([\n",
    "44,\n",
    "56,\n",
    "72\n",
    "])\n",
    "\n",
    "X = A.inv() * B\n",
    "\n",
    "print(X)"
   ]
  },
  {
   "cell_type": "code",
   "execution_count": 35,
   "metadata": {},
   "outputs": [
    {
     "name": "stdout",
     "output_type": "stream",
     "text": [
      "[ 2. 34. -8.]\n"
     ]
    }
   ],
   "source": [
    "from numpy import array\n",
    "from numpy.linalg import inv\n",
    "# 4x + 2y + 4z = 44\n",
    "# 5x + 3y + 7z = 56\n",
    "# 9x + 3y + 6z = 72\n",
    "A = array([\n",
    "[4, 2, 4],\n",
    "[5, 3, 7],\n",
    "[9, 3, 6]\n",
    "])\n",
    "B = array([\n",
    "44,\n",
    "56,\n",
    "72\n",
    "])\n",
    "X = inv(A).dot(B)\n",
    "print(X) # [ 2. 34. -8.]"
   ]
  },
  {
   "attachments": {},
   "cell_type": "markdown",
   "metadata": {},
   "source": [
    "### Eigenvectors and Eigenvalues"
   ]
  },
  {
   "attachments": {},
   "cell_type": "markdown",
   "metadata": {},
   "source": [
    "`Matrix decomposition` is breaking up a matrix into its basic components, much like\n",
    "factoring numbers (e.g., 10 can be factored to 2 × 5).\n",
    "\n",
    "Matrix decomposition is helpful for tasks like finding inverse matrices and calculating\n",
    "determinants, as well as linear regression. There are many ways to decompose a matrix, but let’s focus on a common method called eigendecomposition,\n",
    "which is often used for machine learning and principal component analysis.\n",
    "\n",
    "In eigendecomposition, there are two components: the eigenvalues denoted by\n",
    "lambda λ and eigenvector by v shown in Figure 4-24."
   ]
  },
  {
   "attachments": {},
   "cell_type": "markdown",
   "metadata": {},
   "source": [
    "https://www.evernote.com/shard/s468/sh/d7bc2ee9-0d1e-3c6f-9147-5d3ba7960bab/uAQy7f3RTLv5NByhDVoImWD2nA0RuZdLljZFT4v6ygwZpc9yp_ectgdqbg"
   ]
  },
  {
   "attachments": {},
   "cell_type": "markdown",
   "metadata": {},
   "source": [
    "If we have a square matrix A, it has the following eigenvalue equation:\n",
    "Av = λv"
   ]
  },
  {
   "attachments": {},
   "cell_type": "markdown",
   "metadata": {},
   "source": [
    "If A is the original matrix, it is composed of eigenvector v and eigenvalue λ . There is\n",
    "one eigenvector and eigenvalue for each dimension of the parent matrix, and not all\n",
    "matrices can be decomposed into an eigenvector and eigenvalue. Sometimes complex\n",
    "(imaginary) numbers will even result."
   ]
  },
  {
   "cell_type": "code",
   "execution_count": 36,
   "metadata": {},
   "outputs": [
    {
     "name": "stdout",
     "output_type": "stream",
     "text": [
      "EIGENVALUES\n",
      "[-0.46410162  6.46410162]\n",
      "\n",
      "EIGENVECTORS\n",
      "[[-0.80689822 -0.34372377]\n",
      " [ 0.59069049 -0.9390708 ]]\n"
     ]
    }
   ],
   "source": [
    "from numpy import array, diag\n",
    "from numpy.linalg import eig, inv\n",
    "\n",
    "A = array([\n",
    "[1, 2],\n",
    "[4, 5]\n",
    "])\n",
    "\n",
    "eigenvals, eigenvecs = eig(A)\n",
    "print(\"EIGENVALUES\")\n",
    "print(eigenvals)\n",
    "print(\"\\nEIGENVECTORS\")\n",
    "print(eigenvecs)"
   ]
  },
  {
   "attachments": {},
   "cell_type": "markdown",
   "metadata": {},
   "source": [
    "So how do we rebuild matrix A from the eigenvectors and eigenvalues? Recall this\n",
    "formula:\n",
    "Av = λv\n",
    "We need to make a few tweaks to the formula to reconstruct A:\n",
    "A = QΛQ −1\n",
    "In this new formula, Q is the eigenvectors, Λ is the eigenvalues in diagonal form,\n",
    "and Q −1 is the inverse matrix of Q . Diagonal form means the vector is padded into\n",
    "a matrix of zeroes and occupies the diagonal line in a similar pattern to an identity\n",
    "matrix."
   ]
  },
  {
   "cell_type": "code",
   "execution_count": 37,
   "metadata": {},
   "outputs": [
    {
     "name": "stdout",
     "output_type": "stream",
     "text": [
      "EIGENVALUES\n",
      "[-0.46410162  6.46410162]\n",
      "\n",
      "EIGENVECTORS\n",
      "[[-0.80689822 -0.34372377]\n",
      " [ 0.59069049 -0.9390708 ]]\n",
      "\n",
      "REBUILD MATRIX\n",
      "[[1. 2.]\n",
      " [4. 5.]]\n"
     ]
    }
   ],
   "source": [
    "from numpy import array, diag\n",
    "from numpy.linalg import eig, inv\n",
    "A = array([\n",
    "[1, 2],\n",
    "[4, 5]\n",
    "])\n",
    "\n",
    "eigenvals, eigenvecs = eig(A)\n",
    "\n",
    "print(\"EIGENVALUES\")\n",
    "print(eigenvals)\n",
    "\n",
    "print(\"\\nEIGENVECTORS\")\n",
    "print(eigenvecs)\n",
    "\n",
    "print(\"\\nREBUILD MATRIX\")\n",
    "\n",
    "Q = eigenvecs\n",
    "R = inv(Q)\n",
    "L = diag(eigenvals)\n",
    "B = Q @ L @ R\n",
    "\n",
    "print(B)\n"
   ]
  },
  {
   "cell_type": "code",
   "execution_count": 38,
   "metadata": {},
   "outputs": [
    {
     "data": {
      "text/plain": [
       "array([[  1,   1,  -4],\n",
       "       [-15,  13,  -4],\n",
       "       [ -2,   2,   4]])"
      ]
     },
     "execution_count": 38,
     "metadata": {},
     "output_type": "execute_result"
    }
   ],
   "source": [
    "import numpy as np\n",
    "\n",
    "A = np.array([[2,-3,1],[-2,-1,4],[0,2,2]])\n",
    "B = np.array([[3,-2,1],[1,-1,2],[-2,2,0]])\n",
    "\n",
    "C = A@B\n",
    "C"
   ]
  },
  {
   "cell_type": "code",
   "execution_count": 39,
   "metadata": {},
   "outputs": [
    {
     "data": {
      "text/plain": [
       "array([ 13, -14,  14])"
      ]
     },
     "execution_count": 39,
     "metadata": {},
     "output_type": "execute_result"
    }
   ],
   "source": [
    "A = np.array([3,-2,2])\n",
    "B = np.array([1,2,-2])\n",
    "C = 5*A - 2*B\n",
    "C"
   ]
  },
  {
   "cell_type": "code",
   "execution_count": 40,
   "metadata": {},
   "outputs": [
    {
     "name": "stdout",
     "output_type": "stream",
     "text": [
      "[-0.33333333 -0.66666667  0.66666667]\n"
     ]
    }
   ],
   "source": [
    "from numpy import array\n",
    "from numpy.linalg import inv\n",
    "# 2x - 3y + z = 2\n",
    "# 3x + y + z = -1\n",
    "# -x - 2y - z = 1\n",
    "A = array([\n",
    "[2, -3, 1],\n",
    "[3, 1, 1],\n",
    "[-1, -2, -1]\n",
    "])\n",
    "B = array([\n",
    "2,\n",
    "-1,\n",
    "1\n",
    "])\n",
    "X = inv(A).dot(B)\n",
    "print(X)"
   ]
  },
  {
   "cell_type": "code",
   "execution_count": 41,
   "metadata": {},
   "outputs": [
    {
     "data": {
      "text/plain": [
       "array([[  7,  14],\n",
       "       [-11,  -1]])"
      ]
     },
     "execution_count": 41,
     "metadata": {},
     "output_type": "execute_result"
    }
   ],
   "source": [
    "A = np.array([[2, 3], [-2, 0]])\n",
    "B = np.array([[1,-2], [3,1]])\n",
    "C = 4 * A - B\n",
    "C"
   ]
  },
  {
   "cell_type": "code",
   "execution_count": 42,
   "metadata": {},
   "outputs": [
    {
     "data": {
      "text/plain": [
       "6.244997998398398"
      ]
     },
     "execution_count": 42,
     "metadata": {},
     "output_type": "execute_result"
    }
   ],
   "source": [
    "v = np.array([-2,-3,0,5,1])\n",
    "v_norm = np.linalg.norm(v)\n",
    "v_norm"
   ]
  },
  {
   "cell_type": "code",
   "execution_count": 44,
   "metadata": {},
   "outputs": [
    {
     "data": {
      "text/plain": [
       "[-0.0698162934055920, 5.05592740451670]"
      ]
     },
     "execution_count": 44,
     "metadata": {},
     "output_type": "execute_result"
    }
   ],
   "source": [
    "from sympy import * \n",
    "\n",
    "x = Symbol('x')\n",
    "solve(-14.4*(x**2)+71.8*x+5.083, x)"
   ]
  }
 ],
 "metadata": {
  "kernelspec": {
   "display_name": "codecademy",
   "language": "python",
   "name": "python3"
  },
  "language_info": {
   "codemirror_mode": {
    "name": "ipython",
    "version": 3
   },
   "file_extension": ".py",
   "mimetype": "text/x-python",
   "name": "python",
   "nbconvert_exporter": "python",
   "pygments_lexer": "ipython3",
   "version": "3.11.2"
  },
  "orig_nbformat": 4
 },
 "nbformat": 4,
 "nbformat_minor": 2
}
