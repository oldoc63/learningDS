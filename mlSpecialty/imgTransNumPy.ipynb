{
 "cells": [
  {
   "cell_type": "markdown",
   "metadata": {},
   "source": [
    "## Image Transformations with NumPy"
   ]
  },
  {
   "attachments": {},
   "cell_type": "markdown",
   "metadata": {},
   "source": [
    "In this project, we are going to create and transform images using the power of NumPy arrays and linear algebra. We will see how we can represent NumPy arrays as images and transform those images by treating them as matrices."
   ]
  },
  {
   "attachments": {},
   "cell_type": "markdown",
   "metadata": {},
   "source": [
    "In script.py, there are two things preloaded for you:\n",
    "\n",
    "    heart_img: a NumPy array representing a 7x7 matrix of RGB values\n",
    "    show_image(): a helper function that will allow you to show images easily throughout your project\n",
    "\n",
    "We are going to use show_image() to reveal the photo heart_img represents. Before we do so, let’s go over the functionality of show_image().\n",
    "\n",
    "We are going to use show_image() to reveal the photo heart_img represents. Before we do so, let’s go over the functionality of show_image().\n",
    "\n",
    "show_image() takes in two parameters:\n",
    "\n",
    "    image: a NumPy array of RGB values\n",
    "    name_identifier: a string to title your photo (this will make it easy to keep track of what is being plotted throughout your project)\n",
    "\n",
    "Use show_image() to plot heart_img with the title \"Heart Image\". If you get stuck, click the hint for help."
   ]
  },
  {
   "cell_type": "code",
   "execution_count": 1,
   "metadata": {},
   "outputs": [
    {
     "data": {
      "image/png": "[encoded data removed]",
      "text/plain": [
       "<Figure size 640x480 with 1 Axes>"
      ]
     },
     "metadata": {},
     "output_type": "display_data"
    }
   ],
   "source": [
    "import numpy as np\n",
    "import matplotlib.pyplot as plt\n",
    "\n",
    "heart_img = np.array([[255,0,0,255,0,0,255],\n",
    "              [0,255/2,255/2,0,255/2,255/2,0],\n",
    "          [0,255/2,255/2,255/2,255/2,255/2,0],\n",
    "          [0,255/2,255/2,255/2,255/2,255/2,0],\n",
    "              [255,0,255/2,255/2,255/2,0,255],\n",
    "                  [255,255,0,255/2,0,255,255],\n",
    "                  [255,255,255,0,255,255,255]])\n",
    "\n",
    "# This is a helper function that makes it easy for you to show images!\n",
    "def show_image(image, name_identifier):\n",
    "  plt.imshow(image, cmap=\"gray\")\n",
    "  plt.title(name_identifier)\n",
    "  plt.show()\n",
    "\n",
    "show_image(heart_img, \"Heart Image\")"
   ]
  }
 ],
 "metadata": {
  "kernelspec": {
   "display_name": "codecademy",
   "language": "python",
   "name": "python3"
  },
  "language_info": {
   "codemirror_mode": {
    "name": "ipython",
    "version": 3
   },
   "file_extension": ".py",
   "mimetype": "text/x-python",
   "name": "python",
   "nbconvert_exporter": "python",
   "pygments_lexer": "ipython3",
   "version": "3.9.16"
  },
  "orig_nbformat": 4
 },
 "nbformat": 4,
 "nbformat_minor": 2
}
